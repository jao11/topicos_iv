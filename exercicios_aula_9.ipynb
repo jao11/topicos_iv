{
  "nbformat": 4,
  "nbformat_minor": 0,
  "metadata": {
    "colab": {
      "name": "exercicios_aula_9.ipynb",
      "provenance": [],
      "authorship_tag": "ABX9TyNA6v7hu8Gqv2Mg9QKe8VQe",
      "include_colab_link": true
    },
    "kernelspec": {
      "name": "python3",
      "display_name": "Python 3"
    },
    "language_info": {
      "name": "python"
    }
  },
  "cells": [
    {
      "cell_type": "markdown",
      "metadata": {
        "id": "view-in-github",
        "colab_type": "text"
      },
      "source": [
        "<a href=\"https://colab.research.google.com/github/jao11/topicos_iv/blob/main/exercicios_aula_9.ipynb\" target=\"_parent\"><img src=\"https://colab.research.google.com/assets/colab-badge.svg\" alt=\"Open In Colab\"/></a>"
      ]
    },
    {
      "cell_type": "markdown",
      "metadata": {
        "id": "dMj2GlE8w5TE"
      },
      "source": [
        "AULA 9"
      ]
    },
    {
      "cell_type": "markdown",
      "metadata": {
        "id": "dX09jfIjgIUS"
      },
      "source": [
        "## Exercícios Parte 1:"
      ]
    },
    {
      "cell_type": "markdown",
      "metadata": {
        "id": "CQ9_ui5RgRaf"
      },
      "source": [
        "1) Considere a função abaixo. Esse tipo de função é considerada uma **função modificadora** pois modifica o objeto que é passado como argumento."
      ]
    },
    {
      "cell_type": "code",
      "metadata": {
        "id": "bgnbTQBfwyDi",
        "colab": {
          "base_uri": "https://localhost:8080/"
        },
        "outputId": "deb7f5d5-d21a-435b-8d2a-8a266583212e"
      },
      "source": [
        "def dobrar_elementos(uma_lista):\n",
        "    \"\"\" Reescreve os elementos de uma_lista com o dobro de seus valores originais.\n",
        "    \"\"\"\n",
        "    for (i, valor) in enumerate(uma_lista):\n",
        "        novo_elem = 2 * valor\n",
        "        uma_lista[i] = novo_elem\n",
        "\n",
        "    return uma_lista\n",
        "\n",
        "minha_lista = [2, 4, 6]\n",
        "print(minha_lista)\n",
        "dobrar_elementos(minha_lista)\n",
        "print(minha_lista)"
      ],
      "execution_count": null,
      "outputs": [
        {
          "output_type": "stream",
          "name": "stdout",
          "text": [
            "[2, 4, 6]\n",
            "[4, 8, 12]\n"
          ]
        }
      ]
    },
    {
      "cell_type": "markdown",
      "metadata": {
        "id": "uTesIPVTi7go"
      },
      "source": [
        "a) Modifique a função para retornar uma **nova lista**, sem modificar a lista usada como parâmetro. Esse tipo de função é chamado de **função pura**."
      ]
    },
    {
      "cell_type": "code",
      "metadata": {
        "id": "YR-1yCNui8p0",
        "colab": {
          "base_uri": "https://localhost:8080/"
        },
        "outputId": "b8c3ed5a-6af8-490a-b375-25aafc6892fd"
      },
      "source": [
        "def retorna_a_mesma_lista(uma_lista):\n",
        "    \"\"\" \n",
        "    Retorna uma nova lista, sem modificar a lista usada como parâmetro. Esse tipo de função é chamado de função pura.\n",
        "    \"\"\"\n",
        "    for (i, valor) in enumerate(uma_lista):\n",
        "        novo_elem =  valor\n",
        "        uma_lista[i] = novo_elem\n",
        "\n",
        "    return uma_lista\n",
        "\n",
        "minha_lista = [2, 4, 6]\n",
        "print(minha_lista)\n",
        "retorna_a_mesma_lista(minha_lista)\n",
        "print(minha_lista)"
      ],
      "execution_count": null,
      "outputs": [
        {
          "output_type": "stream",
          "name": "stdout",
          "text": [
            "[2, 4, 6]\n",
            "[2, 4, 6]\n"
          ]
        }
      ]
    },
    {
      "cell_type": "markdown",
      "metadata": {
        "id": "bRy-pQrkgm51"
      },
      "source": [
        "b) Modifique a documentação de ajuda da nova função, de tal forma que quando se chame a função ***help*** da nova função, se obtenha a descrição adequada."
      ]
    },
    {
      "cell_type": "code",
      "metadata": {
        "id": "5SjnEhvEgvoF",
        "colab": {
          "base_uri": "https://localhost:8080/"
        },
        "outputId": "5baa45a6-af14-4b18-e2ab-ee95dd77482c"
      },
      "source": [
        "help(dobrar_elementos)"
      ],
      "execution_count": null,
      "outputs": [
        {
          "output_type": "stream",
          "name": "stdout",
          "text": [
            "Help on function dobrar_elementos in module __main__:\n",
            "\n",
            "dobrar_elementos(uma_lista)\n",
            "    Reescreve os elementos de uma_lista com o dobro de seus valores originais.\n",
            "\n"
          ]
        }
      ]
    },
    {
      "cell_type": "code",
      "metadata": {
        "id": "laCfAQSyi9ft",
        "colab": {
          "base_uri": "https://localhost:8080/"
        },
        "outputId": "172d905c-fecb-40c5-ad56-51b9ff11e9df"
      },
      "source": [
        "help(retorna_a_mesma_lista)"
      ],
      "execution_count": null,
      "outputs": [
        {
          "output_type": "stream",
          "name": "stdout",
          "text": [
            "Help on function retorna_a_mesma_lista in module __main__:\n",
            "\n",
            "retorna_a_mesma_lista(uma_lista)\n",
            "    Retorna uma nova lista, sem modificar a lista usada como parâmetro. Esse tipo de função é chamado de função pura.\n",
            "\n"
          ]
        }
      ]
    },
    {
      "cell_type": "markdown",
      "metadata": {
        "id": "YI_4gJsPh3nD"
      },
      "source": [
        "## Exercícios Parte 2:"
      ]
    },
    {
      "cell_type": "markdown",
      "metadata": {
        "id": "W455VBt9iIlJ"
      },
      "source": [
        "1) Utilizando um arquivo de dados com várias colunas (por exemplo, o arquivo ```dados_alunos.txt```), faça um histograma com os dados de cada uma das colunas. **Dica**: utilize o ***matplotlib*** para fazer os histogramas."
      ]
    },
    {
      "cell_type": "code",
      "metadata": {
        "colab": {
          "base_uri": "https://localhost:8080/"
        },
        "id": "naCRUcax23gw",
        "outputId": "b05e2f2e-9dae-4203-9c15-37adeac3feda"
      },
      "source": [
        "%%writefile dados_alunos.txt\n",
        "18,1.68,80\n",
        "18,1.94,60\n",
        "18,1.70,80\n",
        "18,1.76,66\n",
        "19,1.73,87.5\n",
        "18,1.66,58\n",
        "21,1.80,92\n",
        "18,1.60,57\n",
        "18,1.67,64\n",
        "18,1.73,57\n",
        "17,1.73,75\n",
        "18,1.61,59\n",
        "18,1.69,90\n",
        "17,1.71,67\n",
        "19,1.78,60\n",
        "22,1.68,72\n",
        "18,1.70,73\n",
        "19,1.64,86\n",
        "18,1.64,75\n",
        "20,1.80,95\n",
        "17,1.75,60\n",
        "18,1.78,75\n",
        "18,1.75,65\n",
        "17,1.69,60\n",
        "19,1.78,73\n",
        "18,1.70,63\n",
        "34,1.75,78\n",
        "18,1.64,64\n",
        "19,1.75,50\n",
        "18,1.67,61\n",
        "18,1.70,70\n",
        "20,1.80,60\n",
        "18,1.63,57\n",
        "23,1.89,110\n",
        "18,1.71,71\n",
        "18,1.65,65\n",
        "17,1.72,67\n",
        "19,1.65,58\n",
        "18,1.75,90\n",
        "18,1.70,64\n",
        "19,1.81,70\n",
        "19,1.65,43\n",
        "28,1.52,50\n",
        "19,1.79,78\n",
        "26,1.79,82\n",
        "19,1.75,61\n",
        "19,1.80,70\n",
        "20,1.75,70\n",
        "20,1.73,70\n",
        "19,1.70,50\n",
        "22,1.78,72\n",
        "19,1.77,55\n",
        "18,1.53,58\n",
        "28,1.54,50\n",
        "20,1.83,70\n",
        "44,1.85,90\n",
        "18,1.60,51"
      ],
      "execution_count": 1,
      "outputs": [
        {
          "output_type": "stream",
          "name": "stdout",
          "text": [
            "Writing dados_alunos.txt\n"
          ]
        }
      ]
    },
    {
      "cell_type": "code",
      "metadata": {
        "colab": {
          "base_uri": "https://localhost:8080/",
          "height": 860
        },
        "id": "COE-CX4801AV",
        "outputId": "5b54a005-5fba-4ad5-ff07-8619f317921d"
      },
      "source": [
        "def histograma_de_txt(arquivo, coluna):\n",
        "  import pandas as pd\n",
        "  import matplotlib.pyplot as plt\n",
        "\n",
        "  '''Converte o arquivo txt para csv e depois plota um hitograma a partir de uma das colunas.'''\n",
        "  d2 = pd.read_csv(arquivo, sep=\",\", header=None, names=['idades', 'alturas', 'massas'])\n",
        "  print('{:=^50}'.format(''))\n",
        "  d2.hist(column= coluna)\n",
        "  plt.ylabel('n° de pessoas')\n",
        "  plt.show()\n",
        "\n",
        "\n",
        "histograma_de_txt('dados_alunos.txt', 'idades')\n",
        "\n",
        "histograma_de_txt('dados_alunos.txt', 'alturas')\n",
        "\n",
        "histograma_de_txt('dados_alunos.txt', 'massas')"
      ],
      "execution_count": null,
      "outputs": [
        {
          "output_type": "stream",
          "name": "stdout",
          "text": [
            "==================================================\n"
          ]
        },
        {
          "output_type": "display_data",
          "data": {
            "image/png": "[encoded data removed]",
            "text/plain": [
              "<Figure size 432x288 with 1 Axes>"
            ]
          },
          "metadata": {
            "needs_background": "light"
          }
        },
        {
          "output_type": "stream",
          "name": "stdout",
          "text": [
            "==================================================\n"
          ]
        },
        {
          "output_type": "display_data",
          "data": {
            "image/png": "[encoded data removed]",
            "text/plain": [
              "<Figure size 432x288 with 1 Axes>"
            ]
          },
          "metadata": {
            "needs_background": "light"
          }
        },
        {
          "output_type": "stream",
          "name": "stdout",
          "text": [
            "==================================================\n"
          ]
        },
        {
          "output_type": "display_data",
          "data": {
            "image/png": "[encoded data removed]",
            "text/plain": [
              "<Figure size 432x288 with 1 Axes>"
            ]
          },
          "metadata": {
            "needs_background": "light"
          }
        }
      ]
    },
    {
      "cell_type": "markdown",
      "metadata": {
        "id": "7M2sTjytiPb_"
      },
      "source": [
        "2) Estude os métodos do módulo ```os``` e faça um script que liste todos os arquivos de um dado diretório assim como de seus subdiretórios. **Dica**: use o método ```walk```."
      ]
    },
    {
      "cell_type": "code",
      "metadata": {
        "colab": {
          "base_uri": "https://localhost:8080/"
        },
        "id": "NC1BrtnxXKaG",
        "outputId": "0c0a5d99-d487-4be5-a631-24f4e2970e5c"
      },
      "source": [
        "import os\n",
        "\n",
        "# Functions:\n",
        "def create_dir_list(dir, show = 'all'):\n",
        "    ''' Cria uma lista de arquivos ou de subpastas ou de ambos de um determinado diretório, dependendo do que for passado no parâmetro \"show\". \n",
        "    Podendo ser \"all\", \"folders\" e \"files\". '''\n",
        "    folders = []\n",
        "    files = []\n",
        "    for i in os.walk(dir):\n",
        "        if i[1] != []:\n",
        "            for j in i[1]:\n",
        "                folders.append(j)\n",
        "        if i[2] != []:\n",
        "            for j in i[2]:\n",
        "                files.append(j)\n",
        "    if show == 'folders':\n",
        "        return folders\n",
        "    elif show == 'files':\n",
        "        return files\n",
        "    else:\n",
        "        all = folders\n",
        "        all.extend(files)\n",
        "        return all\n",
        "\n",
        "# Parameters:\n",
        "dir = './'\n",
        "\n",
        "# Results:\n",
        "print('Subpastas: ', create_dir_list(dir, show = 'folders'), '\\n')\n",
        "print('Arquivos: ', create_dir_list(dir, show = 'files'), '\\n')\n",
        "print('Tudo: ', create_dir_list(dir))"
      ],
      "execution_count": null,
      "outputs": [
        {
          "output_type": "stream",
          "name": "stdout",
          "text": [
            "Subpastas:  ['.config', 'sample_data', 'configurations', 'logs', '2021.09.30'] \n",
            "\n",
            "Arquivos:  ['dados_alunos.txt', 'config_sentinel', '.last_survey_prompt.yaml', '.last_update_check.json', 'active_config', '.last_opt_in_prompt.yaml', 'gce', 'config_default', '17.11.46.319857.log', '17.11.05.914326.log', '17.11.53.276185.log', '17.12.13.730328.log', '17.12.14.546622.log', '17.11.26.623467.log', 'anscombe.json', 'README.md', 'california_housing_train.csv', 'mnist_train_small.csv', 'mnist_test.csv', 'california_housing_test.csv'] \n",
            "\n",
            "Tudo:  ['.config', 'sample_data', 'configurations', 'logs', '2021.09.30', 'dados_alunos.txt', 'config_sentinel', '.last_survey_prompt.yaml', '.last_update_check.json', 'active_config', '.last_opt_in_prompt.yaml', 'gce', 'config_default', '17.11.46.319857.log', '17.11.05.914326.log', '17.11.53.276185.log', '17.12.13.730328.log', '17.12.14.546622.log', '17.11.26.623467.log', 'anscombe.json', 'README.md', 'california_housing_train.csv', 'mnist_train_small.csv', 'mnist_test.csv', 'california_housing_test.csv']\n"
          ]
        }
      ]
    },
    {
      "cell_type": "markdown",
      "metadata": {
        "id": "hReHP7bOiY8e"
      },
      "source": [
        "3) **Reescreva o script dessa aula, ```lcount.py``` na forma de uma módulo. Qual o valor da variável ```__name__``` quando o módulo é importado?**"
      ]
    },
    {
      "cell_type": "code",
      "metadata": {
        "id": "PAPyjcVViaKG",
        "colab": {
          "base_uri": "https://localhost:8080/"
        },
        "outputId": "07a423f4-b4c5-4845-f9a6-3044d28c6266"
      },
      "source": [
        "%%writefile lcount.py\n",
        "\n",
        "def linecount(filename):\n",
        "    count = 0\n",
        "    for line in open(filename):\n",
        "        count += 1\n",
        "    return count\n",
        "\n",
        "linecount('lcount.py')"
      ],
      "execution_count": null,
      "outputs": [
        {
          "output_type": "stream",
          "name": "stdout",
          "text": [
            "Overwriting lcount.py\n"
          ]
        }
      ]
    },
    {
      "cell_type": "code",
      "metadata": {
        "colab": {
          "base_uri": "https://localhost:8080/"
        },
        "id": "JG0dpNqnWntl",
        "outputId": "4cc232f7-2235-4baf-eb7f-a25b2833c8e0"
      },
      "source": [
        "import lcount\n",
        "\n",
        "print(__name__)"
      ],
      "execution_count": null,
      "outputs": [
        {
          "output_type": "stream",
          "name": "stdout",
          "text": [
            "__main__\n"
          ]
        }
      ]
    },
    {
      "cell_type": "markdown",
      "metadata": {
        "id": "NdxtkIDQif4j"
      },
      "source": [
        "4) Escreva uma função chamada ler_arquivos que tome como argumento um nome de arquivo, leia um arquivo com um número qualquer de colunas e retorne um **dicionário** que tenha como *keys* os números das colunas e como valor uma lista dos valores associados a cada coluna do arquivo. Use o arquivo dados_alunos.txt. Caso o arquivo tiver o cabeçalho das colunas, p.ex. dados_alunos_cabecalho.txt, a key deve ser a palavra do cabeçalho.\n",
        "\n",
        "   * Caso não queria usar dicionários, você pode pensar em uma estrutura de dados alternativa para armazenar os dados do arquivo, como por exemplo uma ou mais listas.\n",
        "   * Também pode usar funções já existentes nos módulos de Python `numpy` ou `pandas` para ler arquivos de texto e armazenar nas estruturas desses módulos (`DataFrames` ou `arrays`).\n",
        "   * Adapte a função acima para, se ocorrer um erro ao abrir, ler ou fechar arquivos, o programa capturar a exceção, imprimir uma mensagem de erro e sair.\n",
        "\n"
      ]
    },
    {
      "cell_type": "code",
      "metadata": {
        "colab": {
          "base_uri": "https://localhost:8080/"
        },
        "id": "oNhLCoZkban8",
        "outputId": "44fd8b0b-651f-4453-e812-797332d8ab5e"
      },
      "source": [
        "def formador_de_lista(data, item):\n",
        "  ''' Retorna uma lista a partir dos dados do parâmetro \"data\", de um item em especifico informado no parâmetro \"item\". '''\n",
        "  item = item.strip().lower()\n",
        "  if item in data[0]:\n",
        "    new_list = []\n",
        "    position = data[0].index(item)\n",
        "    for i in data:\n",
        "      new_list.append(i[position])\n",
        "    return [float(i) for i in new_list[1:]]\n",
        "  else:\n",
        "    return 'Não existe dados sobre este item.'\n",
        "\n",
        "def ler_arquivos(arquivo):\n",
        "\n",
        "  dic_arquivo = {}\n",
        "  from csv import reader\n",
        "\n",
        "  with open(arquivo, 'r') as csv_file:\n",
        "      csv_reader = reader(csv_file)\n",
        "      list_of_rows = list(csv_reader)\n",
        "  chaves = [['idade', 'altura', 'massa']]\n",
        "  data = chaves + list_of_rows\n",
        "  dic_arquivo = {'idade' : formador_de_lista(data, 'idade'), 'altura' : formador_de_lista(data, 'altura'), 'massa' : formador_de_lista(data, 'massa')}\n",
        "  return dic_arquivo\n",
        "\n",
        "ler_arquivos('dados_alunos.txt')\n",
        "\n"
      ],
      "execution_count": 14,
      "outputs": [
        {
          "output_type": "execute_result",
          "data": {
            "text/plain": [
              "{'altura': [1.68,\n",
              "  1.94,\n",
              "  1.7,\n",
              "  1.76,\n",
              "  1.73,\n",
              "  1.66,\n",
              "  1.8,\n",
              "  1.6,\n",
              "  1.67,\n",
              "  1.73,\n",
              "  1.73,\n",
              "  1.61,\n",
              "  1.69,\n",
              "  1.71,\n",
              "  1.78,\n",
              "  1.68,\n",
              "  1.7,\n",
              "  1.64,\n",
              "  1.64,\n",
              "  1.8,\n",
              "  1.75,\n",
              "  1.78,\n",
              "  1.75,\n",
              "  1.69,\n",
              "  1.78,\n",
              "  1.7,\n",
              "  1.75,\n",
              "  1.64,\n",
              "  1.75,\n",
              "  1.67,\n",
              "  1.7,\n",
              "  1.8,\n",
              "  1.63,\n",
              "  1.89,\n",
              "  1.71,\n",
              "  1.65,\n",
              "  1.72,\n",
              "  1.65,\n",
              "  1.75,\n",
              "  1.7,\n",
              "  1.81,\n",
              "  1.65,\n",
              "  1.52,\n",
              "  1.79,\n",
              "  1.79,\n",
              "  1.75,\n",
              "  1.8,\n",
              "  1.75,\n",
              "  1.73,\n",
              "  1.7,\n",
              "  1.78,\n",
              "  1.77,\n",
              "  1.53,\n",
              "  1.54,\n",
              "  1.83,\n",
              "  1.85,\n",
              "  1.6],\n",
              " 'idade': [18.0,\n",
              "  18.0,\n",
              "  18.0,\n",
              "  18.0,\n",
              "  19.0,\n",
              "  18.0,\n",
              "  21.0,\n",
              "  18.0,\n",
              "  18.0,\n",
              "  18.0,\n",
              "  17.0,\n",
              "  18.0,\n",
              "  18.0,\n",
              "  17.0,\n",
              "  19.0,\n",
              "  22.0,\n",
              "  18.0,\n",
              "  19.0,\n",
              "  18.0,\n",
              "  20.0,\n",
              "  17.0,\n",
              "  18.0,\n",
              "  18.0,\n",
              "  17.0,\n",
              "  19.0,\n",
              "  18.0,\n",
              "  34.0,\n",
              "  18.0,\n",
              "  19.0,\n",
              "  18.0,\n",
              "  18.0,\n",
              "  20.0,\n",
              "  18.0,\n",
              "  23.0,\n",
              "  18.0,\n",
              "  18.0,\n",
              "  17.0,\n",
              "  19.0,\n",
              "  18.0,\n",
              "  18.0,\n",
              "  19.0,\n",
              "  19.0,\n",
              "  28.0,\n",
              "  19.0,\n",
              "  26.0,\n",
              "  19.0,\n",
              "  19.0,\n",
              "  20.0,\n",
              "  20.0,\n",
              "  19.0,\n",
              "  22.0,\n",
              "  19.0,\n",
              "  18.0,\n",
              "  28.0,\n",
              "  20.0,\n",
              "  44.0,\n",
              "  18.0],\n",
              " 'massa': [80.0,\n",
              "  60.0,\n",
              "  80.0,\n",
              "  66.0,\n",
              "  87.5,\n",
              "  58.0,\n",
              "  92.0,\n",
              "  57.0,\n",
              "  64.0,\n",
              "  57.0,\n",
              "  75.0,\n",
              "  59.0,\n",
              "  90.0,\n",
              "  67.0,\n",
              "  60.0,\n",
              "  72.0,\n",
              "  73.0,\n",
              "  86.0,\n",
              "  75.0,\n",
              "  95.0,\n",
              "  60.0,\n",
              "  75.0,\n",
              "  65.0,\n",
              "  60.0,\n",
              "  73.0,\n",
              "  63.0,\n",
              "  78.0,\n",
              "  64.0,\n",
              "  50.0,\n",
              "  61.0,\n",
              "  70.0,\n",
              "  60.0,\n",
              "  57.0,\n",
              "  110.0,\n",
              "  71.0,\n",
              "  65.0,\n",
              "  67.0,\n",
              "  58.0,\n",
              "  90.0,\n",
              "  64.0,\n",
              "  70.0,\n",
              "  43.0,\n",
              "  50.0,\n",
              "  78.0,\n",
              "  82.0,\n",
              "  61.0,\n",
              "  70.0,\n",
              "  70.0,\n",
              "  70.0,\n",
              "  50.0,\n",
              "  72.0,\n",
              "  55.0,\n",
              "  58.0,\n",
              "  50.0,\n",
              "  70.0,\n",
              "  90.0,\n",
              "  51.0]}"
            ]
          },
          "metadata": {},
          "execution_count": 14
        }
      ]
    },
    {
      "cell_type": "markdown",
      "metadata": {
        "id": "N9UcIzJRim0e"
      },
      "source": [
        "5) **Adapte o script acima para ser um módulo.**"
      ]
    },
    {
      "cell_type": "code",
      "metadata": {
        "id": "w3OkZOvLiopW",
        "colab": {
          "base_uri": "https://localhost:8080/"
        },
        "outputId": "1885c535-8192-4ea3-90e0-27b1c5c9c73c"
      },
      "source": [
        "%%writefile ler_arquivo.py\n",
        "\n",
        "def formador_de_lista(data, item):\n",
        "  ''' Retorna uma lista a partir dos dados do parâmetro \"data\", de um item em especifico informado no parâmetro \"item\". '''\n",
        "  item = item.strip().lower()\n",
        "  if item in data[0]:\n",
        "    new_list = []\n",
        "    position = data[0].index(item)\n",
        "    for i in data:\n",
        "      new_list.append(i[position])\n",
        "    return [float(i) for i in new_list[1:]]\n",
        "  else:\n",
        "    return 'Não existe dados sobre este item.'\n",
        "\n",
        "def ler_arquivos(arquivo):\n",
        "\n",
        "  dic_arquivo = {}\n",
        "\n",
        "  from csv import reader\n",
        "\n",
        "  with open(arquivo, 'r') as csv_file:\n",
        "      csv_reader = reader(csv_file)\n",
        "      list_of_rows = list(csv_reader)\n",
        "  chaves = [['idade', 'altura', 'massa']]\n",
        "  data = chaves + list_of_rows\n",
        "  dic_arquivo = {'idade' : formador_de_lista(data, 'idade'), 'altura' : formador_de_lista(data, 'altura'), 'massa' : formador_de_lista(data, 'massa')}\n",
        "  return dic_arquivo\n"
      ],
      "execution_count": 26,
      "outputs": [
        {
          "output_type": "stream",
          "name": "stdout",
          "text": [
            "Overwriting ler_arquivo.py\n"
          ]
        }
      ]
    },
    {
      "cell_type": "markdown",
      "metadata": {
        "id": "2xs3UScbirv7"
      },
      "source": [
        "**6) Escreva um script que importe o módulo criado acima e faça um histograma para cada coluna do arquivo, com seus respectivos valores. Use o dicionário ou a estrutura de dados criada em 1).**"
      ]
    },
    {
      "cell_type": "code",
      "metadata": {
        "id": "tkPVBSULiszX",
        "colab": {
          "base_uri": "https://localhost:8080/",
          "height": 1000
        },
        "outputId": "e821d260-7aa0-4329-f278-abfa8ee2ef94"
      },
      "source": [
        "import ler_arquivo\n",
        "import matplotlib.pyplot as plt\n",
        "\n",
        "d = ler_arquivo.ler_arquivos('dados_alunos.txt')\n",
        "#print(d['idade'])\n",
        "continua = 'S'\n",
        "while continua == 'S':\n",
        "  d1 = input('Deseja imprimir um histograma de qual dos conjuntos de dados do arquivo:\\n')\n",
        "  print('{:=^50}'.format(''))\n",
        "  plt.hist(d[d1])\n",
        "  plt.ylabel('n° de pessoas')\n",
        "  plt.show()\n",
        "  continua = input('Deseja continuar?\\n')\n",
        "\n"
      ],
      "execution_count": 77,
      "outputs": [
        {
          "output_type": "stream",
          "name": "stdout",
          "text": [
            "Deseja imprimir um histograma de qual dos conjuntos de dados do arquivo:\n",
            "idade\n",
            "==================================================\n"
          ]
        },
        {
          "output_type": "display_data",
          "data": {
            "image/png": "[encoded data removed]",
            "text/plain": [
              "<Figure size 432x288 with 1 Axes>"
            ]
          },
          "metadata": {
            "needs_background": "light"
          }
        },
        {
          "output_type": "stream",
          "name": "stdout",
          "text": [
            "Deseja continuar?\n",
            "S\n",
            "Deseja imprimir um histograma de qual dos conjuntos de dados do arquivo:\n",
            "altura\n",
            "==================================================\n"
          ]
        },
        {
          "output_type": "display_data",
          "data": {
            "image/png": "[encoded data removed]",
            "text/plain": [
              "<Figure size 432x288 with 1 Axes>"
            ]
          },
          "metadata": {
            "needs_background": "light"
          }
        },
        {
          "output_type": "stream",
          "name": "stdout",
          "text": [
            "Deseja continuar?\n",
            "S\n",
            "Deseja imprimir um histograma de qual dos conjuntos de dados do arquivo:\n",
            "massa\n",
            "==================================================\n"
          ]
        },
        {
          "output_type": "display_data",
          "data": {
            "image/png": "[encoded data removed]",
            "text/plain": [
              "<Figure size 432x288 with 1 Axes>"
            ]
          },
          "metadata": {
            "needs_background": "light"
          }
        },
        {
          "name": "stdout",
          "output_type": "stream",
          "text": [
            "Deseja continuar?\n",
            "não\n"
          ]
        }
      ]
    },
    {
      "cell_type": "markdown",
      "metadata": {
        "id": "dvwrHIcBhu_Z"
      },
      "source": [
        "7) Adicione uma função ao script criado em 6), que calcule o desvio padrão amostral, desvio padrão populacional e média de cada distribuição representada nos histogramas acima. Para tal, use o módulo `statistics` do Python ou outro módulo de Python (`numpy`, `scipy`)."
      ]
    },
    {
      "cell_type": "code",
      "metadata": {
        "id": "y2HHJUUv3HqX",
        "colab": {
          "base_uri": "https://localhost:8080/"
        },
        "outputId": "5b2faab9-bab8-45ba-c9ed-739e5ce9aaf6"
      },
      "source": [
        "from statistics import mean, stdev, pstdev\n",
        "\n",
        "print('A média das idades é :{:.4f}, das alturas é:{:.4f} e das massas é :{:.4f}.'.\n",
        "      format(mean(d['idade']), mean(d['altura']), mean(d['massa'])))\n",
        "print('O desvio padrão amostral das idades é :{:.4f}, das alturas é: {:.4f} e das massas é :{:.4f}.'.\n",
        "      format(stdev(d['idade']), stdev(d['altura']), stdev(d['massa'])))\n",
        "print('O desvio padrão populacional das idades é :{:.4f}, das alturas é: {:.4f} e das massas é :{:.4f}.'.\n",
        "      format(pstdev(d['idade']), pstdev(d['altura']), pstdev(d['massa'])))"
      ],
      "execution_count": 75,
      "outputs": [
        {
          "output_type": "stream",
          "name": "stdout",
          "text": [
            "A média das idades é :19.8246, das alturas é:1.7175 e das massas é :68.5000.\n",
            "O desvio padrão amostral das idades é :4.4526, das alturas é: 0.0826 e das massas é :13.2254.\n",
            "O desvio padrão populacional das idades é :4.4134, das alturas é: 0.0819 e das massas é :13.1089.\n"
          ]
        }
      ]
    },
    {
      "cell_type": "code",
      "metadata": {
        "id": "nXe6vr_UoiJo"
      },
      "source": [
        ""
      ],
      "execution_count": null,
      "outputs": []
    }
  ]
}