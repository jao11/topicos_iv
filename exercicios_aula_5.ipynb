{
  "nbformat": 4,
  "nbformat_minor": 0,
  "metadata": {
    "colab": {
      "name": "exercicios_aula_5.ipynb",
      "provenance": [],
      "authorship_tag": "ABX9TyMpbDg+UJnzitarELxSvkSF",
      "include_colab_link": true
    },
    "kernelspec": {
      "name": "python3",
      "display_name": "Python 3"
    },
    "language_info": {
      "name": "python"
    }
  },
  "cells": [
    {
      "cell_type": "markdown",
      "metadata": {
        "id": "view-in-github",
        "colab_type": "text"
      },
      "source": [
        "<a href=\"https://colab.research.google.com/github/jao11/topicos_iv/blob/main/exercicios_aula_5.ipynb\" target=\"_parent\"><img src=\"https://colab.research.google.com/assets/colab-badge.svg\" alt=\"Open In Colab\"/></a>"
      ]
    },
    {
      "cell_type": "markdown",
      "metadata": {
        "id": "95AZ3Ej1lNJy"
      },
      "source": [
        "AULA 5"
      ]
    },
    {
      "cell_type": "markdown",
      "metadata": {
        "id": "BTIP2o0TlR3A"
      },
      "source": [
        "1. Modifique o programa da tartaruga (primeiro exemplo) para que, antes de criar a janela,\n",
        "ele solicite que o usuário insira a cor de fundo desejada. Ele deve armazenar as\n",
        "respostas do usuário em uma variável e modificar a cor da janela de acordo com os \n",
        "desejos do usuário.\n",
        "Dicas: faça uso da função input, built-in do python\n",
        "você pode encontrar uma lista de nomes de cores permitidos em \n",
        "http://www.tcl.tk/man/tcl8.4/TkCmd/colors.htm. \n",
        "Inclui alguns bem incomuns, como “peach puff” e “HotPink” ”***"
      ]
    },
    {
      "cell_type": "code",
      "metadata": {
        "id": "mDavGAUslBaa",
        "colab": {
          "base_uri": "https://localhost:8080/",
          "height": 413
        },
        "outputId": "c8fe6e20-76dc-432d-cfc9-6e488aa722de"
      },
      "source": [
        "import turtle\n",
        "n = str(input('Por favor digite uma cor:'))\n",
        "jn = turtle.Screen()\n",
        "jn.bgcolor(n)\n",
        "joana = turtle.Turtle()\n",
        "\n",
        "joana.forward(50)\n",
        "joana.left(90)\n",
        "joana.forward(30)\n",
        "\n",
        "jn.mainloop()"
      ],
      "execution_count": 5,
      "outputs": [
        {
          "output_type": "stream",
          "text": [
            "Por favor digite uma cor:blue\n"
          ],
          "name": "stdout"
        },
        {
          "output_type": "error",
          "ename": "TclError",
          "evalue": "ignored",
          "traceback": [
            "\u001b[0;31m---------------------------------------------------------------------------\u001b[0m",
            "\u001b[0;31mTclError\u001b[0m                                  Traceback (most recent call last)",
            "\u001b[0;32m<ipython-input-5-f9627e38c314>\u001b[0m in \u001b[0;36m<module>\u001b[0;34m()\u001b[0m\n\u001b[1;32m      1\u001b[0m \u001b[0;32mimport\u001b[0m \u001b[0mturtle\u001b[0m\u001b[0;34m\u001b[0m\u001b[0;34m\u001b[0m\u001b[0m\n\u001b[1;32m      2\u001b[0m \u001b[0mn\u001b[0m \u001b[0;34m=\u001b[0m \u001b[0mstr\u001b[0m\u001b[0;34m(\u001b[0m\u001b[0minput\u001b[0m\u001b[0;34m(\u001b[0m\u001b[0;34m'Por favor digite uma cor:'\u001b[0m\u001b[0;34m)\u001b[0m\u001b[0;34m)\u001b[0m\u001b[0;34m\u001b[0m\u001b[0;34m\u001b[0m\u001b[0m\n\u001b[0;32m----> 3\u001b[0;31m \u001b[0mjn\u001b[0m \u001b[0;34m=\u001b[0m \u001b[0mturtle\u001b[0m\u001b[0;34m.\u001b[0m\u001b[0mScreen\u001b[0m\u001b[0;34m(\u001b[0m\u001b[0;34m)\u001b[0m\u001b[0;34m\u001b[0m\u001b[0;34m\u001b[0m\u001b[0m\n\u001b[0m\u001b[1;32m      4\u001b[0m \u001b[0mjn\u001b[0m\u001b[0;34m.\u001b[0m\u001b[0mbgcolor\u001b[0m\u001b[0;34m(\u001b[0m\u001b[0mn\u001b[0m\u001b[0;34m)\u001b[0m\u001b[0;34m\u001b[0m\u001b[0;34m\u001b[0m\u001b[0m\n\u001b[1;32m      5\u001b[0m \u001b[0mjoana\u001b[0m \u001b[0;34m=\u001b[0m \u001b[0mturtle\u001b[0m\u001b[0;34m.\u001b[0m\u001b[0mTurtle\u001b[0m\u001b[0;34m(\u001b[0m\u001b[0;34m)\u001b[0m\u001b[0;34m\u001b[0m\u001b[0;34m\u001b[0m\u001b[0m\n",
            "\u001b[0;32m/usr/lib/python3.7/turtle.py\u001b[0m in \u001b[0;36mScreen\u001b[0;34m()\u001b[0m\n\u001b[1;32m   3660\u001b[0m     else return the existing one.\"\"\"\n\u001b[1;32m   3661\u001b[0m     \u001b[0;32mif\u001b[0m \u001b[0mTurtle\u001b[0m\u001b[0;34m.\u001b[0m\u001b[0m_screen\u001b[0m \u001b[0;32mis\u001b[0m \u001b[0;32mNone\u001b[0m\u001b[0;34m:\u001b[0m\u001b[0;34m\u001b[0m\u001b[0;34m\u001b[0m\u001b[0m\n\u001b[0;32m-> 3662\u001b[0;31m         \u001b[0mTurtle\u001b[0m\u001b[0;34m.\u001b[0m\u001b[0m_screen\u001b[0m \u001b[0;34m=\u001b[0m \u001b[0m_Screen\u001b[0m\u001b[0;34m(\u001b[0m\u001b[0;34m)\u001b[0m\u001b[0;34m\u001b[0m\u001b[0;34m\u001b[0m\u001b[0m\n\u001b[0m\u001b[1;32m   3663\u001b[0m     \u001b[0;32mreturn\u001b[0m \u001b[0mTurtle\u001b[0m\u001b[0;34m.\u001b[0m\u001b[0m_screen\u001b[0m\u001b[0;34m\u001b[0m\u001b[0;34m\u001b[0m\u001b[0m\n\u001b[1;32m   3664\u001b[0m \u001b[0;34m\u001b[0m\u001b[0m\n",
            "\u001b[0;32m/usr/lib/python3.7/turtle.py\u001b[0m in \u001b[0;36m__init__\u001b[0;34m(self)\u001b[0m\n\u001b[1;32m   3676\u001b[0m         \u001b[0;31m# preserved (perhaps by passing it as an optional parameter)\u001b[0m\u001b[0;34m\u001b[0m\u001b[0;34m\u001b[0m\u001b[0;34m\u001b[0m\u001b[0m\n\u001b[1;32m   3677\u001b[0m         \u001b[0;32mif\u001b[0m \u001b[0m_Screen\u001b[0m\u001b[0;34m.\u001b[0m\u001b[0m_root\u001b[0m \u001b[0;32mis\u001b[0m \u001b[0;32mNone\u001b[0m\u001b[0;34m:\u001b[0m\u001b[0;34m\u001b[0m\u001b[0;34m\u001b[0m\u001b[0m\n\u001b[0;32m-> 3678\u001b[0;31m             \u001b[0m_Screen\u001b[0m\u001b[0;34m.\u001b[0m\u001b[0m_root\u001b[0m \u001b[0;34m=\u001b[0m \u001b[0mself\u001b[0m\u001b[0;34m.\u001b[0m\u001b[0m_root\u001b[0m \u001b[0;34m=\u001b[0m \u001b[0m_Root\u001b[0m\u001b[0;34m(\u001b[0m\u001b[0;34m)\u001b[0m\u001b[0;34m\u001b[0m\u001b[0;34m\u001b[0m\u001b[0m\n\u001b[0m\u001b[1;32m   3679\u001b[0m             \u001b[0mself\u001b[0m\u001b[0;34m.\u001b[0m\u001b[0m_root\u001b[0m\u001b[0;34m.\u001b[0m\u001b[0mtitle\u001b[0m\u001b[0;34m(\u001b[0m\u001b[0m_Screen\u001b[0m\u001b[0;34m.\u001b[0m\u001b[0m_title\u001b[0m\u001b[0;34m)\u001b[0m\u001b[0;34m\u001b[0m\u001b[0;34m\u001b[0m\u001b[0m\n\u001b[1;32m   3680\u001b[0m             \u001b[0mself\u001b[0m\u001b[0;34m.\u001b[0m\u001b[0m_root\u001b[0m\u001b[0;34m.\u001b[0m\u001b[0mondestroy\u001b[0m\u001b[0;34m(\u001b[0m\u001b[0mself\u001b[0m\u001b[0;34m.\u001b[0m\u001b[0m_destroy\u001b[0m\u001b[0;34m)\u001b[0m\u001b[0;34m\u001b[0m\u001b[0;34m\u001b[0m\u001b[0m\n",
            "\u001b[0;32m/usr/lib/python3.7/turtle.py\u001b[0m in \u001b[0;36m__init__\u001b[0;34m(self)\u001b[0m\n\u001b[1;32m    432\u001b[0m     \u001b[0;34m\"\"\"Root class for Screen based on Tkinter.\"\"\"\u001b[0m\u001b[0;34m\u001b[0m\u001b[0;34m\u001b[0m\u001b[0m\n\u001b[1;32m    433\u001b[0m     \u001b[0;32mdef\u001b[0m \u001b[0m__init__\u001b[0m\u001b[0;34m(\u001b[0m\u001b[0mself\u001b[0m\u001b[0;34m)\u001b[0m\u001b[0;34m:\u001b[0m\u001b[0;34m\u001b[0m\u001b[0;34m\u001b[0m\u001b[0m\n\u001b[0;32m--> 434\u001b[0;31m         \u001b[0mTK\u001b[0m\u001b[0;34m.\u001b[0m\u001b[0mTk\u001b[0m\u001b[0;34m.\u001b[0m\u001b[0m__init__\u001b[0m\u001b[0;34m(\u001b[0m\u001b[0mself\u001b[0m\u001b[0;34m)\u001b[0m\u001b[0;34m\u001b[0m\u001b[0;34m\u001b[0m\u001b[0m\n\u001b[0m\u001b[1;32m    435\u001b[0m \u001b[0;34m\u001b[0m\u001b[0m\n\u001b[1;32m    436\u001b[0m     \u001b[0;32mdef\u001b[0m \u001b[0msetupcanvas\u001b[0m\u001b[0;34m(\u001b[0m\u001b[0mself\u001b[0m\u001b[0;34m,\u001b[0m \u001b[0mwidth\u001b[0m\u001b[0;34m,\u001b[0m \u001b[0mheight\u001b[0m\u001b[0;34m,\u001b[0m \u001b[0mcwidth\u001b[0m\u001b[0;34m,\u001b[0m \u001b[0mcheight\u001b[0m\u001b[0;34m)\u001b[0m\u001b[0;34m:\u001b[0m\u001b[0;34m\u001b[0m\u001b[0;34m\u001b[0m\u001b[0m\n",
            "\u001b[0;32m/usr/lib/python3.7/tkinter/__init__.py\u001b[0m in \u001b[0;36m__init__\u001b[0;34m(self, screenName, baseName, className, useTk, sync, use)\u001b[0m\n\u001b[1;32m   2021\u001b[0m                 \u001b[0mbaseName\u001b[0m \u001b[0;34m=\u001b[0m \u001b[0mbaseName\u001b[0m \u001b[0;34m+\u001b[0m \u001b[0mext\u001b[0m\u001b[0;34m\u001b[0m\u001b[0;34m\u001b[0m\u001b[0m\n\u001b[1;32m   2022\u001b[0m         \u001b[0minteractive\u001b[0m \u001b[0;34m=\u001b[0m \u001b[0;36m0\u001b[0m\u001b[0;34m\u001b[0m\u001b[0;34m\u001b[0m\u001b[0m\n\u001b[0;32m-> 2023\u001b[0;31m         \u001b[0mself\u001b[0m\u001b[0;34m.\u001b[0m\u001b[0mtk\u001b[0m \u001b[0;34m=\u001b[0m \u001b[0m_tkinter\u001b[0m\u001b[0;34m.\u001b[0m\u001b[0mcreate\u001b[0m\u001b[0;34m(\u001b[0m\u001b[0mscreenName\u001b[0m\u001b[0;34m,\u001b[0m \u001b[0mbaseName\u001b[0m\u001b[0;34m,\u001b[0m \u001b[0mclassName\u001b[0m\u001b[0;34m,\u001b[0m \u001b[0minteractive\u001b[0m\u001b[0;34m,\u001b[0m \u001b[0mwantobjects\u001b[0m\u001b[0;34m,\u001b[0m \u001b[0museTk\u001b[0m\u001b[0;34m,\u001b[0m \u001b[0msync\u001b[0m\u001b[0;34m,\u001b[0m \u001b[0muse\u001b[0m\u001b[0;34m)\u001b[0m\u001b[0;34m\u001b[0m\u001b[0;34m\u001b[0m\u001b[0m\n\u001b[0m\u001b[1;32m   2024\u001b[0m         \u001b[0;32mif\u001b[0m \u001b[0museTk\u001b[0m\u001b[0;34m:\u001b[0m\u001b[0;34m\u001b[0m\u001b[0;34m\u001b[0m\u001b[0m\n\u001b[1;32m   2025\u001b[0m             \u001b[0mself\u001b[0m\u001b[0;34m.\u001b[0m\u001b[0m_loadtk\u001b[0m\u001b[0;34m(\u001b[0m\u001b[0;34m)\u001b[0m\u001b[0;34m\u001b[0m\u001b[0;34m\u001b[0m\u001b[0m\n",
            "\u001b[0;31mTclError\u001b[0m: no display name and no $DISPLAY environment variable"
          ]
        }
      ]
    },
    {
      "cell_type": "markdown",
      "metadata": {
        "id": "CdNpao8UrvV6"
      },
      "source": [
        "2. Faça modificações similares para permitir que o usuário mude a cor da tartaruga \n",
        "durante a execução do programa.\n",
        "a. Faça o mesmo para a largura da caneta da tartaruga. Dica: seu diálogo com o usuário \n",
        "retornará uma string, mas o método pensize espera que seu argumento seja um int. \n",
        "Então, você precisará converter a string em um int antes de passa-la para pensize."
      ]
    },
    {
      "cell_type": "code",
      "metadata": {
        "id": "6VOwWUGbr7me"
      },
      "source": [
        "import turtle\n",
        "n = str(input('Por favor digite uma cor:'))\n",
        "jn = turtle.Screen()\n",
        "jn.bgcolor(n)\n",
        "joana = turtle.Turtle()\n",
        "\n",
        "joana.forward(50)\n",
        "n2 = str(input('Mude a cor da tartaruga:'))\n",
        "joana.color(n2)\n",
        "joana.left(90)\n",
        "n3 = int(input('Mude o tamanho da caneta:'))\n",
        "joana.pensize(n3)\n",
        "joana.forward(30)\n",
        "\n",
        "jn.mainloop()"
      ],
      "execution_count": null,
      "outputs": []
    },
    {
      "cell_type": "markdown",
      "metadata": {
        "id": "0oZ51g0Isgmb"
      },
      "source": [
        "3. Investiguem os métodos e tipos do módulo turtle;"
      ]
    },
    {
      "cell_type": "markdown",
      "metadata": {
        "id": "FY6nF2GEstpJ"
      },
      "source": [
        "4. Desenhe um quadrado, usando a forma de tartaruga, ao invés da flecha, para desenhar.\n",
        "a. mude a velocidade com que a tartaruga faz o desenho"
      ]
    },
    {
      "cell_type": "code",
      "metadata": {
        "id": "2U46ldQ3sslj"
      },
      "source": [
        "import turtle\n",
        "jn = turtle.Screen()\n",
        "o = turtle.Turtle()\n",
        "o.shape('turtle')\n",
        "for i in range(4):\n",
        "    o.speed(1)\n",
        "    o.forward(40)\n",
        "    o.left(90)\n",
        "jn.mainloop()"
      ],
      "execution_count": null,
      "outputs": []
    },
    {
      "cell_type": "markdown",
      "metadata": {
        "id": "zGzw9Dinskkg"
      },
      "source": [
        "5. Sabendo que o ângulo interno da ponta de uma estrela de 5 pontas é de 36 graus,\n",
        "desenhe uma estrela em uma janela."
      ]
    },
    {
      "cell_type": "code",
      "metadata": {
        "id": "zgcL7iv2sp2L"
      },
      "source": [
        "import turtle\n",
        "jn = turtle.Screen()\n",
        "o = turtle.Turtle()\n",
        "for i in range(5):\n",
        "    o.forward(40)\n",
        "    o.left(144)\n",
        "jn.mainloop()\n"
      ],
      "execution_count": null,
      "outputs": []
    },
    {
      "cell_type": "markdown",
      "metadata": {
        "id": "W-xP5hzst5Uh"
      },
      "source": [
        "6. Sabendo o ângulo interno da ponta de uma estrela, desenhe quatro estrelas em uma janela, \n",
        "com uma certa distância entre elas. \n",
        "*  Dica: use a função penup() e pendown() do módulo turtle"
      ]
    },
    {
      "cell_type": "code",
      "metadata": {
        "id": "5BuaoVVRuNaP"
      },
      "source": [
        "'''import turtle\n",
        "jn = turtle.Screen()\n",
        "a = turtle.Turtle()\n",
        "for x in range(5):\n",
        "    a.pendown()\n",
        "    a.forward(100)\n",
        "    a.right(144)\n",
        "a.penup()\n",
        "a.forward(100)\n",
        "for x in range(5):\n",
        "    a.pendown()\n",
        "    a.forward(100)\n",
        "    a.right(144)\n",
        "a.penup()\n",
        "a.forward(-200)\n",
        "for x in range(5):\n",
        "    a.pendown()\n",
        "    a.forward(100)\n",
        "    a.right(144)\n",
        "a.penup()\n",
        "a.forward(-100)\n",
        "for x in range(5):\n",
        "    a.pendown()\n",
        "    a.forward(100)\n",
        "    a.right(144)\n",
        "\n",
        "jn.mainloop()'''\n",
        "\n",
        "# Opção mais curta\n",
        "\n",
        "import turtle\n",
        "jn = turtle.Screen()\n",
        "a = turtle.Turtle()\n",
        "\n",
        "def estrela():\n",
        "  for x in range(5):\n",
        "      a.pendown()\n",
        "      a.forward(100)\n",
        "      a.right(144)\n",
        "  a.penup()\n",
        "  \n",
        "estrela()\n",
        "a.forward(100)\n",
        "estrela()\n",
        "a.forward(-200)\n",
        "estrela()\n",
        "a.forward(-100)\n",
        "estrela()\n",
        "\n",
        "jn.mainloop()"
      ],
      "execution_count": null,
      "outputs": []
    },
    {
      "cell_type": "markdown",
      "metadata": {
        "id": "U2ryBdqkoBaw"
      },
      "source": [
        "### Exercícios em preparação para os próximos capítulos"
      ]
    },
    {
      "cell_type": "markdown",
      "metadata": {
        "id": "72FdlSMYoLmY"
      },
      "source": [
        "1. Escreva uma função chamada `square`, que toma um parâmetro `t`, que é uma `Turtle`. Essa função deve usar o `turtle` para desenhar um quadrado. Escreva uma chamada de função que passe `joana` como argumento para `square` e rode o programa novamente. \n"
      ]
    },
    {
      "cell_type": "code",
      "metadata": {
        "id": "cfuaNnqHoKBS"
      },
      "source": [
        "import turtle\n",
        "\n",
        "def square(t):\n",
        "   for x in range(4):\n",
        "        t.forward(100)\n",
        "        t.right(90)\n",
        "\n",
        "\n",
        "jn = turtle.Screen()\n",
        "joana = turtle.Turtle()\n",
        "square(joana)\n",
        "jn.mainloop()"
      ],
      "execution_count": null,
      "outputs": []
    },
    {
      "cell_type": "markdown",
      "metadata": {
        "id": "vwrErK3B6hjF"
      },
      "source": [
        "2. Adicione um outro parâmetro, chamado `length`, à função `square`. Modifique o corpo da função de tal forma que o comprimento dos lados do quadrado seja `length` e então modifique a chamada da função para que seja passado o segundo argumento. Rode o programa novamente. Teste o seu programa com diversos valores para `length`."
      ]
    },
    {
      "cell_type": "code",
      "metadata": {
        "id": "0cQgSslL6xdm"
      },
      "source": [
        "import turtle\n",
        "\n",
        "def square(t, length):\n",
        "    for x in range(4):\n",
        "        t.forward(length)\n",
        "        t.right(90)\n",
        "\n",
        "\n",
        "jn = turtle.Screen()\n",
        "joana = turtle.Turtle()\n",
        "square(joana, 100)\n",
        "jn.mainloop()"
      ],
      "execution_count": null,
      "outputs": []
    },
    {
      "cell_type": "markdown",
      "metadata": {
        "id": "FiQ8yOXq7tYb"
      },
      "source": [
        "3. Faça uma cópia da função `square` e mude o nome para `polygon`. Adicione um outro parâmetro chamado `n` e modifique o corpo da função para que ela desenhe um polígono regular de `n` lados. Dica: Os ângulos externos de um polígono regular de `n` lados são de `360/n` graus. "
      ]
    },
    {
      "cell_type": "code",
      "metadata": {
        "id": "cNTc7e4T8XrC"
      },
      "source": [
        "import turtle\n",
        "\n",
        "def polygon(t, length, n):\n",
        "    for x in range(n):\n",
        "        t.forward(length)\n",
        "        t.right(360 / n)\n",
        "\n",
        "\n",
        "jn = turtle.Screen()\n",
        "joana = turtle.Turtle()\n",
        "polygon(joana, 50, 9)\n",
        "jn.mainloop()"
      ],
      "execution_count": null,
      "outputs": []
    },
    {
      "cell_type": "markdown",
      "metadata": {
        "id": "LEepBQX-7sg1"
      },
      "source": [
        "4. Escreva uma função chamada `circle` que toma como argumento uma `Turtle`, `t`, e um raio, `r`, e desenha um círculo aproximado ao chamar a função `polygon` com `length` e número `n` de lados apropriados. Teste sua função com um intervalo de valores de `r`. Dica: Determine a circunferência do círculo e se certifique que `comprimento * n = circunferência`.\n",
        "\n"
      ]
    },
    {
      "cell_type": "code",
      "metadata": {
        "id": "M085yJh78fUF"
      },
      "source": [
        "import turtle\n",
        "import math\n",
        "\n",
        "\n",
        "def circle(t, r):\n",
        "    n = 90\n",
        "    length = 2 * math.pi * r / n\n",
        "    polygon(t, length, n)\n",
        "\n",
        "    \n",
        "def polygon(t, length, n):\n",
        "    for x in range(n):\n",
        "        t.forward(length)\n",
        "        t.right(360 / n)\n",
        "\n",
        "\n",
        "jn = turtle.Screen()\n",
        "o = turtle.Turtle()\n",
        "circle(o, 50)\n",
        "jn.mainloop()"
      ],
      "execution_count": null,
      "outputs": []
    },
    {
      "cell_type": "markdown",
      "metadata": {
        "id": "gHAYu_1k9AAs"
      },
      "source": [
        "5. Faça uma versão mais geral da função `circle`, chamada `arc`, que toma um parâmetro adicional, `angle`, que determina qual a fração do circulo a ser desenhada. `angle` está em unidades de graus, logo quando `angle=360`, a função `arc` deve desenhar um cículo completo."
      ]
    },
    {
      "cell_type": "code",
      "metadata": {
        "id": "l0_WNfQ689Wr"
      },
      "source": [
        "import turtle\n",
        "import math\n",
        "\n",
        "\n",
        "def arc(t, r, angle):\n",
        "    arc_length = 2 * math.pi * r * angle / 360\n",
        "    n = int(arc_length / 3) + 1\n",
        "    step_length = arc_length / n\n",
        "    step_angle = float(angle) / n\n",
        "    polygone(t, n, step_length, step_angle)\n",
        "\n",
        "\n",
        "def polygone(t, n, length, angle):\n",
        "    for x in range(n):\n",
        "        t.forward(length)\n",
        "        t.right(angle)\n",
        "\n",
        "\n",
        "jn = turtle.Screen()\n",
        "o = turtle.Pen()\n",
        "arc(o, 50, 270)\n",
        "jn.mainloop()"
      ],
      "execution_count": null,
      "outputs": []
    }
  ]
}