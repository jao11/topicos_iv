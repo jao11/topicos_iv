{
  "nbformat": 4,
  "nbformat_minor": 0,
  "metadata": {
    "colab": {
      "name": "exercicios_aula_13.ipynb",
      "provenance": [],
      "collapsed_sections": [],
      "authorship_tag": "ABX9TyNOyS5mQUbW/MCbMcBmkOHy",
      "include_colab_link": true
    },
    "kernelspec": {
      "name": "python3",
      "display_name": "Python 3"
    },
    "language_info": {
      "name": "python"
    }
  },
  "cells": [
    {
      "cell_type": "markdown",
      "metadata": {
        "id": "view-in-github",
        "colab_type": "text"
      },
      "source": [
        "<a href=\"https://colab.research.google.com/github/jao11/topicos_iv/blob/main/exercicios_aula_13.ipynb\" target=\"_parent\"><img src=\"https://colab.research.google.com/assets/colab-badge.svg\" alt=\"Open In Colab\"/></a>"
      ]
    },
    {
      "cell_type": "markdown",
      "metadata": {
        "id": "tkcxK2icgnrz"
      },
      "source": [
        "AULA 13"
      ]
    },
    {
      "cell_type": "markdown",
      "metadata": {
        "id": "1CgVeownS1PL"
      },
      "source": [
        "## Class Ponto da aula 12"
      ]
    },
    {
      "cell_type": "code",
      "metadata": {
        "id": "7tsOWv3LYb5b"
      },
      "source": [
        "class Ponto:\n",
        "  \"\"\" Cria um novo Ponto, com coordenadas x, y \"\"\"\n",
        "\n",
        "  def __init__(self, x=0, y=0):\n",
        "    \"\"\" Inicializa em x, y o novo ponto criado pela classe \"\"\"\n",
        "    self.x = x\n",
        "    self.y = y\n",
        "\n",
        "  def distancia_da_origem(self):\n",
        "    \"\"\" Calcula minha distânica da origem \"\"\"\n",
        "    return ((self.x ** 2) + (self.y ** 2)) ** 0.5\n",
        "    \n",
        "  def ponto_medio(self, alvo):\n",
        "    \"\"\" Retorna o ponto medio entre esse ponto e o alvo \"\"\"\n",
        "    mx = (self.x + alvo.x)/2\n",
        "    my = (self.y + alvo.y)/2\n",
        "    return Ponto(mx, my)\n",
        "\n",
        "  def distancia_entre_dois_pontos(self, alvo):\n",
        "    \"\"\" Retorna a distância entre dois pontos \"\"\"\n",
        "    dx = (self.x - alvo.x)\n",
        "    dy = (self.y - alvo.y)\n",
        "    return float(((dx ** 2) + (dy ** 2))** (1/2))\n",
        "\n",
        "  def reflexao_x(self):\n",
        "    \"\"\" Retorna um ponto reflexo sobre o eixo x \"\"\"\n",
        "    return (self.x, - self.y)\n",
        "\n",
        "  def inclinacao_da_origem(self):\n",
        "     \"\"\" Retorna a inclinação da linha que une a origem ao Ponto \"\"\"\n",
        "     if (self.x) != 0:\n",
        "       return (self.y) / (self.x)\n",
        "     else:\n",
        "       print('Esse metodo falha quando os valores de x são iguais a zero pois temos uma indeterminação matemática.')\n",
        "       return 0\n",
        "      \n",
        "  def parametros_reta(self, alvo):\n",
        "    \"\"\" Retorna os parametros da reta f(x) = ax + b como uma tupla de dois valores \"\"\"\n",
        "    if (self.x) - (alvo.x) == 0:\n",
        "      return 'impossiveis de serem determinados com esses valores de x e y '\n",
        "    else:\n",
        "      a = Ponto(((self.x) - (alvo.x)), ((self.y) - (alvo.y))).inclinacao_da_origem()\n",
        "      b = (self.y) - a * (self.x)\n",
        "      return (a, b)\n",
        "\n",
        "    \n",
        "  def __str__(self):\n",
        "    return \"({0}, {1})\".format(self.x, self.y)"
      ],
      "execution_count": 1,
      "outputs": []
    },
    {
      "cell_type": "markdown",
      "metadata": {
        "id": "Xrwoh49fgrop"
      },
      "source": [
        "# Exercícios:\n",
        "\n",
        "5) Usando a classe **Ponto** criada na última aula escreva uma classe **Retangulo**. A definição da classe Retangulo é:\n",
        "\n",
        "```Python\n",
        "  class Rectangle:\n",
        "     \"\"\"Representa um retangulo. \n",
        "\n",
        "      atributos: \n",
        "      - largura, do tipo float\n",
        "      - altura, do tipo float \n",
        "      - canto, do tipo Ponto.\n",
        "      \"\"\"\n",
        "```\n"
      ]
    },
    {
      "cell_type": "code",
      "metadata": {
        "id": "Bj43FOsngZNo"
      },
      "source": [
        "class Retangulo:\n",
        "  \"\"\"Representa um retangulo. \n",
        "\n",
        "      atributos: \n",
        "      - largura, do tipo float\n",
        "      - altura, do tipo float \n",
        "      - canto, do tipo Ponto.\n",
        "  \"\"\"\n",
        "\n",
        "  def __init__(self, canto = Ponto(0, 0), largura = 0, altura = 0):\n",
        "    \"\"\" Inicializa em canto, largura e altura o novo retangulo criado pela classe \"\"\"\n",
        "    self.largura = largura\n",
        "    self.altura = altura\n",
        "    self.canto = canto\n",
        "\n",
        "  def __str__(self):\n",
        "    return (f'{self.canto}, {(self.canto.x, self.canto.y + self.altura)}, {(self.canto.x + self.largura, self.canto.y)},'\n",
        "            f'{(self.canto.x + self.largura, self.canto.y + self.altura)}')\n",
        " "
      ],
      "execution_count": 16,
      "outputs": []
    },
    {
      "cell_type": "code",
      "metadata": {
        "colab": {
          "base_uri": "https://localhost:8080/"
        },
        "id": "YD0Xr5X-b9Yt",
        "outputId": "8825847d-d1bf-4c55-a135-3693fb1d2c24"
      },
      "source": [
        "print(Retangulo(Ponto(1,2),1,3))"
      ],
      "execution_count": null,
      "outputs": [
        {
          "output_type": "stream",
          "name": "stdout",
          "text": [
            "(1, 2), (1, 5), (2, 2),(2, 5)\n"
          ]
        }
      ]
    },
    {
      "cell_type": "markdown",
      "metadata": {
        "id": "sDQC1Mtgi200"
      },
      "source": [
        "6) Escreva uma definição para uma classe chamada **Circulo** com atributos ***centro*** e ***raio***, em que ***centro*** é um objeto do tipo **Ponto** e ***raio*** é um número.\n",
        "   * Instancie um objeto **Circulo** que represente um círculo com seu centro em (150, 100) e raio 75 e imprima na tela as coordenadas (x,y) do centro do círculo.\n",
        "   * Escreva uma função chamada ponto_no_circulo que use um Circulo e um Ponto e retorne True se o Ponto estiver dentro do círculo ou no limite do mesmo."
      ]
    },
    {
      "cell_type": "code",
      "metadata": {
        "id": "e6puq5d8i7AN"
      },
      "source": [
        "class Circulo:\n",
        "\n",
        "  # Primeira parte:\n",
        "  def __init__(self, centro=Ponto(0, 0), raio = 0):\n",
        "    \"\"\" Inicializa em ponto central e raio o novo círculo criado pela classe \"\"\"\n",
        "\n",
        "    self.centro = centro\n",
        "    self.raio = raio\n",
        "\n",
        "  def __str__(self):\n",
        "    return f'{self.centro}' #, {self.raio}'\n",
        "  \n",
        "  # Segunda parte:\n",
        "  def ponto_no_circulo(self, alvo):\n",
        "    \"\"\" Determina se um ponto pertence ou não ao cículo \"\"\"\n",
        "\n",
        "    if (alvo.x - self.centro[0]) ** 2 + (alvo.y - self.centro[1]) ** 2 <= self.raio ** 2:\n",
        "      return True\n",
        "    else:\n",
        "      return False\n",
        "\n"
      ],
      "execution_count": 3,
      "outputs": []
    },
    {
      "cell_type": "code",
      "metadata": {
        "colab": {
          "base_uri": "https://localhost:8080/"
        },
        "id": "odoehl4qg4zg",
        "outputId": "b47ce4a4-2104-42ac-930d-933ce3af5399"
      },
      "source": [
        "print(Circulo((1,1), 3))\n",
        "print(Circulo((1, 1), 5).ponto_no_circulo(Ponto(4, 5)))"
      ],
      "execution_count": null,
      "outputs": [
        {
          "output_type": "stream",
          "name": "stdout",
          "text": [
            "(1, 1)\n",
            "True\n"
          ]
        }
      ]
    },
    {
      "cell_type": "markdown",
      "metadata": {
        "id": "FUtljZfCi7a6"
      },
      "source": [
        "7) Escreva uma função chamada **desenhar_ret** que use um objeto ***Turtle*** e um ***Retangulo*** e use o Turtle para desenhar o retângulo."
      ]
    },
    {
      "cell_type": "markdown",
      "metadata": {
        "id": "KweQJjiySCn0"
      },
      "source": [
        "OBS.: Fiz no ColabTurtle pois o Trinked ficou muito cheio de informação numa janela pequena... achei bem confuso."
      ]
    },
    {
      "cell_type": "code",
      "metadata": {
        "colab": {
          "base_uri": "https://localhost:8080/"
        },
        "id": "KwA2-84UFc6i",
        "outputId": "b4a02929-9c0d-4906-cf1a-bc5ea8e1e4e6"
      },
      "source": [
        "!pip3 install ColabTurtle"
      ],
      "execution_count": 19,
      "outputs": [
        {
          "output_type": "stream",
          "name": "stdout",
          "text": [
            "Requirement already satisfied: ColabTurtle in /usr/local/lib/python3.7/dist-packages (2.1.0)\n"
          ]
        }
      ]
    },
    {
      "cell_type": "code",
      "metadata": {
        "colab": {
          "base_uri": "https://localhost:8080/",
          "height": 521
        },
        "id": "JeM71UZcCsyY",
        "outputId": "475616fa-4c3f-4c40-88f6-642f525eb691"
      },
      "source": [
        "def desenhar_ret(t, lado):\n",
        "  \"\"\" Cria um desenho de um retângulo \"\"\"\n",
        "  from ColabTurtle import Turtle\n",
        "\n",
        "  t.initializeTurtle()\n",
        "  t.speed(5)\n",
        "  t.penup()\n",
        "  t.goto(lado.canto.x, lado.canto.y)\n",
        "  t.pendown()\n",
        "\n",
        "  for i in range(2):\n",
        "    t.forward(lado.altura)\n",
        "    t.right(90)\n",
        "    t.forward(lado.largura)\n",
        "    t.right(90)\n",
        "  \n",
        "  t.penup()\n",
        "  t.goto(1000, 0)\n",
        "\n",
        "desenhar_ret(Turtle, Retangulo(Ponto(100, 250), 200, 100))\n"
      ],
      "execution_count": 55,
      "outputs": [
        {
          "output_type": "display_data",
          "data": {
            "text/html": [
              "\n",
              "      <svg width=\"800\" height=\"500\">\n",
              "        <rect width=\"100%\" height=\"100%\" fill=\"black\"/>\n",
              "        <line x1=\"100\" y1=\"250\" x2=\"100.0\" y2=\"150.0\" stroke-linecap=\"round\" style=\"stroke:white;stroke-width:4\"/><line x1=\"100.0\" y1=\"150.0\" x2=\"300.0\" y2=\"150.0\" stroke-linecap=\"round\" style=\"stroke:white;stroke-width:4\"/><line x1=\"300.0\" y1=\"150.0\" x2=\"300.0\" y2=\"250.0\" stroke-linecap=\"round\" style=\"stroke:white;stroke-width:4\"/><line x1=\"300.0\" y1=\"250.0\" x2=\"100.0\" y2=\"250.0\" stroke-linecap=\"round\" style=\"stroke:white;stroke-width:4\"/>\n",
              "        <g visibility=visible transform=\"rotate(360,1000,0) translate(982, -18)\">\n",
              "<path style=\" stroke:none;fill-rule:evenodd;fill:white;fill-opacity:1;\" d=\"M 18.214844 0.632812 C 16.109375 1.800781 15.011719 4.074219 15.074219 7.132812 L 15.085938 7.652344 L 14.785156 7.496094 C 13.476562 6.824219 11.957031 6.671875 10.40625 7.066406 C 8.46875 7.550781 6.515625 9.15625 4.394531 11.992188 C 3.0625 13.777344 2.679688 14.636719 3.042969 15.027344 L 3.15625 15.152344 L 3.519531 15.152344 C 4.238281 15.152344 4.828125 14.886719 8.1875 13.039062 C 9.386719 12.378906 10.371094 11.839844 10.378906 11.839844 C 10.386719 11.839844 10.355469 11.929688 10.304688 12.035156 C 9.832031 13.09375 9.257812 14.820312 8.96875 16.078125 C 7.914062 20.652344 8.617188 24.53125 11.070312 27.660156 C 11.351562 28.015625 11.363281 27.914062 10.972656 28.382812 C 8.925781 30.84375 7.945312 33.28125 8.238281 35.1875 C 8.289062 35.527344 8.28125 35.523438 8.917969 35.523438 C 10.941406 35.523438 13.074219 34.207031 15.136719 31.6875 C 15.359375 31.417969 15.328125 31.425781 15.5625 31.574219 C 16.292969 32.042969 18.023438 32.964844 18.175781 32.964844 C 18.335938 32.964844 19.941406 32.210938 20.828125 31.71875 C 20.996094 31.625 21.136719 31.554688 21.136719 31.558594 C 21.203125 31.664062 21.898438 32.414062 22.222656 32.730469 C 23.835938 34.300781 25.5625 35.132812 27.582031 35.300781 C 27.90625 35.328125 27.9375 35.308594 28.007812 34.984375 C 28.382812 33.242188 27.625 30.925781 25.863281 28.425781 L 25.542969 27.96875 L 25.699219 27.785156 C 28.945312 23.960938 29.132812 18.699219 26.257812 11.96875 L 26.207031 11.84375 L 27.945312 12.703125 C 31.53125 14.476562 32.316406 14.800781 33.03125 14.800781 C 33.976562 14.800781 33.78125 13.9375 32.472656 12.292969 C 28.519531 7.355469 25.394531 5.925781 21.921875 7.472656 L 21.558594 7.636719 L 21.578125 7.542969 C 21.699219 6.992188 21.761719 5.742188 21.699219 5.164062 C 21.496094 3.296875 20.664062 1.964844 19.003906 0.855469 C 18.480469 0.503906 18.457031 0.5 18.214844 0.632812\"/>\n",
              "</g>\n",
              "      </svg>\n",
              "    "
            ],
            "text/plain": [
              "<IPython.core.display.HTML object>"
            ]
          },
          "metadata": {}
        }
      ]
    },
    {
      "cell_type": "markdown",
      "metadata": {
        "id": "p9Xb13UJi_ZR"
      },
      "source": [
        "8) Escreva uma função chamada desenhar_circulo que use uma ***Turtle*** e um ***Circulo*** e desenhe o ***Circulo***."
      ]
    },
    {
      "cell_type": "code",
      "metadata": {
        "id": "5RSnCwvzjCOJ",
        "colab": {
          "base_uri": "https://localhost:8080/",
          "height": 521
        },
        "outputId": "ef5e07e0-fd9a-4dc3-a178-fac3b7a5ac3d"
      },
      "source": [
        "def desenhar_circulo(t, circulo):\n",
        "  from ColabTurtle import Turtle\n",
        "\n",
        "  t.initializeTurtle()\n",
        "  t.speed(13)\n",
        "  t.penup()\n",
        "  t.goto(circulo.centro.x - circulo.raio, circulo.centro.y - circulo.raio)\n",
        "  t.pendown()\n",
        "  circle(t, circulo)\n",
        "  t.penup()\n",
        "  t.goto(1000, 0)  \n",
        "\n",
        "def circle(t, r):\n",
        "  from math import pi\n",
        "\n",
        "  n = 360\n",
        "  length = 2 * pi * r.raio / n\n",
        "  polygon(t, length, n)\n",
        "\n",
        "    \n",
        "def polygon(t, length, n):\n",
        "    for x in range(n):\n",
        "        t.forward(length)\n",
        "        t.right(360 / n)\n",
        "\n",
        "desenhar_circulo(Turtle, Circulo(Ponto(200, 300), 100))\n"
      ],
      "execution_count": 67,
      "outputs": [
        {
          "output_type": "display_data",
          "data": {
            "text/html": [
              "\n",
              "      <svg width=\"800\" height=\"500\">\n",
              "        <rect width=\"100%\" height=\"100%\" fill=\"black\"/>\n",
              "        <line x1=\"100\" y1=\"200\" x2=\"100.0\" y2=\"198.255\" stroke-linecap=\"round\" style=\"stroke:white;stroke-width:4\"/><line x1=\"100.0\" y1=\"198.255\" x2=\"100.03\" y2=\"196.51\" stroke-linecap=\"round\" style=\"stroke:white;stroke-width:4\"/><line x1=\"100.03\" y1=\"196.51\" x2=\"100.091\" y2=\"194.766\" stroke-linecap=\"round\" style=\"stroke:white;stroke-width:4\"/><line x1=\"100.091\" y1=\"194.766\" x2=\"100.182\" y2=\"193.023\" stroke-linecap=\"round\" style=\"stroke:white;stroke-width:4\"/><line x1=\"100.182\" y1=\"193.023\" x2=\"100.304\" y2=\"191.282\" stroke-linecap=\"round\" style=\"stroke:white;stroke-width:4\"/><line x1=\"100.304\" y1=\"191.282\" x2=\"100.456\" y2=\"189.543\" stroke-linecap=\"round\" style=\"stroke:white;stroke-width:4\"/><line x1=\"100.456\" y1=\"189.543\" x2=\"100.638\" y2=\"187.807\" stroke-linecap=\"round\" style=\"stroke:white;stroke-width:4\"/><line x1=\"100.638\" y1=\"187.807\" x2=\"100.851\" y2=\"186.075\" stroke-linecap=\"round\" style=\"stroke:white;stroke-width:4\"/><line x1=\"100.851\" y1=\"186.075\" x2=\"101.094\" y2=\"184.347\" stroke-linecap=\"round\" style=\"stroke:white;stroke-width:4\"/><line x1=\"101.094\" y1=\"184.347\" x2=\"101.367\" y2=\"182.623\" stroke-linecap=\"round\" style=\"stroke:white;stroke-width:4\"/><line x1=\"101.367\" y1=\"182.623\" x2=\"101.67\" y2=\"180.904\" stroke-linecap=\"round\" style=\"stroke:white;stroke-width:4\"/><line x1=\"101.67\" y1=\"180.904\" x2=\"102.003\" y2=\"179.191\" stroke-linecap=\"round\" style=\"stroke:white;stroke-width:4\"/><line x1=\"102.003\" y1=\"179.191\" x2=\"102.366\" y2=\"177.484\" stroke-linecap=\"round\" style=\"stroke:white;stroke-width:4\"/><line x1=\"102.366\" y1=\"177.484\" x2=\"102.759\" y2=\"175.783\" stroke-linecap=\"round\" style=\"stroke:white;stroke-width:4\"/><line x1=\"102.759\" y1=\"175.783\" x2=\"103.181\" y2=\"174.09\" stroke-linecap=\"round\" style=\"stroke:white;stroke-width:4\"/><line x1=\"103.181\" y1=\"174.09\" x2=\"103.633\" y2=\"172.404\" stroke-linecap=\"round\" style=\"stroke:white;stroke-width:4\"/><line x1=\"103.633\" y1=\"172.404\" x2=\"104.114\" y2=\"170.726\" stroke-linecap=\"round\" style=\"stroke:white;stroke-width:4\"/><line x1=\"104.114\" y1=\"170.726\" x2=\"104.624\" y2=\"169.057\" stroke-linecap=\"round\" style=\"stroke:white;stroke-width:4\"/><line x1=\"104.624\" y1=\"169.057\" x2=\"105.163\" y2=\"167.397\" stroke-linecap=\"round\" style=\"stroke:white;stroke-width:4\"/><line x1=\"105.163\" y1=\"167.397\" x2=\"105.731\" y2=\"165.747\" stroke-linecap=\"round\" style=\"stroke:white;stroke-width:4\"/><line x1=\"105.731\" y1=\"165.747\" x2=\"106.328\" y2=\"164.107\" stroke-linecap=\"round\" style=\"stroke:white;stroke-width:4\"/><line x1=\"106.328\" y1=\"164.107\" x2=\"106.953\" y2=\"162.478\" stroke-linecap=\"round\" style=\"stroke:white;stroke-width:4\"/><line x1=\"106.953\" y1=\"162.478\" x2=\"107.607\" y2=\"160.86\" stroke-linecap=\"round\" style=\"stroke:white;stroke-width:4\"/><line x1=\"107.607\" y1=\"160.86\" x2=\"108.289\" y2=\"159.253\" stroke-linecap=\"round\" style=\"stroke:white;stroke-width:4\"/><line x1=\"108.289\" y1=\"159.253\" x2=\"108.999\" y2=\"157.659\" stroke-linecap=\"round\" style=\"stroke:white;stroke-width:4\"/><line x1=\"108.999\" y1=\"157.659\" x2=\"109.737\" y2=\"156.077\" stroke-linecap=\"round\" style=\"stroke:white;stroke-width:4\"/><line x1=\"109.737\" y1=\"156.077\" x2=\"110.502\" y2=\"154.508\" stroke-linecap=\"round\" style=\"stroke:white;stroke-width:4\"/><line x1=\"110.502\" y1=\"154.508\" x2=\"111.294\" y2=\"152.953\" stroke-linecap=\"round\" style=\"stroke:white;stroke-width:4\"/><line x1=\"111.294\" y1=\"152.953\" x2=\"112.113\" y2=\"151.412\" stroke-linecap=\"round\" style=\"stroke:white;stroke-width:4\"/><line x1=\"112.113\" y1=\"151.412\" x2=\"112.959\" y2=\"149.886\" stroke-linecap=\"round\" style=\"stroke:white;stroke-width:4\"/><line x1=\"112.959\" y1=\"149.886\" x2=\"113.832\" y2=\"148.375\" stroke-linecap=\"round\" style=\"stroke:white;stroke-width:4\"/><line x1=\"113.832\" y1=\"148.375\" x2=\"114.731\" y2=\"146.879\" stroke-linecap=\"round\" style=\"stroke:white;stroke-width:4\"/><line x1=\"114.731\" y1=\"146.879\" x2=\"115.656\" y2=\"145.399\" stroke-linecap=\"round\" style=\"stroke:white;stroke-width:4\"/><line x1=\"115.656\" y1=\"145.399\" x2=\"116.607\" y2=\"143.935\" stroke-linecap=\"round\" style=\"stroke:white;stroke-width:4\"/><line x1=\"116.607\" y1=\"143.935\" x2=\"117.583\" y2=\"142.488\" stroke-linecap=\"round\" style=\"stroke:white;stroke-width:4\"/><line x1=\"117.583\" y1=\"142.488\" x2=\"118.584\" y2=\"141.058\" stroke-linecap=\"round\" style=\"stroke:white;stroke-width:4\"/><line x1=\"118.584\" y1=\"141.058\" x2=\"119.61\" y2=\"139.646\" stroke-linecap=\"round\" style=\"stroke:white;stroke-width:4\"/><line x1=\"119.61\" y1=\"139.646\" x2=\"120.66\" y2=\"138.252\" stroke-linecap=\"round\" style=\"stroke:white;stroke-width:4\"/><line x1=\"120.66\" y1=\"138.252\" x2=\"121.735\" y2=\"136.877\" stroke-linecap=\"round\" style=\"stroke:white;stroke-width:4\"/><line x1=\"121.735\" y1=\"136.877\" x2=\"122.833\" y2=\"135.521\" stroke-linecap=\"round\" style=\"stroke:white;stroke-width:4\"/><line x1=\"122.833\" y1=\"135.521\" x2=\"123.955\" y2=\"134.184\" stroke-linecap=\"round\" style=\"stroke:white;stroke-width:4\"/><line x1=\"123.955\" y1=\"134.184\" x2=\"125.1\" y2=\"132.867\" stroke-linecap=\"round\" style=\"stroke:white;stroke-width:4\"/><line x1=\"125.1\" y1=\"132.867\" x2=\"126.268\" y2=\"131.57\" stroke-linecap=\"round\" style=\"stroke:white;stroke-width:4\"/><line x1=\"126.268\" y1=\"131.57\" x2=\"127.458\" y2=\"130.294\" stroke-linecap=\"round\" style=\"stroke:white;stroke-width:4\"/><line x1=\"127.458\" y1=\"130.294\" x2=\"128.67\" y2=\"129.039\" stroke-linecap=\"round\" style=\"stroke:white;stroke-width:4\"/><line x1=\"128.67\" y1=\"129.039\" x2=\"129.904\" y2=\"127.805\" stroke-linecap=\"round\" style=\"stroke:white;stroke-width:4\"/><line x1=\"129.904\" y1=\"127.805\" x2=\"131.159\" y2=\"126.593\" stroke-linecap=\"round\" style=\"stroke:white;stroke-width:4\"/><line x1=\"131.159\" y1=\"126.593\" x2=\"132.435\" y2=\"125.403\" stroke-linecap=\"round\" style=\"stroke:white;stroke-width:4\"/><line x1=\"132.435\" y1=\"125.403\" x2=\"133.732\" y2=\"124.235\" stroke-linecap=\"round\" style=\"stroke:white;stroke-width:4\"/><line x1=\"133.732\" y1=\"124.235\" x2=\"135.049\" y2=\"123.09\" stroke-linecap=\"round\" style=\"stroke:white;stroke-width:4\"/><line x1=\"135.049\" y1=\"123.09\" x2=\"136.386\" y2=\"121.968\" stroke-linecap=\"round\" style=\"stroke:white;stroke-width:4\"/><line x1=\"136.386\" y1=\"121.968\" x2=\"137.742\" y2=\"120.87\" stroke-linecap=\"round\" style=\"stroke:white;stroke-width:4\"/><line x1=\"137.742\" y1=\"120.87\" x2=\"139.117\" y2=\"119.795\" stroke-linecap=\"round\" style=\"stroke:white;stroke-width:4\"/><line x1=\"139.117\" y1=\"119.795\" x2=\"140.511\" y2=\"118.745\" stroke-linecap=\"round\" style=\"stroke:white;stroke-width:4\"/><line x1=\"140.511\" y1=\"118.745\" x2=\"141.923\" y2=\"117.719\" stroke-linecap=\"round\" style=\"stroke:white;stroke-width:4\"/><line x1=\"141.923\" y1=\"117.719\" x2=\"143.353\" y2=\"116.718\" stroke-linecap=\"round\" style=\"stroke:white;stroke-width:4\"/><line x1=\"143.353\" y1=\"116.718\" x2=\"144.8\" y2=\"115.742\" stroke-linecap=\"round\" style=\"stroke:white;stroke-width:4\"/><line x1=\"144.8\" y1=\"115.742\" x2=\"146.264\" y2=\"114.791\" stroke-linecap=\"round\" style=\"stroke:white;stroke-width:4\"/><line x1=\"146.264\" y1=\"114.791\" x2=\"147.744\" y2=\"113.866\" stroke-linecap=\"round\" style=\"stroke:white;stroke-width:4\"/><line x1=\"147.744\" y1=\"113.866\" x2=\"149.24\" y2=\"112.967\" stroke-linecap=\"round\" style=\"stroke:white;stroke-width:4\"/><line x1=\"149.24\" y1=\"112.967\" x2=\"150.751\" y2=\"112.094\" stroke-linecap=\"round\" style=\"stroke:white;stroke-width:4\"/><line x1=\"150.751\" y1=\"112.094\" x2=\"152.277\" y2=\"111.248\" stroke-linecap=\"round\" style=\"stroke:white;stroke-width:4\"/><line x1=\"152.277\" y1=\"111.248\" x2=\"153.818\" y2=\"110.429\" stroke-linecap=\"round\" style=\"stroke:white;stroke-width:4\"/><line x1=\"153.818\" y1=\"110.429\" x2=\"155.373\" y2=\"109.637\" stroke-linecap=\"round\" style=\"stroke:white;stroke-width:4\"/><line x1=\"155.373\" y1=\"109.637\" x2=\"156.942\" y2=\"108.872\" stroke-linecap=\"round\" style=\"stroke:white;stroke-width:4\"/><line x1=\"156.942\" y1=\"108.872\" x2=\"158.524\" y2=\"108.134\" stroke-linecap=\"round\" style=\"stroke:white;stroke-width:4\"/><line x1=\"158.524\" y1=\"108.134\" x2=\"160.118\" y2=\"107.424\" stroke-linecap=\"round\" style=\"stroke:white;stroke-width:4\"/><line x1=\"160.118\" y1=\"107.424\" x2=\"161.725\" y2=\"106.742\" stroke-linecap=\"round\" style=\"stroke:white;stroke-width:4\"/><line x1=\"161.725\" y1=\"106.742\" x2=\"163.343\" y2=\"106.088\" stroke-linecap=\"round\" style=\"stroke:white;stroke-width:4\"/><line x1=\"163.343\" y1=\"106.088\" x2=\"164.972\" y2=\"105.463\" stroke-linecap=\"round\" style=\"stroke:white;stroke-width:4\"/><line x1=\"164.972\" y1=\"105.463\" x2=\"166.612\" y2=\"104.866\" stroke-linecap=\"round\" style=\"stroke:white;stroke-width:4\"/><line x1=\"166.612\" y1=\"104.866\" x2=\"168.262\" y2=\"104.298\" stroke-linecap=\"round\" style=\"stroke:white;stroke-width:4\"/><line x1=\"168.262\" y1=\"104.298\" x2=\"169.922\" y2=\"103.759\" stroke-linecap=\"round\" style=\"stroke:white;stroke-width:4\"/><line x1=\"169.922\" y1=\"103.759\" x2=\"171.591\" y2=\"103.249\" stroke-linecap=\"round\" style=\"stroke:white;stroke-width:4\"/><line x1=\"171.591\" y1=\"103.249\" x2=\"173.269\" y2=\"102.768\" stroke-linecap=\"round\" style=\"stroke:white;stroke-width:4\"/><line x1=\"173.269\" y1=\"102.768\" x2=\"174.955\" y2=\"102.316\" stroke-linecap=\"round\" style=\"stroke:white;stroke-width:4\"/><line x1=\"174.955\" y1=\"102.316\" x2=\"176.648\" y2=\"101.894\" stroke-linecap=\"round\" style=\"stroke:white;stroke-width:4\"/><line x1=\"176.648\" y1=\"101.894\" x2=\"178.349\" y2=\"101.501\" stroke-linecap=\"round\" style=\"stroke:white;stroke-width:4\"/><line x1=\"178.349\" y1=\"101.501\" x2=\"180.056\" y2=\"101.138\" stroke-linecap=\"round\" style=\"stroke:white;stroke-width:4\"/><line x1=\"180.056\" y1=\"101.138\" x2=\"181.769\" y2=\"100.805\" stroke-linecap=\"round\" style=\"stroke:white;stroke-width:4\"/><line x1=\"181.769\" y1=\"100.805\" x2=\"183.488\" y2=\"100.502\" stroke-linecap=\"round\" style=\"stroke:white;stroke-width:4\"/><line x1=\"183.488\" y1=\"100.502\" x2=\"185.212\" y2=\"100.229\" stroke-linecap=\"round\" style=\"stroke:white;stroke-width:4\"/><line x1=\"185.212\" y1=\"100.229\" x2=\"186.94\" y2=\"99.986\" stroke-linecap=\"round\" style=\"stroke:white;stroke-width:4\"/><line x1=\"186.94\" y1=\"99.986\" x2=\"188.672\" y2=\"99.773\" stroke-linecap=\"round\" style=\"stroke:white;stroke-width:4\"/><line x1=\"188.672\" y1=\"99.773\" x2=\"190.408\" y2=\"99.591\" stroke-linecap=\"round\" style=\"stroke:white;stroke-width:4\"/><line x1=\"190.408\" y1=\"99.591\" x2=\"192.147\" y2=\"99.439\" stroke-linecap=\"round\" style=\"stroke:white;stroke-width:4\"/><line x1=\"192.147\" y1=\"99.439\" x2=\"193.888\" y2=\"99.317\" stroke-linecap=\"round\" style=\"stroke:white;stroke-width:4\"/><line x1=\"193.888\" y1=\"99.317\" x2=\"195.631\" y2=\"99.226\" stroke-linecap=\"round\" style=\"stroke:white;stroke-width:4\"/><line x1=\"195.631\" y1=\"99.226\" x2=\"197.375\" y2=\"99.165\" stroke-linecap=\"round\" style=\"stroke:white;stroke-width:4\"/><line x1=\"197.375\" y1=\"99.165\" x2=\"199.12\" y2=\"99.135\" stroke-linecap=\"round\" style=\"stroke:white;stroke-width:4\"/><line x1=\"199.12\" y1=\"99.135\" x2=\"200.865\" y2=\"99.135\" stroke-linecap=\"round\" style=\"stroke:white;stroke-width:4\"/><line x1=\"200.865\" y1=\"99.135\" x2=\"202.61\" y2=\"99.165\" stroke-linecap=\"round\" style=\"stroke:white;stroke-width:4\"/><line x1=\"202.61\" y1=\"99.165\" x2=\"204.354\" y2=\"99.226\" stroke-linecap=\"round\" style=\"stroke:white;stroke-width:4\"/><line x1=\"204.354\" y1=\"99.226\" x2=\"206.097\" y2=\"99.317\" stroke-linecap=\"round\" style=\"stroke:white;stroke-width:4\"/><line x1=\"206.097\" y1=\"99.317\" x2=\"207.838\" y2=\"99.439\" stroke-linecap=\"round\" style=\"stroke:white;stroke-width:4\"/><line x1=\"207.838\" y1=\"99.439\" x2=\"209.577\" y2=\"99.591\" stroke-linecap=\"round\" style=\"stroke:white;stroke-width:4\"/><line x1=\"209.577\" y1=\"99.591\" x2=\"211.313\" y2=\"99.773\" stroke-linecap=\"round\" style=\"stroke:white;stroke-width:4\"/><line x1=\"211.313\" y1=\"99.773\" x2=\"213.045\" y2=\"99.986\" stroke-linecap=\"round\" style=\"stroke:white;stroke-width:4\"/><line x1=\"213.045\" y1=\"99.986\" x2=\"214.773\" y2=\"100.229\" stroke-linecap=\"round\" style=\"stroke:white;stroke-width:4\"/><line x1=\"214.773\" y1=\"100.229\" x2=\"216.497\" y2=\"100.502\" stroke-linecap=\"round\" style=\"stroke:white;stroke-width:4\"/><line x1=\"216.497\" y1=\"100.502\" x2=\"218.216\" y2=\"100.805\" stroke-linecap=\"round\" style=\"stroke:white;stroke-width:4\"/><line x1=\"218.216\" y1=\"100.805\" x2=\"219.929\" y2=\"101.138\" stroke-linecap=\"round\" style=\"stroke:white;stroke-width:4\"/><line x1=\"219.929\" y1=\"101.138\" x2=\"221.636\" y2=\"101.501\" stroke-linecap=\"round\" style=\"stroke:white;stroke-width:4\"/><line x1=\"221.636\" y1=\"101.501\" x2=\"223.337\" y2=\"101.894\" stroke-linecap=\"round\" style=\"stroke:white;stroke-width:4\"/><line x1=\"223.337\" y1=\"101.894\" x2=\"225.03\" y2=\"102.316\" stroke-linecap=\"round\" style=\"stroke:white;stroke-width:4\"/><line x1=\"225.03\" y1=\"102.316\" x2=\"226.716\" y2=\"102.768\" stroke-linecap=\"round\" style=\"stroke:white;stroke-width:4\"/><line x1=\"226.716\" y1=\"102.768\" x2=\"228.394\" y2=\"103.249\" stroke-linecap=\"round\" style=\"stroke:white;stroke-width:4\"/><line x1=\"228.394\" y1=\"103.249\" x2=\"230.063\" y2=\"103.759\" stroke-linecap=\"round\" style=\"stroke:white;stroke-width:4\"/><line x1=\"230.063\" y1=\"103.759\" x2=\"231.723\" y2=\"104.298\" stroke-linecap=\"round\" style=\"stroke:white;stroke-width:4\"/><line x1=\"231.723\" y1=\"104.298\" x2=\"233.373\" y2=\"104.866\" stroke-linecap=\"round\" style=\"stroke:white;stroke-width:4\"/><line x1=\"233.373\" y1=\"104.866\" x2=\"235.013\" y2=\"105.463\" stroke-linecap=\"round\" style=\"stroke:white;stroke-width:4\"/><line x1=\"235.013\" y1=\"105.463\" x2=\"236.642\" y2=\"106.088\" stroke-linecap=\"round\" style=\"stroke:white;stroke-width:4\"/><line x1=\"236.642\" y1=\"106.088\" x2=\"238.26\" y2=\"106.742\" stroke-linecap=\"round\" style=\"stroke:white;stroke-width:4\"/><line x1=\"238.26\" y1=\"106.742\" x2=\"239.867\" y2=\"107.424\" stroke-linecap=\"round\" style=\"stroke:white;stroke-width:4\"/><line x1=\"239.867\" y1=\"107.424\" x2=\"241.461\" y2=\"108.134\" stroke-linecap=\"round\" style=\"stroke:white;stroke-width:4\"/><line x1=\"241.461\" y1=\"108.134\" x2=\"243.043\" y2=\"108.872\" stroke-linecap=\"round\" style=\"stroke:white;stroke-width:4\"/><line x1=\"243.043\" y1=\"108.872\" x2=\"244.612\" y2=\"109.637\" stroke-linecap=\"round\" style=\"stroke:white;stroke-width:4\"/><line x1=\"244.612\" y1=\"109.637\" x2=\"246.167\" y2=\"110.429\" stroke-linecap=\"round\" style=\"stroke:white;stroke-width:4\"/><line x1=\"246.167\" y1=\"110.429\" x2=\"247.708\" y2=\"111.248\" stroke-linecap=\"round\" style=\"stroke:white;stroke-width:4\"/><line x1=\"247.708\" y1=\"111.248\" x2=\"249.234\" y2=\"112.094\" stroke-linecap=\"round\" style=\"stroke:white;stroke-width:4\"/><line x1=\"249.234\" y1=\"112.094\" x2=\"250.745\" y2=\"112.967\" stroke-linecap=\"round\" style=\"stroke:white;stroke-width:4\"/><line x1=\"250.745\" y1=\"112.967\" x2=\"252.241\" y2=\"113.866\" stroke-linecap=\"round\" style=\"stroke:white;stroke-width:4\"/><line x1=\"252.241\" y1=\"113.866\" x2=\"253.721\" y2=\"114.791\" stroke-linecap=\"round\" style=\"stroke:white;stroke-width:4\"/><line x1=\"253.721\" y1=\"114.791\" x2=\"255.185\" y2=\"115.742\" stroke-linecap=\"round\" style=\"stroke:white;stroke-width:4\"/><line x1=\"255.185\" y1=\"115.742\" x2=\"256.632\" y2=\"116.718\" stroke-linecap=\"round\" style=\"stroke:white;stroke-width:4\"/><line x1=\"256.632\" y1=\"116.718\" x2=\"258.062\" y2=\"117.719\" stroke-linecap=\"round\" style=\"stroke:white;stroke-width:4\"/><line x1=\"258.062\" y1=\"117.719\" x2=\"259.474\" y2=\"118.745\" stroke-linecap=\"round\" style=\"stroke:white;stroke-width:4\"/><line x1=\"259.474\" y1=\"118.745\" x2=\"260.868\" y2=\"119.795\" stroke-linecap=\"round\" style=\"stroke:white;stroke-width:4\"/><line x1=\"260.868\" y1=\"119.795\" x2=\"262.243\" y2=\"120.87\" stroke-linecap=\"round\" style=\"stroke:white;stroke-width:4\"/><line x1=\"262.243\" y1=\"120.87\" x2=\"263.599\" y2=\"121.968\" stroke-linecap=\"round\" style=\"stroke:white;stroke-width:4\"/><line x1=\"263.599\" y1=\"121.968\" x2=\"264.936\" y2=\"123.09\" stroke-linecap=\"round\" style=\"stroke:white;stroke-width:4\"/><line x1=\"264.936\" y1=\"123.09\" x2=\"266.253\" y2=\"124.235\" stroke-linecap=\"round\" style=\"stroke:white;stroke-width:4\"/><line x1=\"266.253\" y1=\"124.235\" x2=\"267.55\" y2=\"125.403\" stroke-linecap=\"round\" style=\"stroke:white;stroke-width:4\"/><line x1=\"267.55\" y1=\"125.403\" x2=\"268.826\" y2=\"126.593\" stroke-linecap=\"round\" style=\"stroke:white;stroke-width:4\"/><line x1=\"268.826\" y1=\"126.593\" x2=\"270.081\" y2=\"127.805\" stroke-linecap=\"round\" style=\"stroke:white;stroke-width:4\"/><line x1=\"270.081\" y1=\"127.805\" x2=\"271.315\" y2=\"129.039\" stroke-linecap=\"round\" style=\"stroke:white;stroke-width:4\"/><line x1=\"271.315\" y1=\"129.039\" x2=\"272.527\" y2=\"130.294\" stroke-linecap=\"round\" style=\"stroke:white;stroke-width:4\"/><line x1=\"272.527\" y1=\"130.294\" x2=\"273.717\" y2=\"131.57\" stroke-linecap=\"round\" style=\"stroke:white;stroke-width:4\"/><line x1=\"273.717\" y1=\"131.57\" x2=\"274.885\" y2=\"132.867\" stroke-linecap=\"round\" style=\"stroke:white;stroke-width:4\"/><line x1=\"274.885\" y1=\"132.867\" x2=\"276.03\" y2=\"134.184\" stroke-linecap=\"round\" style=\"stroke:white;stroke-width:4\"/><line x1=\"276.03\" y1=\"134.184\" x2=\"277.152\" y2=\"135.521\" stroke-linecap=\"round\" style=\"stroke:white;stroke-width:4\"/><line x1=\"277.152\" y1=\"135.521\" x2=\"278.25\" y2=\"136.877\" stroke-linecap=\"round\" style=\"stroke:white;stroke-width:4\"/><line x1=\"278.25\" y1=\"136.877\" x2=\"279.325\" y2=\"138.252\" stroke-linecap=\"round\" style=\"stroke:white;stroke-width:4\"/><line x1=\"279.325\" y1=\"138.252\" x2=\"280.375\" y2=\"139.646\" stroke-linecap=\"round\" style=\"stroke:white;stroke-width:4\"/><line x1=\"280.375\" y1=\"139.646\" x2=\"281.401\" y2=\"141.058\" stroke-linecap=\"round\" style=\"stroke:white;stroke-width:4\"/><line x1=\"281.401\" y1=\"141.058\" x2=\"282.402\" y2=\"142.488\" stroke-linecap=\"round\" style=\"stroke:white;stroke-width:4\"/><line x1=\"282.402\" y1=\"142.488\" x2=\"283.378\" y2=\"143.935\" stroke-linecap=\"round\" style=\"stroke:white;stroke-width:4\"/><line x1=\"283.378\" y1=\"143.935\" x2=\"284.329\" y2=\"145.399\" stroke-linecap=\"round\" style=\"stroke:white;stroke-width:4\"/><line x1=\"284.329\" y1=\"145.399\" x2=\"285.254\" y2=\"146.879\" stroke-linecap=\"round\" style=\"stroke:white;stroke-width:4\"/><line x1=\"285.254\" y1=\"146.879\" x2=\"286.153\" y2=\"148.375\" stroke-linecap=\"round\" style=\"stroke:white;stroke-width:4\"/><line x1=\"286.153\" y1=\"148.375\" x2=\"287.026\" y2=\"149.886\" stroke-linecap=\"round\" style=\"stroke:white;stroke-width:4\"/><line x1=\"287.026\" y1=\"149.886\" x2=\"287.872\" y2=\"151.412\" stroke-linecap=\"round\" style=\"stroke:white;stroke-width:4\"/><line x1=\"287.872\" y1=\"151.412\" x2=\"288.691\" y2=\"152.953\" stroke-linecap=\"round\" style=\"stroke:white;stroke-width:4\"/><line x1=\"288.691\" y1=\"152.953\" x2=\"289.483\" y2=\"154.508\" stroke-linecap=\"round\" style=\"stroke:white;stroke-width:4\"/><line x1=\"289.483\" y1=\"154.508\" x2=\"290.248\" y2=\"156.077\" stroke-linecap=\"round\" style=\"stroke:white;stroke-width:4\"/><line x1=\"290.248\" y1=\"156.077\" x2=\"290.986\" y2=\"157.659\" stroke-linecap=\"round\" style=\"stroke:white;stroke-width:4\"/><line x1=\"290.986\" y1=\"157.659\" x2=\"291.696\" y2=\"159.253\" stroke-linecap=\"round\" style=\"stroke:white;stroke-width:4\"/><line x1=\"291.696\" y1=\"159.253\" x2=\"292.378\" y2=\"160.86\" stroke-linecap=\"round\" style=\"stroke:white;stroke-width:4\"/><line x1=\"292.378\" y1=\"160.86\" x2=\"293.032\" y2=\"162.478\" stroke-linecap=\"round\" style=\"stroke:white;stroke-width:4\"/><line x1=\"293.032\" y1=\"162.478\" x2=\"293.657\" y2=\"164.107\" stroke-linecap=\"round\" style=\"stroke:white;stroke-width:4\"/><line x1=\"293.657\" y1=\"164.107\" x2=\"294.254\" y2=\"165.747\" stroke-linecap=\"round\" style=\"stroke:white;stroke-width:4\"/><line x1=\"294.254\" y1=\"165.747\" x2=\"294.822\" y2=\"167.397\" stroke-linecap=\"round\" style=\"stroke:white;stroke-width:4\"/><line x1=\"294.822\" y1=\"167.397\" x2=\"295.361\" y2=\"169.057\" stroke-linecap=\"round\" style=\"stroke:white;stroke-width:4\"/><line x1=\"295.361\" y1=\"169.057\" x2=\"295.871\" y2=\"170.726\" stroke-linecap=\"round\" style=\"stroke:white;stroke-width:4\"/><line x1=\"295.871\" y1=\"170.726\" x2=\"296.352\" y2=\"172.404\" stroke-linecap=\"round\" style=\"stroke:white;stroke-width:4\"/><line x1=\"296.352\" y1=\"172.404\" x2=\"296.804\" y2=\"174.09\" stroke-linecap=\"round\" style=\"stroke:white;stroke-width:4\"/><line x1=\"296.804\" y1=\"174.09\" x2=\"297.226\" y2=\"175.783\" stroke-linecap=\"round\" style=\"stroke:white;stroke-width:4\"/><line x1=\"297.226\" y1=\"175.783\" x2=\"297.619\" y2=\"177.484\" stroke-linecap=\"round\" style=\"stroke:white;stroke-width:4\"/><line x1=\"297.619\" y1=\"177.484\" x2=\"297.982\" y2=\"179.191\" stroke-linecap=\"round\" style=\"stroke:white;stroke-width:4\"/><line x1=\"297.982\" y1=\"179.191\" x2=\"298.315\" y2=\"180.904\" stroke-linecap=\"round\" style=\"stroke:white;stroke-width:4\"/><line x1=\"298.315\" y1=\"180.904\" x2=\"298.618\" y2=\"182.623\" stroke-linecap=\"round\" style=\"stroke:white;stroke-width:4\"/><line x1=\"298.618\" y1=\"182.623\" x2=\"298.891\" y2=\"184.347\" stroke-linecap=\"round\" style=\"stroke:white;stroke-width:4\"/><line x1=\"298.891\" y1=\"184.347\" x2=\"299.134\" y2=\"186.075\" stroke-linecap=\"round\" style=\"stroke:white;stroke-width:4\"/><line x1=\"299.134\" y1=\"186.075\" x2=\"299.347\" y2=\"187.807\" stroke-linecap=\"round\" style=\"stroke:white;stroke-width:4\"/><line x1=\"299.347\" y1=\"187.807\" x2=\"299.529\" y2=\"189.543\" stroke-linecap=\"round\" style=\"stroke:white;stroke-width:4\"/><line x1=\"299.529\" y1=\"189.543\" x2=\"299.681\" y2=\"191.282\" stroke-linecap=\"round\" style=\"stroke:white;stroke-width:4\"/><line x1=\"299.681\" y1=\"191.282\" x2=\"299.803\" y2=\"193.023\" stroke-linecap=\"round\" style=\"stroke:white;stroke-width:4\"/><line x1=\"299.803\" y1=\"193.023\" x2=\"299.894\" y2=\"194.766\" stroke-linecap=\"round\" style=\"stroke:white;stroke-width:4\"/><line x1=\"299.894\" y1=\"194.766\" x2=\"299.955\" y2=\"196.51\" stroke-linecap=\"round\" style=\"stroke:white;stroke-width:4\"/><line x1=\"299.955\" y1=\"196.51\" x2=\"299.985\" y2=\"198.255\" stroke-linecap=\"round\" style=\"stroke:white;stroke-width:4\"/><line x1=\"299.985\" y1=\"198.255\" x2=\"299.985\" y2=\"200.0\" stroke-linecap=\"round\" style=\"stroke:white;stroke-width:4\"/><line x1=\"299.985\" y1=\"200.0\" x2=\"299.955\" y2=\"201.745\" stroke-linecap=\"round\" style=\"stroke:white;stroke-width:4\"/><line x1=\"299.955\" y1=\"201.745\" x2=\"299.894\" y2=\"203.489\" stroke-linecap=\"round\" style=\"stroke:white;stroke-width:4\"/><line x1=\"299.894\" y1=\"203.489\" x2=\"299.803\" y2=\"205.232\" stroke-linecap=\"round\" style=\"stroke:white;stroke-width:4\"/><line x1=\"299.803\" y1=\"205.232\" x2=\"299.681\" y2=\"206.973\" stroke-linecap=\"round\" style=\"stroke:white;stroke-width:4\"/><line x1=\"299.681\" y1=\"206.973\" x2=\"299.529\" y2=\"208.712\" stroke-linecap=\"round\" style=\"stroke:white;stroke-width:4\"/><line x1=\"299.529\" y1=\"208.712\" x2=\"299.347\" y2=\"210.448\" stroke-linecap=\"round\" style=\"stroke:white;stroke-width:4\"/><line x1=\"299.347\" y1=\"210.448\" x2=\"299.134\" y2=\"212.18\" stroke-linecap=\"round\" style=\"stroke:white;stroke-width:4\"/><line x1=\"299.134\" y1=\"212.18\" x2=\"298.891\" y2=\"213.908\" stroke-linecap=\"round\" style=\"stroke:white;stroke-width:4\"/><line x1=\"298.891\" y1=\"213.908\" x2=\"298.618\" y2=\"215.632\" stroke-linecap=\"round\" style=\"stroke:white;stroke-width:4\"/><line x1=\"298.618\" y1=\"215.632\" x2=\"298.315\" y2=\"217.351\" stroke-linecap=\"round\" style=\"stroke:white;stroke-width:4\"/><line x1=\"298.315\" y1=\"217.351\" x2=\"297.982\" y2=\"219.064\" stroke-linecap=\"round\" style=\"stroke:white;stroke-width:4\"/><line x1=\"297.982\" y1=\"219.064\" x2=\"297.619\" y2=\"220.771\" stroke-linecap=\"round\" style=\"stroke:white;stroke-width:4\"/><line x1=\"297.619\" y1=\"220.771\" x2=\"297.226\" y2=\"222.472\" stroke-linecap=\"round\" style=\"stroke:white;stroke-width:4\"/><line x1=\"297.226\" y1=\"222.472\" x2=\"296.804\" y2=\"224.165\" stroke-linecap=\"round\" style=\"stroke:white;stroke-width:4\"/><line x1=\"296.804\" y1=\"224.165\" x2=\"296.352\" y2=\"225.851\" stroke-linecap=\"round\" style=\"stroke:white;stroke-width:4\"/><line x1=\"296.352\" y1=\"225.851\" x2=\"295.871\" y2=\"227.529\" stroke-linecap=\"round\" style=\"stroke:white;stroke-width:4\"/><line x1=\"295.871\" y1=\"227.529\" x2=\"295.361\" y2=\"229.198\" stroke-linecap=\"round\" style=\"stroke:white;stroke-width:4\"/><line x1=\"295.361\" y1=\"229.198\" x2=\"294.822\" y2=\"230.858\" stroke-linecap=\"round\" style=\"stroke:white;stroke-width:4\"/><line x1=\"294.822\" y1=\"230.858\" x2=\"294.254\" y2=\"232.508\" stroke-linecap=\"round\" style=\"stroke:white;stroke-width:4\"/><line x1=\"294.254\" y1=\"232.508\" x2=\"293.657\" y2=\"234.148\" stroke-linecap=\"round\" style=\"stroke:white;stroke-width:4\"/><line x1=\"293.657\" y1=\"234.148\" x2=\"293.032\" y2=\"235.777\" stroke-linecap=\"round\" style=\"stroke:white;stroke-width:4\"/><line x1=\"293.032\" y1=\"235.777\" x2=\"292.378\" y2=\"237.395\" stroke-linecap=\"round\" style=\"stroke:white;stroke-width:4\"/><line x1=\"292.378\" y1=\"237.395\" x2=\"291.696\" y2=\"239.002\" stroke-linecap=\"round\" style=\"stroke:white;stroke-width:4\"/><line x1=\"291.696\" y1=\"239.002\" x2=\"290.986\" y2=\"240.596\" stroke-linecap=\"round\" style=\"stroke:white;stroke-width:4\"/><line x1=\"290.986\" y1=\"240.596\" x2=\"290.248\" y2=\"242.178\" stroke-linecap=\"round\" style=\"stroke:white;stroke-width:4\"/><line x1=\"290.248\" y1=\"242.178\" x2=\"289.483\" y2=\"243.747\" stroke-linecap=\"round\" style=\"stroke:white;stroke-width:4\"/><line x1=\"289.483\" y1=\"243.747\" x2=\"288.691\" y2=\"245.302\" stroke-linecap=\"round\" style=\"stroke:white;stroke-width:4\"/><line x1=\"288.691\" y1=\"245.302\" x2=\"287.872\" y2=\"246.843\" stroke-linecap=\"round\" style=\"stroke:white;stroke-width:4\"/><line x1=\"287.872\" y1=\"246.843\" x2=\"287.026\" y2=\"248.369\" stroke-linecap=\"round\" style=\"stroke:white;stroke-width:4\"/><line x1=\"287.026\" y1=\"248.369\" x2=\"286.153\" y2=\"249.88\" stroke-linecap=\"round\" style=\"stroke:white;stroke-width:4\"/><line x1=\"286.153\" y1=\"249.88\" x2=\"285.254\" y2=\"251.376\" stroke-linecap=\"round\" style=\"stroke:white;stroke-width:4\"/><line x1=\"285.254\" y1=\"251.376\" x2=\"284.329\" y2=\"252.856\" stroke-linecap=\"round\" style=\"stroke:white;stroke-width:4\"/><line x1=\"284.329\" y1=\"252.856\" x2=\"283.378\" y2=\"254.32\" stroke-linecap=\"round\" style=\"stroke:white;stroke-width:4\"/><line x1=\"283.378\" y1=\"254.32\" x2=\"282.402\" y2=\"255.767\" stroke-linecap=\"round\" style=\"stroke:white;stroke-width:4\"/><line x1=\"282.402\" y1=\"255.767\" x2=\"281.401\" y2=\"257.197\" stroke-linecap=\"round\" style=\"stroke:white;stroke-width:4\"/><line x1=\"281.401\" y1=\"257.197\" x2=\"280.375\" y2=\"258.609\" stroke-linecap=\"round\" style=\"stroke:white;stroke-width:4\"/><line x1=\"280.375\" y1=\"258.609\" x2=\"279.325\" y2=\"260.003\" stroke-linecap=\"round\" style=\"stroke:white;stroke-width:4\"/><line x1=\"279.325\" y1=\"260.003\" x2=\"278.25\" y2=\"261.378\" stroke-linecap=\"round\" style=\"stroke:white;stroke-width:4\"/><line x1=\"278.25\" y1=\"261.378\" x2=\"277.152\" y2=\"262.734\" stroke-linecap=\"round\" style=\"stroke:white;stroke-width:4\"/><line x1=\"277.152\" y1=\"262.734\" x2=\"276.03\" y2=\"264.071\" stroke-linecap=\"round\" style=\"stroke:white;stroke-width:4\"/><line x1=\"276.03\" y1=\"264.071\" x2=\"274.885\" y2=\"265.388\" stroke-linecap=\"round\" style=\"stroke:white;stroke-width:4\"/><line x1=\"274.885\" y1=\"265.388\" x2=\"273.717\" y2=\"266.685\" stroke-linecap=\"round\" style=\"stroke:white;stroke-width:4\"/><line x1=\"273.717\" y1=\"266.685\" x2=\"272.527\" y2=\"267.961\" stroke-linecap=\"round\" style=\"stroke:white;stroke-width:4\"/><line x1=\"272.527\" y1=\"267.961\" x2=\"271.315\" y2=\"269.216\" stroke-linecap=\"round\" style=\"stroke:white;stroke-width:4\"/><line x1=\"271.315\" y1=\"269.216\" x2=\"270.081\" y2=\"270.45\" stroke-linecap=\"round\" style=\"stroke:white;stroke-width:4\"/><line x1=\"270.081\" y1=\"270.45\" x2=\"268.826\" y2=\"271.662\" stroke-linecap=\"round\" style=\"stroke:white;stroke-width:4\"/><line x1=\"268.826\" y1=\"271.662\" x2=\"267.55\" y2=\"272.852\" stroke-linecap=\"round\" style=\"stroke:white;stroke-width:4\"/><line x1=\"267.55\" y1=\"272.852\" x2=\"266.253\" y2=\"274.02\" stroke-linecap=\"round\" style=\"stroke:white;stroke-width:4\"/><line x1=\"266.253\" y1=\"274.02\" x2=\"264.936\" y2=\"275.165\" stroke-linecap=\"round\" style=\"stroke:white;stroke-width:4\"/><line x1=\"264.936\" y1=\"275.165\" x2=\"263.599\" y2=\"276.287\" stroke-linecap=\"round\" style=\"stroke:white;stroke-width:4\"/><line x1=\"263.599\" y1=\"276.287\" x2=\"262.243\" y2=\"277.385\" stroke-linecap=\"round\" style=\"stroke:white;stroke-width:4\"/><line x1=\"262.243\" y1=\"277.385\" x2=\"260.868\" y2=\"278.46\" stroke-linecap=\"round\" style=\"stroke:white;stroke-width:4\"/><line x1=\"260.868\" y1=\"278.46\" x2=\"259.474\" y2=\"279.51\" stroke-linecap=\"round\" style=\"stroke:white;stroke-width:4\"/><line x1=\"259.474\" y1=\"279.51\" x2=\"258.062\" y2=\"280.536\" stroke-linecap=\"round\" style=\"stroke:white;stroke-width:4\"/><line x1=\"258.062\" y1=\"280.536\" x2=\"256.632\" y2=\"281.537\" stroke-linecap=\"round\" style=\"stroke:white;stroke-width:4\"/><line x1=\"256.632\" y1=\"281.537\" x2=\"255.185\" y2=\"282.513\" stroke-linecap=\"round\" style=\"stroke:white;stroke-width:4\"/><line x1=\"255.185\" y1=\"282.513\" x2=\"253.721\" y2=\"283.464\" stroke-linecap=\"round\" style=\"stroke:white;stroke-width:4\"/><line x1=\"253.721\" y1=\"283.464\" x2=\"252.241\" y2=\"284.389\" stroke-linecap=\"round\" style=\"stroke:white;stroke-width:4\"/><line x1=\"252.241\" y1=\"284.389\" x2=\"250.745\" y2=\"285.288\" stroke-linecap=\"round\" style=\"stroke:white;stroke-width:4\"/><line x1=\"250.745\" y1=\"285.288\" x2=\"249.234\" y2=\"286.161\" stroke-linecap=\"round\" style=\"stroke:white;stroke-width:4\"/><line x1=\"249.234\" y1=\"286.161\" x2=\"247.708\" y2=\"287.007\" stroke-linecap=\"round\" style=\"stroke:white;stroke-width:4\"/><line x1=\"247.708\" y1=\"287.007\" x2=\"246.167\" y2=\"287.826\" stroke-linecap=\"round\" style=\"stroke:white;stroke-width:4\"/><line x1=\"246.167\" y1=\"287.826\" x2=\"244.612\" y2=\"288.618\" stroke-linecap=\"round\" style=\"stroke:white;stroke-width:4\"/><line x1=\"244.612\" y1=\"288.618\" x2=\"243.043\" y2=\"289.383\" stroke-linecap=\"round\" style=\"stroke:white;stroke-width:4\"/><line x1=\"243.043\" y1=\"289.383\" x2=\"241.461\" y2=\"290.121\" stroke-linecap=\"round\" style=\"stroke:white;stroke-width:4\"/><line x1=\"241.461\" y1=\"290.121\" x2=\"239.867\" y2=\"290.831\" stroke-linecap=\"round\" style=\"stroke:white;stroke-width:4\"/><line x1=\"239.867\" y1=\"290.831\" x2=\"238.26\" y2=\"291.513\" stroke-linecap=\"round\" style=\"stroke:white;stroke-width:4\"/><line x1=\"238.26\" y1=\"291.513\" x2=\"236.642\" y2=\"292.167\" stroke-linecap=\"round\" style=\"stroke:white;stroke-width:4\"/><line x1=\"236.642\" y1=\"292.167\" x2=\"235.013\" y2=\"292.792\" stroke-linecap=\"round\" style=\"stroke:white;stroke-width:4\"/><line x1=\"235.013\" y1=\"292.792\" x2=\"233.373\" y2=\"293.389\" stroke-linecap=\"round\" style=\"stroke:white;stroke-width:4\"/><line x1=\"233.373\" y1=\"293.389\" x2=\"231.723\" y2=\"293.957\" stroke-linecap=\"round\" style=\"stroke:white;stroke-width:4\"/><line x1=\"231.723\" y1=\"293.957\" x2=\"230.063\" y2=\"294.496\" stroke-linecap=\"round\" style=\"stroke:white;stroke-width:4\"/><line x1=\"230.063\" y1=\"294.496\" x2=\"228.394\" y2=\"295.006\" stroke-linecap=\"round\" style=\"stroke:white;stroke-width:4\"/><line x1=\"228.394\" y1=\"295.006\" x2=\"226.716\" y2=\"295.487\" stroke-linecap=\"round\" style=\"stroke:white;stroke-width:4\"/><line x1=\"226.716\" y1=\"295.487\" x2=\"225.03\" y2=\"295.939\" stroke-linecap=\"round\" style=\"stroke:white;stroke-width:4\"/><line x1=\"225.03\" y1=\"295.939\" x2=\"223.337\" y2=\"296.361\" stroke-linecap=\"round\" style=\"stroke:white;stroke-width:4\"/><line x1=\"223.337\" y1=\"296.361\" x2=\"221.636\" y2=\"296.754\" stroke-linecap=\"round\" style=\"stroke:white;stroke-width:4\"/><line x1=\"221.636\" y1=\"296.754\" x2=\"219.929\" y2=\"297.117\" stroke-linecap=\"round\" style=\"stroke:white;stroke-width:4\"/><line x1=\"219.929\" y1=\"297.117\" x2=\"218.216\" y2=\"297.45\" stroke-linecap=\"round\" style=\"stroke:white;stroke-width:4\"/><line x1=\"218.216\" y1=\"297.45\" x2=\"216.497\" y2=\"297.753\" stroke-linecap=\"round\" style=\"stroke:white;stroke-width:4\"/><line x1=\"216.497\" y1=\"297.753\" x2=\"214.773\" y2=\"298.026\" stroke-linecap=\"round\" style=\"stroke:white;stroke-width:4\"/><line x1=\"214.773\" y1=\"298.026\" x2=\"213.045\" y2=\"298.269\" stroke-linecap=\"round\" style=\"stroke:white;stroke-width:4\"/><line x1=\"213.045\" y1=\"298.269\" x2=\"211.313\" y2=\"298.482\" stroke-linecap=\"round\" style=\"stroke:white;stroke-width:4\"/><line x1=\"211.313\" y1=\"298.482\" x2=\"209.577\" y2=\"298.664\" stroke-linecap=\"round\" style=\"stroke:white;stroke-width:4\"/><line x1=\"209.577\" y1=\"298.664\" x2=\"207.838\" y2=\"298.816\" stroke-linecap=\"round\" style=\"stroke:white;stroke-width:4\"/><line x1=\"207.838\" y1=\"298.816\" x2=\"206.097\" y2=\"298.938\" stroke-linecap=\"round\" style=\"stroke:white;stroke-width:4\"/><line x1=\"206.097\" y1=\"298.938\" x2=\"204.354\" y2=\"299.029\" stroke-linecap=\"round\" style=\"stroke:white;stroke-width:4\"/><line x1=\"204.354\" y1=\"299.029\" x2=\"202.61\" y2=\"299.09\" stroke-linecap=\"round\" style=\"stroke:white;stroke-width:4\"/><line x1=\"202.61\" y1=\"299.09\" x2=\"200.865\" y2=\"299.12\" stroke-linecap=\"round\" style=\"stroke:white;stroke-width:4\"/><line x1=\"200.865\" y1=\"299.12\" x2=\"199.12\" y2=\"299.12\" stroke-linecap=\"round\" style=\"stroke:white;stroke-width:4\"/><line x1=\"199.12\" y1=\"299.12\" x2=\"197.375\" y2=\"299.09\" stroke-linecap=\"round\" style=\"stroke:white;stroke-width:4\"/><line x1=\"197.375\" y1=\"299.09\" x2=\"195.631\" y2=\"299.029\" stroke-linecap=\"round\" style=\"stroke:white;stroke-width:4\"/><line x1=\"195.631\" y1=\"299.029\" x2=\"193.888\" y2=\"298.938\" stroke-linecap=\"round\" style=\"stroke:white;stroke-width:4\"/><line x1=\"193.888\" y1=\"298.938\" x2=\"192.147\" y2=\"298.816\" stroke-linecap=\"round\" style=\"stroke:white;stroke-width:4\"/><line x1=\"192.147\" y1=\"298.816\" x2=\"190.408\" y2=\"298.664\" stroke-linecap=\"round\" style=\"stroke:white;stroke-width:4\"/><line x1=\"190.408\" y1=\"298.664\" x2=\"188.672\" y2=\"298.482\" stroke-linecap=\"round\" style=\"stroke:white;stroke-width:4\"/><line x1=\"188.672\" y1=\"298.482\" x2=\"186.94\" y2=\"298.269\" stroke-linecap=\"round\" style=\"stroke:white;stroke-width:4\"/><line x1=\"186.94\" y1=\"298.269\" x2=\"185.212\" y2=\"298.026\" stroke-linecap=\"round\" style=\"stroke:white;stroke-width:4\"/><line x1=\"185.212\" y1=\"298.026\" x2=\"183.488\" y2=\"297.753\" stroke-linecap=\"round\" style=\"stroke:white;stroke-width:4\"/><line x1=\"183.488\" y1=\"297.753\" x2=\"181.769\" y2=\"297.45\" stroke-linecap=\"round\" style=\"stroke:white;stroke-width:4\"/><line x1=\"181.769\" y1=\"297.45\" x2=\"180.056\" y2=\"297.117\" stroke-linecap=\"round\" style=\"stroke:white;stroke-width:4\"/><line x1=\"180.056\" y1=\"297.117\" x2=\"178.349\" y2=\"296.754\" stroke-linecap=\"round\" style=\"stroke:white;stroke-width:4\"/><line x1=\"178.349\" y1=\"296.754\" x2=\"176.648\" y2=\"296.361\" stroke-linecap=\"round\" style=\"stroke:white;stroke-width:4\"/><line x1=\"176.648\" y1=\"296.361\" x2=\"174.955\" y2=\"295.939\" stroke-linecap=\"round\" style=\"stroke:white;stroke-width:4\"/><line x1=\"174.955\" y1=\"295.939\" x2=\"173.269\" y2=\"295.487\" stroke-linecap=\"round\" style=\"stroke:white;stroke-width:4\"/><line x1=\"173.269\" y1=\"295.487\" x2=\"171.591\" y2=\"295.006\" stroke-linecap=\"round\" style=\"stroke:white;stroke-width:4\"/><line x1=\"171.591\" y1=\"295.006\" x2=\"169.922\" y2=\"294.496\" stroke-linecap=\"round\" style=\"stroke:white;stroke-width:4\"/><line x1=\"169.922\" y1=\"294.496\" x2=\"168.262\" y2=\"293.957\" stroke-linecap=\"round\" style=\"stroke:white;stroke-width:4\"/><line x1=\"168.262\" y1=\"293.957\" x2=\"166.612\" y2=\"293.389\" stroke-linecap=\"round\" style=\"stroke:white;stroke-width:4\"/><line x1=\"166.612\" y1=\"293.389\" x2=\"164.972\" y2=\"292.792\" stroke-linecap=\"round\" style=\"stroke:white;stroke-width:4\"/><line x1=\"164.972\" y1=\"292.792\" x2=\"163.343\" y2=\"292.167\" stroke-linecap=\"round\" style=\"stroke:white;stroke-width:4\"/><line x1=\"163.343\" y1=\"292.167\" x2=\"161.725\" y2=\"291.513\" stroke-linecap=\"round\" style=\"stroke:white;stroke-width:4\"/><line x1=\"161.725\" y1=\"291.513\" x2=\"160.118\" y2=\"290.831\" stroke-linecap=\"round\" style=\"stroke:white;stroke-width:4\"/><line x1=\"160.118\" y1=\"290.831\" x2=\"158.524\" y2=\"290.121\" stroke-linecap=\"round\" style=\"stroke:white;stroke-width:4\"/><line x1=\"158.524\" y1=\"290.121\" x2=\"156.942\" y2=\"289.383\" stroke-linecap=\"round\" style=\"stroke:white;stroke-width:4\"/><line x1=\"156.942\" y1=\"289.383\" x2=\"155.373\" y2=\"288.618\" stroke-linecap=\"round\" style=\"stroke:white;stroke-width:4\"/><line x1=\"155.373\" y1=\"288.618\" x2=\"153.818\" y2=\"287.826\" stroke-linecap=\"round\" style=\"stroke:white;stroke-width:4\"/><line x1=\"153.818\" y1=\"287.826\" x2=\"152.277\" y2=\"287.007\" stroke-linecap=\"round\" style=\"stroke:white;stroke-width:4\"/><line x1=\"152.277\" y1=\"287.007\" x2=\"150.751\" y2=\"286.161\" stroke-linecap=\"round\" style=\"stroke:white;stroke-width:4\"/><line x1=\"150.751\" y1=\"286.161\" x2=\"149.24\" y2=\"285.288\" stroke-linecap=\"round\" style=\"stroke:white;stroke-width:4\"/><line x1=\"149.24\" y1=\"285.288\" x2=\"147.744\" y2=\"284.389\" stroke-linecap=\"round\" style=\"stroke:white;stroke-width:4\"/><line x1=\"147.744\" y1=\"284.389\" x2=\"146.264\" y2=\"283.464\" stroke-linecap=\"round\" style=\"stroke:white;stroke-width:4\"/><line x1=\"146.264\" y1=\"283.464\" x2=\"144.8\" y2=\"282.513\" stroke-linecap=\"round\" style=\"stroke:white;stroke-width:4\"/><line x1=\"144.8\" y1=\"282.513\" x2=\"143.353\" y2=\"281.537\" stroke-linecap=\"round\" style=\"stroke:white;stroke-width:4\"/><line x1=\"143.353\" y1=\"281.537\" x2=\"141.923\" y2=\"280.536\" stroke-linecap=\"round\" style=\"stroke:white;stroke-width:4\"/><line x1=\"141.923\" y1=\"280.536\" x2=\"140.511\" y2=\"279.51\" stroke-linecap=\"round\" style=\"stroke:white;stroke-width:4\"/><line x1=\"140.511\" y1=\"279.51\" x2=\"139.117\" y2=\"278.46\" stroke-linecap=\"round\" style=\"stroke:white;stroke-width:4\"/><line x1=\"139.117\" y1=\"278.46\" x2=\"137.742\" y2=\"277.385\" stroke-linecap=\"round\" style=\"stroke:white;stroke-width:4\"/><line x1=\"137.742\" y1=\"277.385\" x2=\"136.386\" y2=\"276.287\" stroke-linecap=\"round\" style=\"stroke:white;stroke-width:4\"/><line x1=\"136.386\" y1=\"276.287\" x2=\"135.049\" y2=\"275.165\" stroke-linecap=\"round\" style=\"stroke:white;stroke-width:4\"/><line x1=\"135.049\" y1=\"275.165\" x2=\"133.732\" y2=\"274.02\" stroke-linecap=\"round\" style=\"stroke:white;stroke-width:4\"/><line x1=\"133.732\" y1=\"274.02\" x2=\"132.435\" y2=\"272.852\" stroke-linecap=\"round\" style=\"stroke:white;stroke-width:4\"/><line x1=\"132.435\" y1=\"272.852\" x2=\"131.159\" y2=\"271.662\" stroke-linecap=\"round\" style=\"stroke:white;stroke-width:4\"/><line x1=\"131.159\" y1=\"271.662\" x2=\"129.904\" y2=\"270.45\" stroke-linecap=\"round\" style=\"stroke:white;stroke-width:4\"/><line x1=\"129.904\" y1=\"270.45\" x2=\"128.67\" y2=\"269.216\" stroke-linecap=\"round\" style=\"stroke:white;stroke-width:4\"/><line x1=\"128.67\" y1=\"269.216\" x2=\"127.458\" y2=\"267.961\" stroke-linecap=\"round\" style=\"stroke:white;stroke-width:4\"/><line x1=\"127.458\" y1=\"267.961\" x2=\"126.268\" y2=\"266.685\" stroke-linecap=\"round\" style=\"stroke:white;stroke-width:4\"/><line x1=\"126.268\" y1=\"266.685\" x2=\"125.1\" y2=\"265.388\" stroke-linecap=\"round\" style=\"stroke:white;stroke-width:4\"/><line x1=\"125.1\" y1=\"265.388\" x2=\"123.955\" y2=\"264.071\" stroke-linecap=\"round\" style=\"stroke:white;stroke-width:4\"/><line x1=\"123.955\" y1=\"264.071\" x2=\"122.833\" y2=\"262.734\" stroke-linecap=\"round\" style=\"stroke:white;stroke-width:4\"/><line x1=\"122.833\" y1=\"262.734\" x2=\"121.735\" y2=\"261.378\" stroke-linecap=\"round\" style=\"stroke:white;stroke-width:4\"/><line x1=\"121.735\" y1=\"261.378\" x2=\"120.66\" y2=\"260.003\" stroke-linecap=\"round\" style=\"stroke:white;stroke-width:4\"/><line x1=\"120.66\" y1=\"260.003\" x2=\"119.61\" y2=\"258.609\" stroke-linecap=\"round\" style=\"stroke:white;stroke-width:4\"/><line x1=\"119.61\" y1=\"258.609\" x2=\"118.584\" y2=\"257.197\" stroke-linecap=\"round\" style=\"stroke:white;stroke-width:4\"/><line x1=\"118.584\" y1=\"257.197\" x2=\"117.583\" y2=\"255.767\" stroke-linecap=\"round\" style=\"stroke:white;stroke-width:4\"/><line x1=\"117.583\" y1=\"255.767\" x2=\"116.607\" y2=\"254.32\" stroke-linecap=\"round\" style=\"stroke:white;stroke-width:4\"/><line x1=\"116.607\" y1=\"254.32\" x2=\"115.656\" y2=\"252.856\" stroke-linecap=\"round\" style=\"stroke:white;stroke-width:4\"/><line x1=\"115.656\" y1=\"252.856\" x2=\"114.731\" y2=\"251.376\" stroke-linecap=\"round\" style=\"stroke:white;stroke-width:4\"/><line x1=\"114.731\" y1=\"251.376\" x2=\"113.832\" y2=\"249.88\" stroke-linecap=\"round\" style=\"stroke:white;stroke-width:4\"/><line x1=\"113.832\" y1=\"249.88\" x2=\"112.959\" y2=\"248.369\" stroke-linecap=\"round\" style=\"stroke:white;stroke-width:4\"/><line x1=\"112.959\" y1=\"248.369\" x2=\"112.113\" y2=\"246.843\" stroke-linecap=\"round\" style=\"stroke:white;stroke-width:4\"/><line x1=\"112.113\" y1=\"246.843\" x2=\"111.294\" y2=\"245.302\" stroke-linecap=\"round\" style=\"stroke:white;stroke-width:4\"/><line x1=\"111.294\" y1=\"245.302\" x2=\"110.502\" y2=\"243.747\" stroke-linecap=\"round\" style=\"stroke:white;stroke-width:4\"/><line x1=\"110.502\" y1=\"243.747\" x2=\"109.737\" y2=\"242.178\" stroke-linecap=\"round\" style=\"stroke:white;stroke-width:4\"/><line x1=\"109.737\" y1=\"242.178\" x2=\"108.999\" y2=\"240.596\" stroke-linecap=\"round\" style=\"stroke:white;stroke-width:4\"/><line x1=\"108.999\" y1=\"240.596\" x2=\"108.289\" y2=\"239.002\" stroke-linecap=\"round\" style=\"stroke:white;stroke-width:4\"/><line x1=\"108.289\" y1=\"239.002\" x2=\"107.607\" y2=\"237.395\" stroke-linecap=\"round\" style=\"stroke:white;stroke-width:4\"/><line x1=\"107.607\" y1=\"237.395\" x2=\"106.953\" y2=\"235.777\" stroke-linecap=\"round\" style=\"stroke:white;stroke-width:4\"/><line x1=\"106.953\" y1=\"235.777\" x2=\"106.328\" y2=\"234.148\" stroke-linecap=\"round\" style=\"stroke:white;stroke-width:4\"/><line x1=\"106.328\" y1=\"234.148\" x2=\"105.731\" y2=\"232.508\" stroke-linecap=\"round\" style=\"stroke:white;stroke-width:4\"/><line x1=\"105.731\" y1=\"232.508\" x2=\"105.163\" y2=\"230.858\" stroke-linecap=\"round\" style=\"stroke:white;stroke-width:4\"/><line x1=\"105.163\" y1=\"230.858\" x2=\"104.624\" y2=\"229.198\" stroke-linecap=\"round\" style=\"stroke:white;stroke-width:4\"/><line x1=\"104.624\" y1=\"229.198\" x2=\"104.114\" y2=\"227.529\" stroke-linecap=\"round\" style=\"stroke:white;stroke-width:4\"/><line x1=\"104.114\" y1=\"227.529\" x2=\"103.633\" y2=\"225.851\" stroke-linecap=\"round\" style=\"stroke:white;stroke-width:4\"/><line x1=\"103.633\" y1=\"225.851\" x2=\"103.181\" y2=\"224.165\" stroke-linecap=\"round\" style=\"stroke:white;stroke-width:4\"/><line x1=\"103.181\" y1=\"224.165\" x2=\"102.759\" y2=\"222.472\" stroke-linecap=\"round\" style=\"stroke:white;stroke-width:4\"/><line x1=\"102.759\" y1=\"222.472\" x2=\"102.366\" y2=\"220.771\" stroke-linecap=\"round\" style=\"stroke:white;stroke-width:4\"/><line x1=\"102.366\" y1=\"220.771\" x2=\"102.003\" y2=\"219.064\" stroke-linecap=\"round\" style=\"stroke:white;stroke-width:4\"/><line x1=\"102.003\" y1=\"219.064\" x2=\"101.67\" y2=\"217.351\" stroke-linecap=\"round\" style=\"stroke:white;stroke-width:4\"/><line x1=\"101.67\" y1=\"217.351\" x2=\"101.367\" y2=\"215.632\" stroke-linecap=\"round\" style=\"stroke:white;stroke-width:4\"/><line x1=\"101.367\" y1=\"215.632\" x2=\"101.094\" y2=\"213.908\" stroke-linecap=\"round\" style=\"stroke:white;stroke-width:4\"/><line x1=\"101.094\" y1=\"213.908\" x2=\"100.851\" y2=\"212.18\" stroke-linecap=\"round\" style=\"stroke:white;stroke-width:4\"/><line x1=\"100.851\" y1=\"212.18\" x2=\"100.638\" y2=\"210.448\" stroke-linecap=\"round\" style=\"stroke:white;stroke-width:4\"/><line x1=\"100.638\" y1=\"210.448\" x2=\"100.456\" y2=\"208.712\" stroke-linecap=\"round\" style=\"stroke:white;stroke-width:4\"/><line x1=\"100.456\" y1=\"208.712\" x2=\"100.304\" y2=\"206.973\" stroke-linecap=\"round\" style=\"stroke:white;stroke-width:4\"/><line x1=\"100.304\" y1=\"206.973\" x2=\"100.182\" y2=\"205.232\" stroke-linecap=\"round\" style=\"stroke:white;stroke-width:4\"/><line x1=\"100.182\" y1=\"205.232\" x2=\"100.091\" y2=\"203.489\" stroke-linecap=\"round\" style=\"stroke:white;stroke-width:4\"/><line x1=\"100.091\" y1=\"203.489\" x2=\"100.03\" y2=\"201.745\" stroke-linecap=\"round\" style=\"stroke:white;stroke-width:4\"/><line x1=\"100.03\" y1=\"201.745\" x2=\"100.0\" y2=\"200.0\" stroke-linecap=\"round\" style=\"stroke:white;stroke-width:4\"/>\n",
              "        <g visibility=visible transform=\"rotate(360.0,1000,0) translate(982, -18)\">\n",
              "<path style=\" stroke:none;fill-rule:evenodd;fill:white;fill-opacity:1;\" d=\"M 18.214844 0.632812 C 16.109375 1.800781 15.011719 4.074219 15.074219 7.132812 L 15.085938 7.652344 L 14.785156 7.496094 C 13.476562 6.824219 11.957031 6.671875 10.40625 7.066406 C 8.46875 7.550781 6.515625 9.15625 4.394531 11.992188 C 3.0625 13.777344 2.679688 14.636719 3.042969 15.027344 L 3.15625 15.152344 L 3.519531 15.152344 C 4.238281 15.152344 4.828125 14.886719 8.1875 13.039062 C 9.386719 12.378906 10.371094 11.839844 10.378906 11.839844 C 10.386719 11.839844 10.355469 11.929688 10.304688 12.035156 C 9.832031 13.09375 9.257812 14.820312 8.96875 16.078125 C 7.914062 20.652344 8.617188 24.53125 11.070312 27.660156 C 11.351562 28.015625 11.363281 27.914062 10.972656 28.382812 C 8.925781 30.84375 7.945312 33.28125 8.238281 35.1875 C 8.289062 35.527344 8.28125 35.523438 8.917969 35.523438 C 10.941406 35.523438 13.074219 34.207031 15.136719 31.6875 C 15.359375 31.417969 15.328125 31.425781 15.5625 31.574219 C 16.292969 32.042969 18.023438 32.964844 18.175781 32.964844 C 18.335938 32.964844 19.941406 32.210938 20.828125 31.71875 C 20.996094 31.625 21.136719 31.554688 21.136719 31.558594 C 21.203125 31.664062 21.898438 32.414062 22.222656 32.730469 C 23.835938 34.300781 25.5625 35.132812 27.582031 35.300781 C 27.90625 35.328125 27.9375 35.308594 28.007812 34.984375 C 28.382812 33.242188 27.625 30.925781 25.863281 28.425781 L 25.542969 27.96875 L 25.699219 27.785156 C 28.945312 23.960938 29.132812 18.699219 26.257812 11.96875 L 26.207031 11.84375 L 27.945312 12.703125 C 31.53125 14.476562 32.316406 14.800781 33.03125 14.800781 C 33.976562 14.800781 33.78125 13.9375 32.472656 12.292969 C 28.519531 7.355469 25.394531 5.925781 21.921875 7.472656 L 21.558594 7.636719 L 21.578125 7.542969 C 21.699219 6.992188 21.761719 5.742188 21.699219 5.164062 C 21.496094 3.296875 20.664062 1.964844 19.003906 0.855469 C 18.480469 0.503906 18.457031 0.5 18.214844 0.632812\"/>\n",
              "</g>\n",
              "      </svg>\n",
              "    "
            ],
            "text/plain": [
              "<IPython.core.display.HTML object>"
            ]
          },
          "metadata": {}
        }
      ]
    }
  ]
}