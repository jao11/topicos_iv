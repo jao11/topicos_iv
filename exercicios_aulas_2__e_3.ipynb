{
  "nbformat": 4,
  "nbformat_minor": 0,
  "metadata": {
    "colab": {
      "name": "exercicios_aulas_2_ e_3.ipynb",
      "provenance": [],
      "authorship_tag": "ABX9TyO9/iPRlioIZVbf9SOPBDCZ",
      "include_colab_link": true
    },
    "kernelspec": {
      "name": "python3",
      "display_name": "Python 3"
    },
    "language_info": {
      "name": "python"
    }
  },
  "cells": [
    {
      "cell_type": "markdown",
      "metadata": {
        "id": "view-in-github",
        "colab_type": "text"
      },
      "source": [
        "<a href=\"https://colab.research.google.com/github/jao11/topicos_iv/blob/main/exercicios_aulas_2__e_3.ipynb\" target=\"_parent\"><img src=\"https://colab.research.google.com/assets/colab-badge.svg\" alt=\"Open In Colab\"/></a>"
      ]
    },
    {
      "cell_type": "markdown",
      "metadata": {
        "id": "vl9APDioY61E"
      },
      "source": [
        "AULA 2"
      ]
    },
    {
      "cell_type": "markdown",
      "metadata": {
        "id": "Jg_q4Mz2YJZG"
      },
      "source": [
        "1.  Considere as seguintes declarações de atribuições:\n",
        "   *   largura = 17\n",
        "   *   altura = 12.0\n",
        "   *   delimitador = \".\"\n",
        "*  Para cada uma das expressões a seguir, escreva o valor das expressões e o tipo (do valor da expressão):\n",
        "   *   largura/2\n",
        "   *   largura/2.0\n",
        "   *   altura/3\n",
        "  *   1 + 2 * 5\n",
        "   *   delimitador*5\n",
        "*  Use o interpretador de python para verificar suas respostas.\n"
      ]
    },
    {
      "cell_type": "code",
      "metadata": {
        "colab": {
          "base_uri": "https://localhost:8080/"
        },
        "id": "X5y7W8uEXxSe",
        "outputId": "a4df61fe-6c65-4ac9-f5f1-9ebdb607218f"
      },
      "source": [
        "largura = 17\n",
        "altura = 12.0\n",
        "delimitador = \".\"\n",
        "print(largura/2)\n",
        "print(largura/2.0)\n",
        "print(1 + 2 * 5)\n",
        "print(delimitador*5)\n",
        "print(type(largura))\n",
        "print(type(altura))\n",
        "print(type(delimitador))"
      ],
      "execution_count": 1,
      "outputs": [
        {
          "output_type": "stream",
          "text": [
            "8.5\n",
            "8.5\n",
            "11\n",
            ".....\n",
            "<class 'int'>\n",
            "<class 'float'>\n",
            "<class 'str'>\n"
          ],
          "name": "stdout"
        }
      ]
    },
    {
      "cell_type": "markdown",
      "metadata": {
        "id": "K2b0JYScYyms"
      },
      "source": [
        "2.  O volume de uma esfera de raio r é $\\frac{4}{3} \\pi r^{3}$.\n",
        "*  Qual é o volume de uma esfera de raio 5?"
      ]
    },
    {
      "cell_type": "code",
      "metadata": {
        "colab": {
          "base_uri": "https://localhost:8080/"
        },
        "id": "U96-xXi4YxRO",
        "outputId": "8ba25a45-ac7c-44ad-bce8-af6eb12783ff"
      },
      "source": [
        "import math\n",
        "v = (4 / 3) * (math.pi) * (5 ** 3)\n",
        "print('O volume da esfera é {:.2f} u.v.'.format(v))"
      ],
      "execution_count": 3,
      "outputs": [
        {
          "output_type": "stream",
          "text": [
            "O volume da esfera é 523.60 u.v.\n"
          ],
          "name": "stdout"
        }
      ]
    },
    {
      "cell_type": "markdown",
      "metadata": {
        "id": "2404-2XHdvnt"
      },
      "source": [
        "3.  Suponha que o preço de um livro seja 24.95 reais, porém as livrarias têm desconto de 40%. Os custos de envio são de 3.00 reais para o primeiro livro e 0.75 reais para os livros adicionais. Qual é o custo total da compra de 60 livros?"
      ]
    },
    {
      "cell_type": "code",
      "metadata": {
        "colab": {
          "base_uri": "https://localhost:8080/"
        },
        "id": "S717eVR1Zppx",
        "outputId": "d0aa5217-eb0b-4582-ab6c-27c483fd5797"
      },
      "source": [
        "pd = 24.95 * 60 / 100\n",
        "lt = pd * 60\n",
        "ce = 3.00 + 59 * 0.75\n",
        "ct = lt + ce\n",
        "print('O custo total na compra de 60 livros é R${:.2f}'.format(ct))"
      ],
      "execution_count": 4,
      "outputs": [
        {
          "output_type": "stream",
          "text": [
            "O custo total na compra de 60 livros é R$945.45\n"
          ],
          "name": "stdout"
        }
      ]
    },
    {
      "cell_type": "markdown",
      "metadata": {
        "id": "hE1K_hd4egv7"
      },
      "source": [
        "4. Um laser vermelho (com comprimento de onda $\\lambda = 632.8$ nm) incide em uma fenda dupla produzindo um padrão de interferência com franjas claras e escuras, em um anteparo situado a uma distância D = 1.98 m da fenda. Calcule a distância $\\Delta y$ entre dois máximos consecutivos de interferência. Considere o espaçamento entre as fendas, $d$, como sendo igual a 0.250 mm.  \n",
        "**Dica: a distância entre dois máximos de interferência consecutivos pode ser aproximada por $\\Delta y = \\frac{\\lambda D}{d}$."
      ]
    },
    {
      "cell_type": "code",
      "metadata": {
        "colab": {
          "base_uri": "https://localhost:8080/"
        },
        "id": "xHWSfNHCecYg",
        "outputId": "2d434ee5-c45d-49ad-a22d-0d97d749da28"
      },
      "source": [
        "lambida = 632.8  # nm\n",
        "distancia = 1.98  # m\n",
        "esp_entre_fendas = 0.25  # mm\n",
        "y = lambida * 10 ** (-6) * distancia / esp_entre_fendas\n",
        "print('A distância entre dois máximos consecutivos é {:.10f}m'.format(y))"
      ],
      "execution_count": 5,
      "outputs": [
        {
          "output_type": "stream",
          "text": [
            "A distância entre dois máximos consecutivos é 0.0050117760m\n"
          ],
          "name": "stdout"
        }
      ]
    },
    {
      "cell_type": "markdown",
      "metadata": {
        "id": "21XaHeR8msJL"
      },
      "source": [
        "AULA 3"
      ]
    },
    {
      "cell_type": "markdown",
      "metadata": {
        "id": "no5AP9wpmuW3"
      },
      "source": [
        "1. Crie uma função que tome um argumento e imprima o valor e o tipo dele."
      ]
    },
    {
      "cell_type": "code",
      "metadata": {
        "colab": {
          "base_uri": "https://localhost:8080/"
        },
        "id": "3anRX5-9mn_H",
        "outputId": "7b389e5b-d4a6-4af9-8ae4-b243729dd8ca"
      },
      "source": [
        "def argumento(f):\n",
        "  print(f)\n",
        "  print(type(f))\n",
        "\n",
        "argumento('f')\n"
      ],
      "execution_count": 7,
      "outputs": [
        {
          "output_type": "stream",
          "text": [
            "f\n",
            "<class 'str'>\n"
          ],
          "name": "stdout"
        }
      ]
    },
    {
      "cell_type": "markdown",
      "metadata": {
        "id": "cqO9y6xaoB1q"
      },
      "source": [
        "2. Crie uma função que calcule e imprima velocidade media de um objeto a partir de uma\n",
        "posição inicial, a final e o tempo transcorrido para um objeto em MRU. Também crie uma\n",
        "funcão que calcule e imprima a velocidade de um objeto a partir da aceleração \n",
        "constante e o tempo (MRUA) (p.ex. queda livre)."
      ]
    },
    {
      "cell_type": "code",
      "metadata": {
        "colab": {
          "base_uri": "https://localhost:8080/"
        },
        "id": "4M_b141an4VP",
        "outputId": "5369fcff-e80a-4cbb-e730-e2e5549aa43c"
      },
      "source": [
        "def veloc_media(pi, pf, t):\n",
        "  pi # posição inicial\n",
        "  pf # posição final \n",
        "  t  # tempo transcorrido\n",
        "  vm = (pf - pi) / t\n",
        "  print('A velocidade média é v= {:.2f} u.veloc..'.format(v))\n",
        "\n",
        "veloc_media(2, 9, 10)\n",
        "\n",
        "def veloc_MRUV(a, deltat):\n",
        "  a # acelerção\n",
        "  deltat # variação do tempo\n",
        "  v = a * deltat\n",
        "  print('A velocidade é v= {:.2f} u.veloc..'.format(v))\n",
        "\n",
        "veloc_MRUV(10, 5)\n"
      ],
      "execution_count": 13,
      "outputs": [
        {
          "output_type": "stream",
          "text": [
            "A velocidade média é v= 523.60 u.veloc..\n",
            "A velocidade é v= 50.00 u.veloc..\n"
          ],
          "name": "stdout"
        }
      ]
    },
    {
      "cell_type": "markdown",
      "metadata": {
        "id": "9OAAfP_hr-Kb"
      },
      "source": [
        "3. Crie uma função para calcular o ângulo zenital do sol (da semana passada) tomando \n",
        "como argumento as medidas da altura e o comprimento da sombra."
      ]
    },
    {
      "cell_type": "code",
      "metadata": {
        "colab": {
          "base_uri": "https://localhost:8080/"
        },
        "id": "U7wBFMqspdHy",
        "outputId": "56c97fd8-4646-460f-92b4-1de5d6d411f1"
      },
      "source": [
        "def ang_zenital_do_sol(h, cs):\n",
        "  import math\n",
        "  h # altura\n",
        "  cs # comprimento da sombra\n",
        "  tetaz = math.degrees(math.tan(cs / h))\n",
        "  print('O ano zenital do sol é {:.2f}'.format(tetaz))\n",
        "\n",
        "ang_zenital_do_sol(5, 5)"
      ],
      "execution_count": 18,
      "outputs": [
        {
          "output_type": "stream",
          "text": [
            "O ano zenital do sol é 89.23\n"
          ],
          "name": "stdout"
        }
      ]
    },
    {
      "cell_type": "markdown",
      "metadata": {
        "id": "WrY9WI4Cve26"
      },
      "source": [
        "4. Crie uma função que faça a conversão de uma medida inicialmente em milhas para m, e \n",
        "outra para o inverso; uma de horas para segundos, e o inverso. Utilize estas funções\n",
        "para resolver novamente o primeiro exercício da semana passada (da corrida). \n",
        "*  Se uma \n",
        "pessoa demora 30 minutos em 4 milhas, qual velocidade media em km/h ? e o tempo medio \n",
        "por kilometro?\n",
        " *  (há 1,61 quilômetros em uma milha)\n",
        " \n",
        "*  1. Se você fizer uma corrida de 10 quilômetros em 43 minutos e 30 segundos, qual será seu tempo médio por milha? Qual é a sua velocidade média em milhas por hora? (Dica: há 1,61 quilômetros em uma milha)."
      ]
    },
    {
      "cell_type": "code",
      "metadata": {
        "colab": {
          "base_uri": "https://localhost:8080/"
        },
        "id": "LZJFXTKiuQID",
        "outputId": "5c949583-5ddc-42e2-97c1-9c16baf17e5e"
      },
      "source": [
        "def milha_para_metro(milha):\n",
        "    metro = milha / 1609.34\n",
        "    return metro\n",
        "\n",
        "def metro_para_milha(metro):\n",
        "    milha = metro * 1609.34\n",
        "    return milha\n",
        "\n",
        "\n",
        "def hora_para_segundo(hora):\n",
        "    segundo = hora * 3600\n",
        "    return segundo\n",
        "\n",
        "\n",
        "def segundo_para_hora(segundo):\n",
        "    hora = segundo / 3600\n",
        "    return hora\n",
        "\n",
        "\n",
        "vu = metro_para_milha((10 * 10 ** 3)) / segundo_para_hora(((43 * 60) + 30))\n",
        "tu = segundo_para_hora(((43 * 60) + 30)) / metro_para_milha((10 * 10 ** 3))\n",
        "print('Percorrendo 10 quilometros em 43 minutos e 30 segundos temos uma velocidade média'\n",
        "      '\\n de {:.2f} milhas por hora e um tempo médio por milha de {:.10f'\n",
        "      '} horas por milha.\\n'.format(vu, tu))\n",
        "vm = milha_para_metro(4) / hora_para_segundo(0.5)\n",
        "tm = hora_para_segundo(0.5) / milha_para_metro(4)\n",
        "print('Percorendo 4 milhas em meia hora temos uma velocidade média de {:.10f}m/s e um \\n'\n",
        "      'tempo médio de {:.2f}s/m.'.format(vm, tm))"
      ],
      "execution_count": 22,
      "outputs": [
        {
          "output_type": "stream",
          "text": [
            "Percorrendo 10 quilometros em 43 minutos e 30 segundos temos uma velocidade média\n",
            " de 22197793.10 milhas por hora e um tempo médio por milha de 0.0000000450 horas por milha.\n",
            "\n",
            "Percorendo 4 milhas em meia hora temos uma velocidade média de 0.0000013808m/s e um \n",
            "tempo médio de 724203.00s/m.\n"
          ],
          "name": "stdout"
        }
      ]
    },
    {
      "cell_type": "markdown",
      "metadata": {
        "id": "eOhDB6-0yTqY"
      },
      "source": [
        "5. Crie funções para calcular os outros exemplos das aulas anteriores: IMC, volume de \n",
        "uma esfera, distância entre pontos de máximos de difração. Decida quais serão os\n",
        "argumentos e o valor retornado."
      ]
    },
    {
      "cell_type": "code",
      "metadata": {
        "colab": {
          "base_uri": "https://localhost:8080/"
        },
        "id": "goZfcadjx2QQ",
        "outputId": "5c046e70-0d14-4bed-a31b-54df30f26f3f"
      },
      "source": [
        "def imc(m, a):\n",
        "    imc = m / (a ** 2)\n",
        "    print('Seu imc é {:.2f}'.format(imc))\n",
        "\n",
        "\n",
        "imc(90, 1.70)\n",
        "\n",
        "def volume_esfera(r):\n",
        "    import math\n",
        "    v = (4 / 3) * (math.pi) * (r ** 3)\n",
        "    print('O volume da esfera é {:.2f}dm³.'.format(v))\n",
        "\n",
        "\n",
        "volume_esfera(10)\n",
        "\n",
        "def difracao(lambida, distancia, esp_entre_fendas):\n",
        "    lambida # nm\n",
        "    distancia  # m\n",
        "    esp_entre_fendas  # mm\n",
        "    y = lambida * 10 ** (-6) * distancia / esp_entre_fendas\n",
        "    print('A distância entre dois máximos consecutivos é {:.10f}m'.format(y))\n",
        "\n",
        "\n",
        "difracao(632.8, 1.98, 0.25)\n"
      ],
      "execution_count": 24,
      "outputs": [
        {
          "output_type": "stream",
          "text": [
            "Seu imc é 31.14\n",
            "O volume da esfera é 4188.79dm³.\n",
            "A distância entre dois máximos consecutivos é 0.0050117760m\n"
          ],
          "name": "stdout"
        }
      ]
    }
  ]
}