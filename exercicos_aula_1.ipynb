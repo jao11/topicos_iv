{
  "nbformat": 4,
  "nbformat_minor": 0,
  "metadata": {
    "colab": {
      "name": "exercicos_aula_1.ipynb",
      "provenance": [],
      "authorship_tag": "ABX9TyMKnvybNqSVowoggqwhZRhG",
      "include_colab_link": true
    },
    "kernelspec": {
      "name": "python3",
      "display_name": "Python 3"
    },
    "language_info": {
      "name": "python"
    }
  },
  "cells": [
    {
      "cell_type": "markdown",
      "metadata": {
        "id": "view-in-github",
        "colab_type": "text"
      },
      "source": [
        "<a href=\"https://colab.research.google.com/github/jao11/topicos_iv/blob/main/exercicos_aula_1.ipynb\" target=\"_parent\"><img src=\"https://colab.research.google.com/assets/colab-badge.svg\" alt=\"Open In Colab\"/></a>"
      ]
    },
    {
      "cell_type": "markdown",
      "metadata": {
        "id": "xNRxOUEYqjY-"
      },
      "source": [
        "1. Se você fizer uma corrida de 10 quilômetros em 43 minutos e 30 segundos, qual será seu tempo médio por milha? Qual é a sua velocidade média em milhas por hora? (Dica: há 1,61 quilômetros em uma milha)."
      ]
    },
    {
      "cell_type": "code",
      "metadata": {
        "colab": {
          "base_uri": "https://localhost:8080/"
        },
        "id": "tvbvDNKtqcCG",
        "outputId": "631489f3-b721-40c3-cb85-78104d29fea4"
      },
      "source": [
        "n = float((10 / 1.61) / ((43 / 60) + (30 / 3600)))\n",
        "n1 = float(((43 / 60) + (30 / 3600)) / (10 / 1.61))\n",
        "print('Sua velocidade media é {:.2f} e seu tempo medio é {:.2f}'.format(n, n1))"
      ],
      "execution_count": 1,
      "outputs": [
        {
          "output_type": "stream",
          "text": [
            "Sua velocidade media é 8.57 e seu tempo medio é 0.12\n"
          ],
          "name": "stdout"
        }
      ]
    },
    {
      "cell_type": "markdown",
      "metadata": {
        "id": "KtbCQ1oNqwC9"
      },
      "source": [
        "2. Desde sua varanda você escuta o som do primeiro fogo artificial do reveillon 3 segundos depois de ver a luz, qual a distância? (o som tem velocidade 343 m/s e a luz $3\\times 10^8$ m/s)."
      ]
    },
    {
      "cell_type": "code",
      "metadata": {
        "colab": {
          "base_uri": "https://localhost:8080/"
        },
        "id": "iKi0v-yjqvHq",
        "outputId": "25b7ccb8-7e89-4d0c-ce19-9dbd78c1f2f3"
      },
      "source": [
        "som = float(343) # m/s\n",
        "luz = float(3 * 10 **8) # m/s\n",
        "d = 3 * som / ( 1 - (som / luz))\n",
        "print('A distância percorrida pela luz e som é {:.2f}m'.format(d))"
      ],
      "execution_count": 2,
      "outputs": [
        {
          "output_type": "stream",
          "text": [
            "A distância percorrida pela luz e som é 1029.00m\n"
          ],
          "name": "stdout"
        }
      ]
    },
    {
      "cell_type": "markdown",
      "metadata": {
        "id": "64--cz-9rH8B"
      },
      "source": [
        "3. Ache os zeros da função\n",
        "*  $y = 3x^2 - 4x -10$ "
      ]
    },
    {
      "cell_type": "code",
      "metadata": {
        "colab": {
          "base_uri": "https://localhost:8080/"
        },
        "id": "yCEMBMz1rGqG",
        "outputId": "05199966-3685-4016-ede2-9d2d963835fc"
      },
      "source": [
        "delta = (-4) ** 2 - 4 * 3 * (-10)\n",
        "x1 = (4 + (delta) ** 0.5) / (2 * 3)\n",
        "x2 = (4 - (delta) ** 0.5) / (2 * 3)\n",
        "print('As raizes da função são {:.2f} e {:.2f}'.format(x1 ,x2))"
      ],
      "execution_count": 3,
      "outputs": [
        {
          "output_type": "stream",
          "text": [
            "As raizes da função são 2.61 e -1.28\n"
          ],
          "name": "stdout"
        }
      ]
    },
    {
      "cell_type": "markdown",
      "metadata": {
        "id": "N_P-PPO5sEIW"
      },
      "source": [
        "4.  Se, ao meio-dia, a sombra de um poste de 5 m de altura tem apenas 50 cm de comprimento no chão, qual o ângulo zenital do sol?"
      ]
    },
    {
      "cell_type": "code",
      "metadata": {
        "colab": {
          "base_uri": "https://localhost:8080/"
        },
        "id": "GLpZZm1bsRuD",
        "outputId": "1a626315-c02c-42f9-f186-8217ff1d8d65"
      },
      "source": [
        "import math\n",
        "co = 0.5 # m \n",
        "ca = 5 # m\n",
        "tetaz = math.degrees(math.atan(co / ca))\n",
        "print('O ânguloo zenital do sol é {} radianos'.format(tetaz))"
      ],
      "execution_count": 10,
      "outputs": [
        {
          "output_type": "stream",
          "text": [
            "O ânguloo zenital do sol é 5.710593137499643 graus\n"
          ],
          "name": "stdout"
        }
      ]
    },
    {
      "cell_type": "markdown",
      "metadata": {
        "id": "-uSuc2vjsuo1"
      },
      "source": [
        "5. Calcule o seu $IMC = \\dfrac{M}{A^2}$ (com a massa em Kg e a altura em metros). Um valor saudável estara --em geral-- entre 20-25. Um bebê de 6 meses \"gorducho\" tem 70 cm de \"comprimento\" e 11 kg de massa, qual o IMC dele? \n",
        "\n"
      ]
    },
    {
      "cell_type": "code",
      "metadata": {
        "colab": {
          "base_uri": "https://localhost:8080/"
        },
        "id": "lii-qIhfssJT",
        "outputId": "5b6ad3f5-bf7c-4555-838a-429bbc5f86e8"
      },
      "source": [
        "m = 105 # kg\n",
        "a = 1.74 # m\n",
        "imc = m / (a ** 2)\n",
        "print('Seu imc é {:.2f}'.format(imc))"
      ],
      "execution_count": 6,
      "outputs": [
        {
          "output_type": "stream",
          "text": [
            "Seu imc é 34.68\n"
          ],
          "name": "stdout"
        }
      ]
    },
    {
      "cell_type": "markdown",
      "metadata": {
        "id": "yC_A9r8XtbkI"
      },
      "source": [
        "6. Calcule a velocidade final de um objeto em queda livre a partir de 3 metros de altura (sem resistencia do ar). Calcule o tempo que esse objeto demora para cair."
      ]
    },
    {
      "cell_type": "code",
      "metadata": {
        "colab": {
          "base_uri": "https://localhost:8080/"
        },
        "id": "mzh-QNPUtVKN",
        "outputId": "dedfcf78-a7ec-450f-8375-d89eb48e3ca7"
      },
      "source": [
        "print('Considerando a velocidade inicial como zero e a aceleração da gravidade como 9.81m/s**2...')\n",
        "vf = ((0**2) + 2 * 9.81 * 3) ** 0.5\n",
        "t = (2 * 3 / 9.81) ** 0.5\n",
        "print('A velocidade final será {:.2f}m/s e o tempo de queda será {:.2f}s'.format(vf ,t))"
      ],
      "execution_count": 7,
      "outputs": [
        {
          "output_type": "stream",
          "text": [
            "Considerando a velocidade inicial como zero e a aceleração da gravidade como 9.81m/s**2...\n",
            "A velocidade final será 7.67m/s e o tempo de queda será 0.78s\n"
          ],
          "name": "stdout"
        }
      ]
    }
  ]
}
