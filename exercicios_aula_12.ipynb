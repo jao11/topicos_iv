{
  "nbformat": 4,
  "nbformat_minor": 0,
  "metadata": {
    "colab": {
      "name": "exercicios_aula_12.ipynb",
      "provenance": [],
      "authorship_tag": "ABX9TyMN5/gu0jCuFm/0gXLD9/jF",
      "include_colab_link": true
    },
    "kernelspec": {
      "name": "python3",
      "display_name": "Python 3"
    },
    "language_info": {
      "name": "python"
    }
  },
  "cells": [
    {
      "cell_type": "markdown",
      "metadata": {
        "id": "view-in-github",
        "colab_type": "text"
      },
      "source": [
        "<a href=\"https://colab.research.google.com/github/jao11/topicos_iv/blob/main/exercicios_aula_12.ipynb\" target=\"_parent\"><img src=\"https://colab.research.google.com/assets/colab-badge.svg\" alt=\"Open In Colab\"/></a>"
      ]
    },
    {
      "cell_type": "markdown",
      "metadata": {
        "id": "owk4VkLVNGFR"
      },
      "source": [
        "AULA 12"
      ]
    },
    {
      "cell_type": "markdown",
      "metadata": {
        "id": "iO8Q66TLNJVX"
      },
      "source": [
        "## Exercícios:\n",
        "\n",
        "1) Escreva **uma função** que calcule a distância entre dois pontos, usando a classe `Ponto` que fizemos nesta aula."
      ]
    },
    {
      "cell_type": "code",
      "metadata": {
        "id": "DWHsGT4vMuz5"
      },
      "source": [
        "class Ponto:\n",
        "  \"\"\" Cria um novo Ponto, com coordenadas x, y \"\"\"\n",
        "\n",
        "  def __init__(self, x=0, y=0):\n",
        "    \"\"\" Inicializa em x, y o novo ponto criado pela classe \"\"\"\n",
        "    self.x = x\n",
        "    self.y = y\n",
        "\n",
        "  def distancia_da_origem(self):\n",
        "    \"\"\" Calcula minha distânica da origem \"\"\"\n",
        "    return ((self.x ** 2) + (self.y ** 2)) ** 0.5\n",
        "    \n",
        "  def ponto_medio(self, alvo):\n",
        "    \"\"\" Retorna o ponto medio entre esse ponto e o alvo \"\"\"\n",
        "    mx = (self.x + alvo.x)/2\n",
        "    my = (self.y + alvo.y)/2\n",
        "    return Ponto(mx, my)\n",
        "\n",
        "  def distancia_entre_dois_pontos(self, alvo):\n",
        "    \"\"\" Retorna a distância entre dois pontos \"\"\"\n",
        "    dx = (self.x - alvo.x)\n",
        "    dy = (self.y - alvo.y)\n",
        "    return float(((dx ** 2) + (dy ** 2))** (1/2))\n",
        "    \n",
        "  def __str__(self):\n",
        "    return \"({0}, {1})\".format(self.x, self.y)\n",
        "\n",
        "    "
      ],
      "execution_count": 6,
      "outputs": []
    },
    {
      "cell_type": "code",
      "metadata": {
        "colab": {
          "base_uri": "https://localhost:8080/"
        },
        "id": "avqafLs2PYlM",
        "outputId": "94d8e06e-9165-4956-96cb-120ff449917a"
      },
      "source": [
        "print(f'A distancia entre os pontos p = {Ponto(9, 1)} e q = {Ponto(5, 12)} será d = {Ponto(9, 1).distancia_entre_dois_pontos(Ponto(5, 12)):.3f}')\n"
      ],
      "execution_count": 26,
      "outputs": [
        {
          "output_type": "stream",
          "name": "stdout",
          "text": [
            "A distancia entre os pontos p = (9, 1) e q = (5, 12) será d = 11.705\n"
          ]
        }
      ]
    },
    {
      "cell_type": "markdown",
      "metadata": {
        "id": "Eg7ISpllLSXl"
      },
      "source": [
        "2) Adicione um método `reflexao_x` à classe `Ponto` que retorne uma instância de `Ponto` que seja o reflexo **sobre o eixo x**. Por exemplo, o resultado de  `Ponto(3, 5).reflexao_x()` deve ser um ponto com coordenadas  `(3, -5)`. _Imagine um espelho colado no eixo x._"
      ]
    },
    {
      "cell_type": "code",
      "metadata": {
        "id": "FMGAoTigLT1X"
      },
      "source": [
        "class Ponto:\n",
        "  \"\"\" Cria um novo Ponto, com coordenadas x, y \"\"\"\n",
        "\n",
        "  def __init__(self, x=0, y=0):\n",
        "    \"\"\" Inicializa em x, y o novo ponto criado pela classe \"\"\"\n",
        "    self.x = x\n",
        "    self.y = y\n",
        "\n",
        "  def distancia_da_origem(self):\n",
        "    \"\"\" Calcula minha distânica da origem \"\"\"\n",
        "    return ((self.x ** 2) + (self.y ** 2)) ** 0.5\n",
        "    \n",
        "  def ponto_medio(self, alvo):\n",
        "    \"\"\" Retorna o ponto medio entre esse ponto e o alvo \"\"\"\n",
        "    mx = (self.x + alvo.x)/2\n",
        "    my = (self.y + alvo.y)/2\n",
        "    return Ponto(mx, my)\n",
        "\n",
        "  def distancia_entre_dois_pontos(self, alvo):\n",
        "    \"\"\" Retorna a distância entre dois pontos \"\"\"\n",
        "    dx = (self.x - alvo.x)\n",
        "    dy = (self.y - alvo.y)\n",
        "    return float(((dx ** 2) + (dy ** 2))** (1/2))\n",
        "\n",
        "  def reflexao_x(self):\n",
        "    \"\"\" Retorna um ponto reflexo sobre o eixo x \"\"\"\n",
        "    return (self.x, - self.y)\n",
        "    \n",
        "  def __str__(self):\n",
        "    return \"({0}, {1})\".format(self.x, self.y)"
      ],
      "execution_count": 32,
      "outputs": []
    },
    {
      "cell_type": "code",
      "metadata": {
        "colab": {
          "base_uri": "https://localhost:8080/"
        },
        "id": "p_45O-GjHWQv",
        "outputId": "6813981a-aa22-4094-efa4-85005f334c13"
      },
      "source": [
        "print(f'O ponto espelho de p = {Ponto(3, 4)} sobre o eixo x é p` = {Ponto(3, 4).reflexao_x()}.')"
      ],
      "execution_count": 33,
      "outputs": [
        {
          "output_type": "stream",
          "name": "stdout",
          "text": [
            "O ponto espelho de p = (3, 4) sobre o eixo x é p` = (3, -4).\n"
          ]
        }
      ]
    },
    {
      "cell_type": "markdown",
      "metadata": {
        "id": "XK-7iPt5LUZ1"
      },
      "source": [
        "3) Adicione um método `inclinacao_da_origem` à classe `Ponto`, que retorne a inclinação da linha que une a origem ao `Ponto`. Por exemplo,\n",
        "\n",
        "```python\n",
        ">>> from Ponto import *\n",
        ">>> Ponto(4, 10).inclinacao_origem()\n",
        "2.5\n",
        "```\n",
        "O que pode dar errado com esse programa?"
      ]
    },
    {
      "cell_type": "code",
      "metadata": {
        "id": "-vb0jed0Le9E"
      },
      "source": [
        "class Ponto:\n",
        "  \"\"\" Cria um novo Ponto, com coordenadas x, y \"\"\"\n",
        "\n",
        "  def __init__(self, x=0, y=0):\n",
        "    \"\"\" Inicializa em x, y o novo ponto criado pela classe \"\"\"\n",
        "    self.x = x\n",
        "    self.y = y\n",
        "\n",
        "  def distancia_da_origem(self):\n",
        "    \"\"\" Calcula minha distânica da origem \"\"\"\n",
        "    return ((self.x ** 2) + (self.y ** 2)) ** 0.5\n",
        "    \n",
        "  def ponto_medio(self, alvo):\n",
        "    \"\"\" Retorna o ponto medio entre esse ponto e o alvo \"\"\"\n",
        "    mx = (self.x + alvo.x)/2\n",
        "    my = (self.y + alvo.y)/2\n",
        "    return Ponto(mx, my)\n",
        "\n",
        "  def distancia_entre_dois_pontos(self, alvo):\n",
        "    \"\"\" Retorna a distância entre dois pontos \"\"\"\n",
        "    dx = (self.x - alvo.x)\n",
        "    dy = (self.y - alvo.y)\n",
        "    return float(((dx ** 2) + (dy ** 2))** (1/2))\n",
        "\n",
        "  def reflexao_x(self):\n",
        "    \"\"\" Retorna um ponto reflexo sobre o eixo x \"\"\"\n",
        "    return (self.x, - self.y)\n",
        "\n",
        "  def inclinacao_da_origem(self):\n",
        "     \"\"\" Retorna a inclinação da linha que une a origem ao Ponto \"\"\"\n",
        "     if float(self.x) != 0:\n",
        "       return float(self.y) / float(self.x)\n",
        "     else:\n",
        "       print('Esse metodo falha quando os valores de x são iguais a zero pois temos uma indeterminação matemática.')\n",
        "       return 'zero'\n",
        "    \n",
        "  def __str__(self):\n",
        "    return \"({0}, {1})\".format(self.x, self.y)"
      ],
      "execution_count": 105,
      "outputs": []
    },
    {
      "cell_type": "code",
      "metadata": {
        "colab": {
          "base_uri": "https://localhost:8080/"
        },
        "id": "YveBS5QfMPg5",
        "outputId": "c64a745a-86f1-4f85-f7a3-ceee72ee1798"
      },
      "source": [
        "def escolhendo_pontos_para_inclinacao():\n",
        "  print(f'{\" Escolha de pontos para cálculo de inclinação \":=^100}')\n",
        "  i = 'S'\n",
        "  while i in 'S':\n",
        "    print(f'{\"\":=^100}')\n",
        "    p = Ponto(input('Entre com um valor para x: '), input('Entre com um valor para y: '))\n",
        "    inclinacao = p.inclinacao_da_origem()\n",
        "    if type(inclinacao) == str:\n",
        "      print(f'Mas sabemos que inclinação do ponto p = {p} é {inclinacao}.')\n",
        "    else:\n",
        "      print(f'A inclinação do ponto p = {p} é {inclinacao:.3f}.')\n",
        "    i = str(input('Deseja entrar com mais pontos?\\nDigite sim ou não:')).strip().upper()[0]\n",
        "    print(f'{\"\":=^100}')\n",
        "\n",
        "escolhendo_pontos_para_inclinacao()\n"
      ],
      "execution_count": 107,
      "outputs": [
        {
          "output_type": "stream",
          "name": "stdout",
          "text": [
            "=========================== Escolha de pontos para cálculo de inclinação ===========================\n",
            "====================================================================================================\n",
            "Entre com um valor para x: 9\n",
            "Entre com um valor para y: 8\n",
            "A inclinação do ponto p = (9, 8) é 0.889.\n",
            "Deseja entrar com mais pontos?\n",
            "Digite sim ou não:sim\n",
            "====================================================================================================\n",
            "====================================================================================================\n",
            "Entre com um valor para x: -9\n",
            "Entre com um valor para y: 8\n",
            "A inclinação do ponto p = (-9, 8) é -0.889.\n",
            "Deseja entrar com mais pontos?\n",
            "Digite sim ou não:sim\n",
            "====================================================================================================\n",
            "====================================================================================================\n",
            "Entre com um valor para x: 0\n",
            "Entre com um valor para y: 9\n",
            "Esse metodo falha quando os valores de x são iguais a zero pois temos uma indeterminação matemática.\n",
            "Mas sabemos que inclinação do ponto p = (0, 9) é zero.\n",
            "Deseja entrar com mais pontos?\n",
            "Digite sim ou não:sim\n",
            "====================================================================================================\n",
            "====================================================================================================\n",
            "Entre com um valor para x: 0\n",
            "Entre com um valor para y: -9\n",
            "Esse metodo falha quando os valores de x são iguais a zero pois temos uma indeterminação matemática.\n",
            "Mas sabemos que inclinação do ponto p = (0, -9) é zero.\n",
            "Deseja entrar com mais pontos?\n",
            "Digite sim ou não:não\n",
            "====================================================================================================\n"
          ]
        }
      ]
    },
    {
      "cell_type": "markdown",
      "metadata": {
        "id": "Avps1An-Lkv7"
      },
      "source": [
        "4) A equação de uma linha reta é $y = a x  + b$. Os coeficientes $a$ e $b$ descrevem completamente a reta. Escreva um método na classe `Ponto` para que, se uma instância `Ponto` receber outro `Ponto`, calcule a equação da linha reta que une os dois pontos. Deve retornar os dois coeficientes como uma **tupla de dois valores** $(a,b)$. Por exemplo,\n",
        "\n",
        "```python\n",
        ">>> from Ponto import *\n",
        ">>> print(Ponto(4,11).parametros_reta(Ponto(6,15)))\n",
        "(2.0,3.0)\n",
        "```\n",
        "\n",
        "O resultado acima nos diz que a equação da reta é $y = 2 x + 3$. Quando esse método falha?"
      ]
    },
    {
      "cell_type": "code",
      "metadata": {
        "id": "vmVBevoGLllY"
      },
      "source": [
        "class Ponto:\n",
        "  \"\"\" Cria um novo Ponto, com coordenadas x, y \"\"\"\n",
        "\n",
        "  def __init__(self, x=0, y=0):\n",
        "    \"\"\" Inicializa em x, y o novo ponto criado pela classe \"\"\"\n",
        "    self.x = x\n",
        "    self.y = y\n",
        "\n",
        "  def distancia_da_origem(self):\n",
        "    \"\"\" Calcula minha distânica da origem \"\"\"\n",
        "    return ((self.x ** 2) + (self.y ** 2)) ** 0.5\n",
        "    \n",
        "  def ponto_medio(self, alvo):\n",
        "    \"\"\" Retorna o ponto medio entre esse ponto e o alvo \"\"\"\n",
        "    mx = (self.x + alvo.x)/2\n",
        "    my = (self.y + alvo.y)/2\n",
        "    return Ponto(mx, my)\n",
        "\n",
        "  def distancia_entre_dois_pontos(self, alvo):\n",
        "    \"\"\" Retorna a distância entre dois pontos \"\"\"\n",
        "    dx = (self.x - alvo.x)\n",
        "    dy = (self.y - alvo.y)\n",
        "    return float(((dx ** 2) + (dy ** 2))** (1/2))\n",
        "\n",
        "  def reflexao_x(self):\n",
        "    \"\"\" Retorna um ponto reflexo sobre o eixo x \"\"\"\n",
        "    return (self.x, - self.y)\n",
        "\n",
        "  def inclinacao_da_origem(self):\n",
        "     \"\"\" Retorna a inclinação da linha que une a origem ao Ponto \"\"\"\n",
        "     if float(self.x) != 0:\n",
        "       return float(self.y) / float(self.x)\n",
        "     else:\n",
        "       print('Esse metodo falha quando os valores de x são iguais a zero pois temos uma indeterminação matemática.')\n",
        "       return 0\n",
        "      \n",
        "  def parametros_reta(self, alvo):\n",
        "    \"\"\" Retorna os parametros da reta f(x) = ax + b como uma tupla de dois valores \"\"\"\n",
        "    if float(self.x) - float(alvo.x) == 0:\n",
        "      return 'impossiveis de serem determinados com esses valores de x e y '\n",
        "    else:\n",
        "      a = Ponto((float(self.x) - float(alvo.x)), (float(self.y) - float(alvo.y))).inclinacao_da_origem()\n",
        "      b = float(self.y) - a * float(self.x)\n",
        "      return (a, b)\n",
        "\n",
        "    \n",
        "  def __str__(self):\n",
        "    return \"({0}, {1})\".format(self.x, self.y)"
      ],
      "execution_count": 149,
      "outputs": []
    },
    {
      "cell_type": "code",
      "metadata": {
        "colab": {
          "base_uri": "https://localhost:8080/"
        },
        "id": "5gnT5dA2GKNV",
        "outputId": "d51d4486-e25c-4cb7-ffc5-7d8069b91ac9"
      },
      "source": [
        "def determinando_a_e_b():\n",
        "  print(f'{\" Escolha de pontos para cálculo de (a, b) \":=^100}')\n",
        "  i = 'S'\n",
        "  while i in 'S':\n",
        "    print(f'{\"\":=^100}')\n",
        "    p = Ponto(input('Entre com o 1º valor para x: '), input('Entre com o 1º valor para y: '))\n",
        "    print(' ')\n",
        "    q = Ponto(input('Entre com o 2º valor para x: '), input('Entre com o 2º valor para y: '))\n",
        "    print(' ')\n",
        "    parametros = p.parametros_reta(q)\n",
        "    if type(parametros) == str:\n",
        "      print(f'Os parametro (a, b) são {parametros}.\\n')\n",
        "    else:\n",
        "      print(f'Os parametro (a, b) são {parametros}.\\nLogo temos y = ({parametros[0]:.3f})x + ({parametros[1]:.3f})\\n')\n",
        "    i = str(input('Deseja entrar com mais pontos?\\nDigite sim ou não:')).strip().upper()[0]\n",
        "    print(f'{\"\":=^100}')\n",
        "\n",
        "determinando_a_e_b()"
      ],
      "execution_count": 157,
      "outputs": [
        {
          "output_type": "stream",
          "name": "stdout",
          "text": [
            "============================= Escolha de pontos para cálculo de (a, b) =============================\n",
            "====================================================================================================\n",
            "Entre com o 1º valor para x: 0\n",
            "Entre com o 1º valor para y: 9\n",
            " \n",
            "Entre com o 2º valor para x: 9\n",
            "Entre com o 2º valor para y: 0\n",
            " \n",
            "Os parametro (a, b) são (-1.0, 9.0).\n",
            "Logo temos y = (-1.000)x + (9.000)\n",
            "\n",
            "Deseja entrar com mais pontos?\n",
            "Digite sim ou não:sim\n",
            "====================================================================================================\n",
            "====================================================================================================\n",
            "Entre com o 1º valor para x: 9\n",
            "Entre com o 1º valor para y: 10\n",
            " \n",
            "Entre com o 2º valor para x: 9\n",
            "Entre com o 2º valor para y: 0\n",
            " \n",
            "Os parametro (a, b) são impossiveis de serem determinados com esses valores de x e y .\n",
            "\n",
            "Deseja entrar com mais pontos?\n",
            "Digite sim ou não:não\n",
            "====================================================================================================\n"
          ]
        }
      ]
    }
  ]
}