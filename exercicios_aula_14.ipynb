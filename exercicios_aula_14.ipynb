{
  "nbformat": 4,
  "nbformat_minor": 0,
  "metadata": {
    "colab": {
      "name": "exercicios_aula_14.ipynb",
      "provenance": [],
      "authorship_tag": "ABX9TyOfbWHH1iDGwZdJaESD3wjz",
      "include_colab_link": true
    },
    "kernelspec": {
      "name": "python3",
      "display_name": "Python 3"
    },
    "language_info": {
      "name": "python"
    }
  },
  "cells": [
    {
      "cell_type": "markdown",
      "metadata": {
        "id": "view-in-github",
        "colab_type": "text"
      },
      "source": [
        "<a href=\"https://colab.research.google.com/github/jao11/topicos_iv/blob/main/exercicios_aula_14.ipynb\" target=\"_parent\"><img src=\"https://colab.research.google.com/assets/colab-badge.svg\" alt=\"Open In Colab\"/></a>"
      ]
    },
    {
      "cell_type": "markdown",
      "metadata": {
        "id": "LBpRgF3g7mSE"
      },
      "source": [
        "AULA 14"
      ]
    },
    {
      "cell_type": "markdown",
      "metadata": {
        "id": "jyv3Yhyx76ka"
      },
      "source": [
        "### Exercício parte 1:\n",
        " Adicionar um método `__str__` para que os objetos MeuTempo possam se imprimir decentemente.\n",
        "\n",
        " ```Python\n",
        " class  MeuTempo :\n",
        "\n",
        "    def  __init__ ( self ,  hrs = 0 ,  mins = 0 ,  segs = 0 ): \n",
        "        \"\" \"Criar um objeto MeuTempo inicializado para hrs, mins, segs\" \"\" \n",
        "        self.horas  =  hrs \n",
        "        self.minutos  =  mins\n",
        "        self.segundos  =  segs\n",
        "\n",
        "```"
      ]
    },
    {
      "cell_type": "code",
      "metadata": {
        "id": "O1MRFk5q7ZTM"
      },
      "source": [
        "class  MeuTempo1 :\n",
        "\n",
        "  def  __init__ ( self ,  hrs = 0 ,  mins = 0 ,  segs = 0 ): \n",
        "    \"\" \"Criar um objeto MeuTempo inicializado para hrs, mins, segs\" \"\" \n",
        "    self.horas  =  hrs \n",
        "    self.minutos  =  mins\n",
        "    self.segundos  =  segs\n",
        "  \n",
        "  def __str__ (self):\n",
        "    return f'{self.horas}: {self.minutos}: {self.segundos}'\n",
        "\n"
      ],
      "execution_count": null,
      "outputs": []
    },
    {
      "cell_type": "code",
      "metadata": {
        "id": "8Wp-YSe0w8Ya",
        "colab": {
          "base_uri": "https://localhost:8080/"
        },
        "outputId": "36b0bb71-80ca-4b06-a2f4-c0d3001c2100"
      },
      "source": [
        "tim1  =  MeuTempo1 ( 11 ,  59 ,  30 )\n",
        "print(tim1)"
      ],
      "execution_count": null,
      "outputs": [
        {
          "output_type": "stream",
          "name": "stdout",
          "text": [
            "11: 59: 30\n"
          ]
        }
      ]
    },
    {
      "cell_type": "markdown",
      "metadata": {
        "id": "w6RH5b2EKfmB"
      },
      "source": [
        "**Exercício:** adicione um método `__sub __ (self, other)` que sobrecarrega o operador de subtração e teste-o."
      ]
    },
    {
      "cell_type": "code",
      "metadata": {
        "id": "_4bFHp2Aw-y0"
      },
      "source": [
        "class  MeuTempo : \n",
        "  # Métodos previamente definidos aqui ... \n",
        "  def  __init__ ( self ,  hrs = 0 ,  mins = 0 ,  segs = 0 ): \n",
        "    \"\"\" Criar um novo objeto MeuTempo inicializado para hrs, min, segs. \n",
        "    Os valores de mins e segs podem estar fora do intervalo de 0-59, \n",
        "    mas o objecto MeuTempo resultante será normalizado.  \"\"\" \n",
        "    # Calcular total de segundos para representar \n",
        "    self.totalsegs =  hrs * 3600  +  mins * 60  +  segs \n",
        "    self.horas =  self.totalsegs  //  3600         # Divisão em h, m, s \n",
        "    restosegs =  self.totalsegs  %  3600 \n",
        "    self.minutos  =  restosegs  //  60 \n",
        "    self.segundos  =  restosegs  %  60\n",
        "    if self.horas >=24:\n",
        "      self.horas = self.horas%24\n",
        "    \n",
        "  def  to_seconds ( self ): \n",
        "    \"\"\"Retorna o número de segundos representados por esta instância \"\"\" \n",
        "    return  self.totalsegs\n",
        "    \n",
        "  def  __add__ ( self ,  other ): \n",
        "    \"\"\" Retorna a soma do tempo atual e outro, para utilizar com o simbolo + \"\"\"\n",
        "    return  MeuTempo ( 0 ,  0 ,  self.to_seconds()  +  other.to_seconds())\n",
        "\n",
        "  def __sub__(self, other):\n",
        "    '''Retorna a diferença do tempo atual e outro para utilizar com o símbolo - '''\n",
        "    return MeuTempo (0, 0, self.to_seconds() - other.to_seconds())    \n",
        "    \n",
        "  def __str__(self):\n",
        "    \"\"\"Retorna uma representação do objeto como string, legível para humanos.\"\"\"\n",
        "    return '%.2d:%.2d:%.2d' % (self.horas, self.minutos, self.segundos)  "
      ],
      "execution_count": null,
      "outputs": []
    },
    {
      "cell_type": "code",
      "metadata": {
        "id": "8Sw1Oh31bjJ0",
        "colab": {
          "base_uri": "https://localhost:8080/"
        },
        "outputId": "a2d45f80-102d-4a72-8ce7-f4d098afe2ae"
      },
      "source": [
        "a=MeuTempo(12,40,30)\n",
        "b=MeuTempo(11,55,15)\n",
        "print(a,b) #os dois tempos iniciais a e b\n",
        "print(a - b) #o resultado da diferença \"normalizada\""
      ],
      "execution_count": null,
      "outputs": [
        {
          "output_type": "stream",
          "name": "stdout",
          "text": [
            "12:40:30 11:55:15\n",
            "00:45:15\n"
          ]
        }
      ]
    },
    {
      "cell_type": "markdown",
      "metadata": {
        "id": "vfou2ToxyCNq"
      },
      "source": [
        "##  Exercícios parte 2:\n",
        "1. Escreva uma função booleana  chamada `entre`  que tome dois objetos MeuTempo, t1 e t2 , como argumentos, e retorne `True` se um terceiro objeto MeuTempo invocado estiver entre os dois tempos. Suponha que o tempo t1 <= t2 , e faça o teste fechado no limite inferior e abra no limite superior, isto é, retorne True se t1 <= obj < t2.\n",
        "\n",
        "\n"
      ]
    },
    {
      "cell_type": "code",
      "metadata": {
        "id": "x-fzb4CRyxy9"
      },
      "source": [
        "def entre(t1, t2, t3):\n",
        "  tempos = [t1.to_seconds(), t2.to_seconds(), t3.to_seconds()]\n",
        "\n",
        "  if tempos[0] <= tempos[1]:\n",
        "    if tempos[0] <= tempos[2] and tempos[2] < tempos[1]:\n",
        "      return True\n",
        "    else:\n",
        "      return False\n",
        "  else:\n",
        "    return False"
      ],
      "execution_count": null,
      "outputs": []
    },
    {
      "cell_type": "code",
      "metadata": {
        "colab": {
          "base_uri": "https://localhost:8080/"
        },
        "id": "aAJsOd6F33Dg",
        "outputId": "efe80b86-b15a-4792-a141-49700bb97db3"
      },
      "source": [
        "print(entre(MeuTempo(0, 10, 15), MeuTempo(1, 9, 10), MeuTempo(1, 0, 10)))\n",
        "print(entre(MeuTempo(0, 10, 15), MeuTempo(1, 9, 10), MeuTempo(1, 20, 10)))\n",
        "print(entre(MeuTempo(2, 10, 15), MeuTempo(1, 9, 10), MeuTempo(1, 0, 10)))"
      ],
      "execution_count": null,
      "outputs": [
        {
          "output_type": "stream",
          "name": "stdout",
          "text": [
            "True\n",
            "False\n",
            "False\n"
          ]
        }
      ]
    },
    {
      "cell_type": "markdown",
      "metadata": {
        "id": "Y94xHOVRyysb"
      },
      "source": [
        "2. Transforme a função acima em um método na classe MeuTempo."
      ]
    },
    {
      "cell_type": "code",
      "metadata": {
        "id": "-KJHkeDcy0lq"
      },
      "source": [
        "class  MeuTempo2 : \n",
        "  # Métodos previamente definidos aqui ... \n",
        "  def  __init__ ( self ,  hrs = 0 ,  mins = 0 ,  segs = 0 ): \n",
        "    \"\"\" Criar um novo objeto MeuTempo inicializado para hrs, min, segs. \n",
        "    Os valores de mins e segs podem estar fora do intervalo de 0-59, \n",
        "    mas o objecto MeuTempo resultante será normalizado.  \"\"\" \n",
        "    # Calcular total de segundos para representar \n",
        "    self.totalsegs =  hrs * 3600  +  mins * 60  +  segs \n",
        "    self.horas =  self.totalsegs  //  3600         # Divisão em h, m, s \n",
        "    restosegs =  self.totalsegs  %  3600 \n",
        "    self.minutos  =  restosegs  //  60 \n",
        "    self.segundos  =  restosegs  %  60\n",
        "    if self.horas >=24:\n",
        "      self.horas = self.horas%24\n",
        "    \n",
        "  def  to_seconds ( self ): \n",
        "    \"\"\"Retorna o número de segundos representados por esta instância \"\"\" \n",
        "    return  self.totalsegs\n",
        "    \n",
        "  def  __add__ ( self ,  other ): \n",
        "    \"\"\" Retorna a soma do tempo atual e outro, para utilizar com o simbolo + \"\"\"\n",
        "    return  MeuTempo2 ( 0 ,  0 ,  self.to_seconds()  +  other.to_seconds())\n",
        "\n",
        "  def __sub__(self, other):\n",
        "    '''Retorna a diferença do tempo atual e outro para utilizar com o símbolo - '''\n",
        "    return MeuTempo2 (0, 0, self.to_seconds() - other.to_seconds()) \n",
        "\n",
        "  def entre(self, t1, t2):\n",
        "    tempos = [t1.to_seconds(), t2.to_seconds(), self.to_seconds()]\n",
        "\n",
        "    if tempos[0] <= tempos[1]:\n",
        "      if tempos[0] <= tempos[2] and tempos[2] < tempos[1]:\n",
        "        return True\n",
        "      else:\n",
        "       return False\n",
        "    else:\n",
        "     return False   \n",
        "    \n",
        "  def __str__(self):\n",
        "    \"\"\"Retorna uma representação do objeto como string, legível para humanos.\"\"\"\n",
        "    return '%.2d:%.2d:%.2d' % (self.horas, self.minutos, self.segundos) "
      ],
      "execution_count": null,
      "outputs": []
    },
    {
      "cell_type": "code",
      "metadata": {
        "colab": {
          "base_uri": "https://localhost:8080/"
        },
        "id": "-LUi4jjg8Slk",
        "outputId": "06414125-3184-4a3f-a0db-f2d94d332f14"
      },
      "source": [
        "(MeuTempo2(1, 0, 10)).entre(MeuTempo2(0, 10, 15), MeuTempo2(1, 9, 10))"
      ],
      "execution_count": null,
      "outputs": [
        {
          "output_type": "execute_result",
          "data": {
            "text/plain": [
              "True"
            ]
          },
          "metadata": {},
          "execution_count": 29
        }
      ]
    },
    {
      "cell_type": "markdown",
      "metadata": {
        "id": "kVEyFgYNypV8"
      },
      "source": [
        "3. Sobrecarregue o(s) operador(es) necessário(s)  --ver a lista de métodos especiais em https://docs.python.org/3/reference/datamodel.html#special-method-names -- para que, em vez de ter que escrever :\n",
        "```python\n",
        "if t1.depois( t2 ):  \n",
        "     ...\n",
        "```\n",
        "possamos usar o mais conveniente:\n",
        "```python\n",
        "if t1  >  t2 :  \n",
        "     ...\n",
        "```\n"
      ]
    },
    {
      "cell_type": "code",
      "metadata": {
        "id": "7mhCeJKGykcw"
      },
      "source": [
        "class  MeuTempo3 : \n",
        "  # Métodos previamente definidos aqui ... \n",
        "  def  __init__ ( self ,  hrs = 0 ,  mins = 0 ,  segs = 0 ): \n",
        "    \"\"\" Criar um novo objeto MeuTempo inicializado para hrs, min, segs. \n",
        "    Os valores de mins e segs podem estar fora do intervalo de 0-59, \n",
        "    mas o objecto MeuTempo resultante será normalizado.  \"\"\" \n",
        "    # Calcular total de segundos para representar \n",
        "    self.totalsegs =  hrs * 3600  +  mins * 60  +  segs \n",
        "    self.horas =  self.totalsegs  //  3600         # Divisão em h, m, s \n",
        "    restosegs =  self.totalsegs  %  3600 \n",
        "    self.minutos  =  restosegs  //  60 \n",
        "    self.segundos  =  restosegs  %  60\n",
        "    if self.horas >=24:\n",
        "      self.horas = self.horas%24\n",
        "    \n",
        "  def  to_seconds ( self ): \n",
        "    \"\"\"Retorna o número de segundos representados por esta instância \"\"\" \n",
        "    return  self.totalsegs\n",
        "    \n",
        "  def  __add__ ( self ,  other ): \n",
        "    \"\"\" Retorna a soma do tempo atual e outro, para utilizar com o simbolo + \"\"\"\n",
        "    return  MeuTempo3 ( 0 ,  0 ,  self.to_seconds()  +  other.to_seconds())\n",
        "\n",
        "  def __sub__(self, other):\n",
        "    '''Retorna a diferença do tempo atual e outro para utilizar com o símbolo - '''\n",
        "    return MeuTempo3 (0, 0, self.to_seconds() - other.to_seconds()) \n",
        "\n",
        "  def entre(self, t1, t2):\n",
        "    tempos = [t1.to_seconds(), t2.to_seconds(), self.to_seconds()]\n",
        "\n",
        "    if tempos[0] <= tempos[1]:\n",
        "      if tempos[0] <= tempos[2] and tempos[2] < tempos[1]:\n",
        "        return True\n",
        "      else:\n",
        "       return False\n",
        "    else:\n",
        "     return False \n",
        "\n",
        "  def __gt__(self, other):\n",
        "    if self.to_seconds() > other.to_seconds():\n",
        "      return True\n",
        "    else:\n",
        "      return False  \n",
        "    \n",
        "  def __str__(self):\n",
        "    \"\"\"Retorna uma representação do objeto como string, legível para humanos.\"\"\"\n",
        "    return '%.2d:%.2d:%.2d' % (self.horas, self.minutos, self.segundos) "
      ],
      "execution_count": null,
      "outputs": []
    },
    {
      "cell_type": "code",
      "metadata": {
        "colab": {
          "base_uri": "https://localhost:8080/"
        },
        "id": "ac0402B9-J5P",
        "outputId": "8b5e042b-44cc-4749-be3f-fa4ecd1af016"
      },
      "source": [
        "t1 = MeuTempo3(6,00,00)\n",
        "t2 = MeuTempo3(00,00,00)\n",
        "print(t1 > t2)\n",
        "if t1 > t2:\n",
        "  print(\"Certo\")\n",
        "else:\n",
        "  print(\"Erro\")"
      ],
      "execution_count": null,
      "outputs": [
        {
          "output_type": "stream",
          "name": "stdout",
          "text": [
            "True\n",
            "Certo\n"
          ]
        }
      ]
    },
    {
      "cell_type": "markdown",
      "metadata": {
        "id": "VEy0WXhoyd7N"
      },
      "source": [
        "4. Defina um novo tipo de tartaruga, TurtleGTX, que venha com alguns recursos extras: ela pode saltar para uma determinada distância, e tem um odômetro que rastreia até onde a tartaruga viajou desde que saiu da linha de produção. (A classe base tem vários sinônimos como `fd` e `forward` ; `back` , `backward` e `bk` : para este exercício, concentre-se **apenas** em colocar essa funcionalidade no método `forward`.) Pense cuidadosamente sobre como contar a distância se a tartaruga for solicitada a avançar por um valor negativo. (Não gostaríamos de comprar uma tartaruga de segunda mão cuja leitura do odômetro foi falsificada porque seu proprietário anterior a levou para trás ao redor do quarteirão com muita frequência. Tente isso em um carro perto de você e veja se o odômetro do carro conta para cima ou para baixo quando você marcha ré.)"
      ]
    },
    {
      "cell_type": "markdown",
      "metadata": {
        "id": "ZUtF4oKGyVEc"
      },
      "source": [
        "5. Depois de percorrer uma distância aleatória, sua tartaruga deve quebrar com um pneu furado. Depois disso, aumente uma exceção sempre que `forward` for chamado. Também forneça um método `trocar_pneu` que possa consertar o pneu furado e eliminar a exceção para a tartaruga continuar seu percorso."
      ]
    },
    {
      "cell_type": "code",
      "metadata": {
        "id": "5DPuMl32yXrj"
      },
      "source": [
        "import turtle\n",
        "import random\n",
        "\n",
        "class TurtleGTX(turtle.Turtle):\n",
        "    def __init__(self):\n",
        "        super(TurtleGTX, self).__init__()\n",
        "        self.distancia = 0\n",
        "        self.pneu_furado = False\n",
        "\n",
        "    def odometer(self, dist=0):\n",
        "        self.distancia += abs(dist)\n",
        "        return self.distancia\n",
        "\n",
        "    def forward(self, distancia):\n",
        "        if self.pneu_furado:\n",
        "            seu_pneu_furou = ValueError('Você não pode dirigir, sua tartaruga está com o pneu furado.')\n",
        "            raise seu_pneu_furou\n",
        "        else:\n",
        "            self.fd(distancia)\n",
        "            self.dano_no_pneu()\n",
        "            #super(TurtleGTX, self).forward(distance)\n",
        "            self.odometer(distancia)\n",
        "\n",
        "    def troca_do_pneu(self):\n",
        "        if self.pneu_furado:\n",
        "            self.pneu_furado = False\n",
        "            print('Troca de pneu!')\n",
        "\n",
        "    def dano_no_pneu(self):\n",
        "        if random.randrange(200)%3 == 2:\n",
        "            self.pneu_furado = True\n",
        "            print('Seu pneu furou!')\n",
        "\n",
        "def exit_turtle():\n",
        "    wn.bye()\n",
        "\n",
        "wn = turtle.Screen()\n",
        "joana = TurtleGTX()\n",
        "for i in range(3):\n",
        "    try:\n",
        "        joana.forward(50)\n",
        "    except:\n",
        "        joana.troca_do_pneu()\n",
        "        print(joana.odometer())\n",
        "\n",
        "#wn.onkey(exit_turtle) #, key=\"Escape\")\n",
        "wn.listen()\n",
        "wn.mainloop()"
      ],
      "execution_count": null,
      "outputs": []
    }
  ]
}