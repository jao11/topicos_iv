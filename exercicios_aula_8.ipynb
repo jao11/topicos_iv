{
  "nbformat": 4,
  "nbformat_minor": 0,
  "metadata": {
    "colab": {
      "name": "exercicios_aula_8.ipynb",
      "provenance": [],
      "authorship_tag": "ABX9TyPAigD1KpJ4X9Y+kTHp1Y1p",
      "include_colab_link": true
    },
    "kernelspec": {
      "name": "python3",
      "display_name": "Python 3"
    },
    "language_info": {
      "name": "python"
    }
  },
  "cells": [
    {
      "cell_type": "markdown",
      "metadata": {
        "id": "view-in-github",
        "colab_type": "text"
      },
      "source": [
        "<a href=\"https://colab.research.google.com/github/jao11/topicos_iv/blob/main/exercicios_aula_8.ipynb\" target=\"_parent\"><img src=\"https://colab.research.google.com/assets/colab-badge.svg\" alt=\"Open In Colab\"/></a>"
      ]
    },
    {
      "cell_type": "markdown",
      "metadata": {
        "id": "ExSIniCHmRcz"
      },
      "source": [
        "AULA 8"
      ]
    },
    {
      "cell_type": "markdown",
      "metadata": {
        "id": "NA694ygcmacV"
      },
      "source": [
        "## Exercícios parte 1: \n",
        "   1. Percorra toda a `string` \"banana\", utilizando as iterações\n",
        "apresentadas nas aulas anteriores, e imprima na tela uma letra por linha como se fosse em uma escada. \n",
        "  "
      ]
    },
    {
      "cell_type": "code",
      "metadata": {
        "id": "l62LgVYFC6Pz",
        "colab": {
          "base_uri": "https://localhost:8080/"
        },
        "outputId": "a632589a-30a3-4298-a3fa-33a5f7eaf1e1"
      },
      "source": [
        "def percorra(n = 'banana'):\n",
        "  for x in range(len(n)):\n",
        "    print(str(n[x]))\n",
        "\n",
        "percorra()"
      ],
      "execution_count": null,
      "outputs": [
        {
          "output_type": "stream",
          "name": "stdout",
          "text": [
            "b\n",
            "a\n",
            "n\n",
            "a\n",
            "n\n",
            "a\n"
          ]
        }
      ]
    },
    {
      "cell_type": "markdown",
      "metadata": {
        "id": "IExIf0Sbmuxa"
      },
      "source": [
        " 2. Escreva uma função que receba uma `string` como argumento e exiba as letras de trás para a frente, uma por linha."
      ]
    },
    {
      "cell_type": "code",
      "metadata": {
        "id": "gydYZMzCmyUF",
        "colab": {
          "base_uri": "https://localhost:8080/"
        },
        "outputId": "ce5d771c-7e71-444f-d026-04193666095d"
      },
      "source": [
        "def ultima_letra_prime_letra():\n",
        "  n = 'o' + str(input('Escreva uma palava: '))\n",
        "  n1 = len(n)\n",
        "  for x in range(n1 - 1, 0, -1):\n",
        "    print(n[x])\n",
        "\n",
        "ultima_letra_prime_letra()"
      ],
      "execution_count": null,
      "outputs": [
        {
          "output_type": "stream",
          "name": "stdout",
          "text": [
            "Escreva uma palava: banana\n",
            "a\n",
            "n\n",
            "a\n",
            "n\n",
            "a\n",
            "b\n"
          ]
        }
      ]
    },
    {
      "cell_type": "markdown",
      "metadata": {
        "id": "t331HW0km9kT"
      },
      "source": [
        "\n",
        "## Exercícios Parte 2:\n",
        " 1. Resolução numérica de equações diferenciais. Imagine que tem um(a) maratonista treinando, que num trecho de $5 \\mathrm{km}$ tem velocidade quase constante de $12 \\mathrm{km/h}$. Produza uma lista com a  distância percorrida em intervalos de 1 minuto. \n",
        "\n",
        "  "
      ]
    },
    {
      "cell_type": "code",
      "metadata": {
        "id": "wGjohMmJnRUn",
        "colab": {
          "base_uri": "https://localhost:8080/"
        },
        "outputId": "42d7101b-fa01-4b1d-dc08-53174a3977d6"
      },
      "source": [
        "def km_por_hora_para_km_por_min(v_hora):\n",
        "  v_min = v_hora / 60\n",
        "  return v_min\n",
        "\n",
        "def lista_de_distancias(x, v):\n",
        "  distancias = 0\n",
        "  ds = []\n",
        "  while distancias < x:\n",
        "    distancias += (km_por_hora_para_km_por_min(v))\n",
        "    ds.append(round(distancias, 1))\n",
        "  return ds\n",
        "\n",
        "print(lista_de_distancias(5, 12))\n"
      ],
      "execution_count": null,
      "outputs": [
        {
          "output_type": "stream",
          "name": "stdout",
          "text": [
            "[0.2, 0.4, 0.6, 0.8, 1.0, 1.2, 1.4, 1.6, 1.8, 2.0, 2.2, 2.4, 2.6, 2.8, 3.0, 3.2, 3.4, 3.6, 3.8, 4.0, 4.2, 4.4, 4.6, 4.8, 5.0]\n"
          ]
        }
      ]
    },
    {
      "cell_type": "markdown",
      "metadata": {
        "id": "jflBK9fynSDn"
      },
      "source": [
        " 2. O(A) mesmo(a) atleta no seguinte trecho acelera nos seguintes $200$ metros até chegar numa velocidade de $15 \\mathrm{km/h}$, e mantém esta velocidade por $1,8 \\mathrm{km}$. Queremos obter uma tabela ou gráfico da distância percorrida en função do tempo, e calcular e o tempo total para chegar em $7 \\mathrm{km}$, faça isto utilizando listas. \n",
        "\n",
        "  "
      ]
    },
    {
      "cell_type": "code",
      "metadata": {
        "id": "X4_ar5fznW-Y",
        "colab": {
          "base_uri": "https://localhost:8080/",
          "height": 296
        },
        "outputId": "f2d1c264-fae5-47b7-9d77-1d157918a2a6"
      },
      "source": [
        "def km_por_hora_para_km_por_min(v_hora):\n",
        "  v_min = v_hora / 60\n",
        "  return v_min\n",
        "\n",
        "def lista_de_distancias(xf, xi, v):\n",
        "  distancias = xi\n",
        "  ds = []\n",
        "  while distancias <= xf:\n",
        "    distancias += (km_por_hora_para_km_por_min(v))\n",
        "    ds.append((distancias))\n",
        "  return ds\n",
        "\n",
        "def lista_de_distan_em_acel(xf, xi, vf, vi):\n",
        "  distancias = xi\n",
        "  ds =[]\n",
        "  while distancias <= xf:\n",
        "    distancias += km_por_hora_para_km_por_min(vi) + (xf - xi)*km_por_hora_para_km_por_min(vf - vi)\n",
        "    ds.append(round(distancias, 1))\n",
        "  return ds\n",
        "\n",
        "def minuto_por_minuto(distancia):\n",
        "    ts = []\n",
        "    for i in range(len(distancia)):\n",
        "        ts.append(i)\n",
        "    return ts\n",
        "\n",
        "import matplotlib.pyplot as plt\n",
        "\n",
        "y = [0]\n",
        "y.extend(lista_de_distancias(5, 0, 12))\n",
        "y.extend(lista_de_distan_em_acel(5.2, 5, 15, 12))\n",
        "y.extend(lista_de_distancias(7, 5.2, 15))\n",
        "#print(y)\n",
        "x = minuto_por_minuto(y)\n",
        "#print(x)\n",
        "plt.plot(x, y)\n",
        "plt.xlabel('Tempo (min)')\n",
        "plt.ylabel('Distância (km)')\n",
        "\n"
      ],
      "execution_count": null,
      "outputs": [
        {
          "output_type": "execute_result",
          "data": {
            "text/plain": [
              "Text(0, 0.5, 'Distância (km)')"
            ]
          },
          "metadata": {},
          "execution_count": 11
        },
        {
          "output_type": "display_data",
          "data": {
            "image/png": "[encoded data removed]",
            "text/plain": [
              "<Figure size 432x288 with 1 Axes>"
            ]
          },
          "metadata": {
            "needs_background": "light"
          }
        }
      ]
    },
    {
      "cell_type": "markdown",
      "metadata": {
        "id": "A--uFcSHnXqP"
      },
      "source": [
        "3. Considere um péndulo simples num plano. O comprimento da linha é $1$ metro, a massa é $0,2 \\mathrm{kg}$ e a aceleração de gravidade $9,8 \\mathrm{m}/\\mathrm{s}^2$. Faça um gráfico ou crie uma tabela para a posição da massa em coordenadas cartesianas em função do tempo, utilizando listas.\n",
        "\n",
        "  "
      ]
    },
    {
      "cell_type": "code",
      "metadata": {
        "colab": {
          "base_uri": "https://localhost:8080/",
          "height": 398
        },
        "id": "pSuBB2eAGkC8",
        "outputId": "c841d761-c6ff-404a-bee1-e54c24b446f0"
      },
      "source": [
        "def posicao_pendulo():\n",
        "  from numpy import cos, sin, sqrt\n",
        "\n",
        "  print('{:^100}'.format('Informações do péndulo'))\n",
        "  print('{:=^100}'.format(''))\n",
        "  thetai = float(input('Insira a posição inicial:'))\n",
        "  vi = float(input('Insira a velocidade inicial:'))\n",
        "  tf = float(input('Insira o tempo de oscilação que você deseja no gráfico:'))\n",
        "  w = sqrt(9.8 / 1)\n",
        "  t = 0\n",
        "  ds =[]\n",
        "  while t <= tf:\n",
        "    theta = ((thetai * cos(w * t)) + ((vi/w) * sin(w * t)))\n",
        "    ds.append(theta)\n",
        "    t += 0.01\n",
        "  print('{:=^100}'.format(''))\n",
        "  return ds\n",
        "\n",
        "\n",
        "def segundo_por_segundo(theta):\n",
        "    ts = []\n",
        "    for i in range(len(theta)):\n",
        "        ts.append(i)\n",
        "    return ts\n",
        "\n",
        "import matplotlib.pyplot as plt\n",
        "\n",
        "y = []\n",
        "y.extend(posicao_pendulo())\n",
        "\n",
        "#print(y)\n",
        "x = segundo_por_segundo(y)\n",
        "# print(x)\n",
        "plt.plot(x, y)\n",
        "plt.xlabel('Tempo (s / 10²)')\n",
        "plt.ylabel('Theta (rad)')"
      ],
      "execution_count": null,
      "outputs": [
        {
          "output_type": "stream",
          "name": "stdout",
          "text": [
            "                                       Informações do péndulo                                       \n",
            "====================================================================================================\n",
            "Insira a posição inicial:0\n",
            "Insira a velocidade inicial:0.3\n",
            "Insira o tempo de oscilação que você deseja no gráfico:10\n",
            "====================================================================================================\n"
          ]
        },
        {
          "output_type": "execute_result",
          "data": {
            "text/plain": [
              "Text(0, 0.5, 'Theta (rad)')"
            ]
          },
          "metadata": {},
          "execution_count": 19
        },
        {
          "output_type": "display_data",
          "data": {
            "image/png": "[encoded data removed]",
            "text/plain": [
              "<Figure size 432x288 with 1 Axes>"
            ]
          },
          "metadata": {
            "needs_background": "light"
          }
        }
      ]
    },
    {
      "cell_type": "markdown",
      "metadata": {
        "id": "389yaQN2nd0U"
      },
      "source": [
        " 4. (opcional) Pesquise sobre o pacote `numpy` e os objetos desse pacote chamados `array`, tente utilizálos ao invés de listas para resolver os exercícios.\n",
        "\n",
        "Dica: podem usar o pacote `matplotlib.pyplot` para fazer um gráfico:"
      ]
    },
    {
      "cell_type": "code",
      "metadata": {
        "id": "6Jh4CQOvec64"
      },
      "source": [
        ""
      ],
      "execution_count": null,
      "outputs": []
    }
  ]
}