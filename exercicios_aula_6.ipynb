{
  "nbformat": 4,
  "nbformat_minor": 0,
  "metadata": {
    "colab": {
      "name": "exercicio_aula_6.ipynb",
      "provenance": [],
      "authorship_tag": "ABX9TyOd+Ue7AuiMEQOdi4B6G6wv",
      "include_colab_link": true
    },
    "kernelspec": {
      "name": "python3",
      "display_name": "Python 3"
    },
    "language_info": {
      "name": "python"
    }
  },
  "cells": [
    {
      "cell_type": "markdown",
      "metadata": {
        "id": "view-in-github",
        "colab_type": "text"
      },
      "source": [
        "<a href=\"https://colab.research.google.com/github/jao11/topicos_iv/blob/main/exercicio_aula_6.ipynb\" target=\"_parent\"><img src=\"https://colab.research.google.com/assets/colab-badge.svg\" alt=\"Open In Colab\"/></a>"
      ]
    },
    {
      "cell_type": "markdown",
      "metadata": {
        "id": "Fq2eWlnFR728"
      },
      "source": [
        "AULA 6"
      ]
    },
    {
      "cell_type": "markdown",
      "metadata": {
        "id": "xQq6C6oWSV8J"
      },
      "source": [
        "1. Considere o seguinte script:\n",
        "import turtle\n",
        "\n",
        "* def draw_bar(t, height):\n",
        "    * \"\"\" Get turtle t to draw one bar, of height. \"\"\"\n",
        "    * t.left(90)\n",
        "    * t.forward(height)\n",
        "    * t.right(90)\n",
        "    * t.forward(40)\n",
        "    * t.right(90)\n",
        "    * t.forward(height)\n",
        "    * t.left(90)\n",
        "    * t.forward(10)\n",
        "    * #t.leftt(90)\n",
        "\n",
        "* tess = turtle.Turtle() #instanciação\n",
        "* jn = turtle.Screen()\n",
        "\n",
        "* tess.color(\"blue\")\n",
        "* jn.bgcolor(\"white\")\n",
        "* tess.penup() #levantar a caneta\n",
        "* tess.goto(-200,-150) #mudar posicao de inicio \n",
        "* tess.pendown() #abaixar a caneta\n",
        "\n",
        "* xs = [48,117,200,240,160,260,220]\n",
        "\n",
        "* for a in xs:\n",
        "*     draw_bar(tess, a)\n",
        "\n",
        "Modifique-o para que o resultado seja um **histograma**, como o mostrado na figura abaixo.\n",
        "Amplie seu script para que seja possível passar ao programa dados (frequência), com o valor do bin (classe de frequência) e cores determinados pelo usuário.\n",
        "\n",
        "\n",
        "Adicione declarações condicionais à função para casos passíveis de gerar erros, como por exemplo, se alguma variável do argumento da função não for definida.\n",
        "\n",
        "***Exemplo***: Generalize sua função para tomar como argumento uma lista que contenha as frequências do histograma e verifique que o argumento realmente é uma lista. Caso não seja, imprima uma mensagem de erro.\n",
        "\n",
        "![](https://raw.githubusercontent.com/malbouis/Python_intro/master/aulas_2019/pics/histo.png)\n"
      ]
    },
    {
      "cell_type": "code",
      "metadata": {
        "id": "xc_ZdlhIR1HZ"
      },
      "source": [
        "import turtle\n",
        "\n",
        "def histograma(t, height, bin, n1, n2):\n",
        "  jn = turtle.Screen()\n",
        "  jn.bgcolor('white')\n",
        "  t.pensize(1)\n",
        "  t.pencolor(n1)\n",
        "  t.fillcolor(n2)\n",
        "  t.begin_fill()\n",
        "  t.left(90)\n",
        "  t.forward(height)\n",
        "  t.write(\" \"+ str(height))\n",
        "  t.right(90)\n",
        "  t.forward(bin + 10)\n",
        "  t.right(90)\n",
        "  t.forward(height)\n",
        "  t.left(90)\n",
        "  t.end_fill()\n",
        "  t.hideturtle()\n",
        "  jn.mainloop()\n",
        "\n",
        "\n",
        "n1 = str(input('Digite uma cor em inglês para a linha do histograma:'))\n",
        "n2 = str(input('Digite mais uma cor em inglês para o preenchimento do histograma:'))\n",
        "hist = turtle.Turtle()\n",
        "xs = input('Digite sua lista separada por espaços:')\n",
        "list = xs.split()\n",
        "list1 = [int(i) for i in list]\n",
        "bin = int(input('Diga a largura da coluna do seu histograma: '))\n",
        "\n",
        "for a in list1:\n",
        "    histograma(hist, a, bin, n1, n2)"
      ],
      "execution_count": null,
      "outputs": []
    },
    {
      "cell_type": "markdown",
      "metadata": {
        "id": "uo1TnujLUfwE"
      },
      "source": [
        "2) Repita o exercício 1) usando **Manipulação de exceção em Python** (pesquisem!!!!), com as cláusulas ```try``` e ```except```.  <=== **A ser apresentado em sala de aula**."
      ]
    },
    {
      "cell_type": "code",
      "metadata": {
        "id": "4xkiqGT1Ug2v"
      },
      "source": [
        "import turtle\n",
        "\n",
        "def coluna(t, height, bin, n1, n2):\n",
        "    jn = turtle.Screen()\n",
        "    jn.bgcolor('white')\n",
        "    t.pensize(1)\n",
        "    t.pencolor(n1)\n",
        "    t.fillcolor(n2)\n",
        "    t.begin_fill()\n",
        "    t.left(90)\n",
        "    t.forward(height)\n",
        "    t.write(\" \"+ str(height))\n",
        "    t.right(90)\n",
        "    t.forward(bin + 10)\n",
        "    t.right(90)\n",
        "    t.forward(height)\n",
        "    t.left(90)\n",
        "    t.end_fill()\n",
        "    t.hideturtle()\n",
        "    jn.mainloop()\n",
        "\n",
        "\n",
        "def histograma():\n",
        "  listcolors = ('white', 'white smoke', 'gainsboro', 'light gray', 'silver', 'dark gray', 'gray', 'dim gray', 'black', 'light slate gray', \n",
        "  'slate gray', 'alice blue', 'light steel blue', 'cornflower blue', 'royal blue', 'blue', 'medium blue', 'navy', 'dark blue', 'midnight blue', \n",
        "  'light blue', 'deep sky blue', 'dodger blue', 'powder blue', 'sky blue', 'light sky blue', 'steel blue', 'azure', 'light cyan', 'cyan', \n",
        "  'pale turquoise', 'dark turquoise', 'turquoise', 'medium turquoise','light sea green', 'cadet blue', 'dark cyan', 'teal', 'dark slate gray', \n",
        "  'mint cream', 'aquamarine', 'medium aquamarine', 'dark sea green', 'medium sea green', 'sea green', 'honeydew', 'pale green', 'light green', \n",
        "  'medium spring green', 'spring green', 'lime green', 'green', 'forest green', 'dark green', 'green yellow', 'chartreuse', 'lawn green', \n",
        "  'lime', 'yellow green', 'olive drab', 'beige', 'dark khaki', 'olive', 'dark olive green', 'pale goldenrod', 'khaki', 'ivory', 'light yellow', \n",
        "  'light goldenrod yellow', 'cornsilk', 'lemon chiffon', 'yellow', 'gold', 'goldenrod', 'dark goldenrod', 'wheat', 'tan', 'burlywood', 'peru', \n",
        "  'sienna', 'saddle brown', 'floral white', 'old lace', 'navajo white', 'moccasin', 'sandy brown', 'orange', 'dark orange', 'chocolate', \n",
        "  'firebrick', 'brown', 'dark red', 'maroon', 'antique white', 'papaya whip', 'blanched almond', 'bisque', 'peach puff', 'light salmon', \n",
        "  'coral', 'tomato', 'orange red', 'red', 'crimson', 'dark salmon', 'salmon', 'light coral', 'indian red', 'rosy brown', 'linen', 'seashell', \n",
        "  'misty rose', 'pink', 'light pink', 'hot pink', 'deep pink', 'snow', 'lavender blush', 'pale violet red', 'violet red', 'medium violet red',\n",
        "  'purple', 'dark magenta', 'violet', 'magenta', 'thistle', 'plum', 'orchid', 'medium orchid', 'dark orchid', 'dark violet', 'blue violet', \n",
        "  'medium purple', 'rebecca purple', 'indigo', 'ghost white', 'lavender', 'light slate blue', 'medium slate blue', 'slate blue', \n",
        "  'dark slate blue')\n",
        "  try:\n",
        "    n1 = str(input('Digite uma cor em inglês para a linha do histograma:'))\n",
        "    n2 = str(input('Digite mais uma cor em inglês para o preenchimento do histograma:'))\n",
        "    if (n1 and n2) in listcolors:\n",
        "      hist = turtle.Turtle()\n",
        "      xs = input('Digite sua lista separada por espaços:')\n",
        "      list = xs.split()\n",
        "      list1 = [int(i) for i in list]\n",
        "      bin = int(input('Diga a largura da coluna do seu histograma: '))\n",
        "      for a in list1:\n",
        "        coluna(hist, a, bin, n1, n2)\n",
        "    else:\n",
        "      print('Existe algum erro: O nome da cor não consta nos arquivos.')\n",
        "  except Exception as erro:\n",
        "    print('Existe algum erro:', erro)\n",
        "\n",
        "histograma()\n"
      ],
      "execution_count": null,
      "outputs": []
    },
    {
      "cell_type": "markdown",
      "metadata": {
        "id": "DwIIbRWZUhaI"
      },
      "source": [
        "3) **Desafio**: Faça um programa equivalente ao do item 1., utilizando ***matplotlib*** e ***numpy*** ao invés de ***turtle***"
      ]
    },
    {
      "cell_type": "code",
      "metadata": {
        "id": "zTdOTtckUlbZ",
        "colab": {
          "base_uri": "https://localhost:8080/",
          "height": 279
        },
        "outputId": "3e4de262-9fdb-4676-d056-4f380c70a954"
      },
      "source": [
        "#import random\n",
        "import numpy as np\n",
        "import matplotlib.pyplot as plt\n",
        "\n",
        "# x = np.random.randint(1,1001, (100))         # Criar uma lista com 100 números\n",
        "\n",
        "%matplotlib inline\n",
        "np.random.seed(42)\n",
        "x = np.random.normal(size=1000)                # Cria uma lista normalizada\n",
        "#x = [48,117,200,240,160,260,220]              # Lista do exemplo\n",
        "plt.hist(x, bins=10)  \n",
        "plt.ylabel('Coluna')\n",
        "plt.xlabel('Linha');"
      ],
      "execution_count": 37,
      "outputs": [
        {
          "output_type": "display_data",
          "data": {
            "image/png": "[encoded data removed]",
            "text/plain": [
              "<Figure size 432x288 with 1 Axes>"
            ]
          },
          "metadata": {
            "needs_background": "light"
          }
        }
      ]
    }
  ]
}
