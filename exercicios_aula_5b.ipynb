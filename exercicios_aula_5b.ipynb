{
  "nbformat": 4,
  "nbformat_minor": 0,
  "metadata": {
    "colab": {
      "name": "exercicio_aula_5b.ipynb",
      "provenance": [],
      "authorship_tag": "ABX9TyOR7guhE8Tn4woeMVCow3BA",
      "include_colab_link": true
    },
    "kernelspec": {
      "name": "python3",
      "display_name": "Python 3"
    },
    "language_info": {
      "name": "python"
    }
  },
  "cells": [
    {
      "cell_type": "markdown",
      "metadata": {
        "id": "view-in-github",
        "colab_type": "text"
      },
      "source": [
        "<a href=\"https://colab.research.google.com/github/jao11/topicos_iv/blob/main/exercicio_aula_5b.ipynb\" target=\"_parent\"><img src=\"https://colab.research.google.com/assets/colab-badge.svg\" alt=\"Open In Colab\"/></a>"
      ]
    },
    {
      "cell_type": "markdown",
      "metadata": {
        "id": "rdKjuA5MKlLZ"
      },
      "source": [
        "AULA 5b"
      ]
    },
    {
      "cell_type": "markdown",
      "metadata": {
        "id": "3cGbS0erKv-D"
      },
      "source": [
        "## Exercícios - Parte 1:\n"
      ]
    },
    {
      "cell_type": "markdown",
      "metadata": {
        "id": "H8fF2lkVumJN"
      },
      "source": [
        "1. [**Não é possível fazer no Google Colab. Faça no trinket!**] Imprima o tipo de objeto que é uma tartaruga"
      ]
    },
    {
      "cell_type": "code",
      "metadata": {
        "id": "GYdE5cIHKMdt"
      },
      "source": [
        "import turtle\n",
        "\n",
        "tartaruga = turtle.Turtle()\n",
        "print(type(tartaruga))"
      ],
      "execution_count": null,
      "outputs": []
    },
    {
      "cell_type": "markdown",
      "metadata": {
        "id": "6PYoDwXCwdvD"
      },
      "source": [
        "2. [**Não é possível fazer no Google Colab. Faça no trinket!**] Modifique o programa da tartaruga (primeiro exemplo) para que, antes de criar a janela, ele solicite que o usuário insira a cor de fundo desejada. Ele deve armazenar as respostas do usuário em uma variável e modificar a cor da janela de acordo com os desejos do usuário. \n",
        "   * ***Dicas***: faça uso da função ***input***, built-in do python\n",
        "   * você pode encontrar uma lista de nomes de cores permitidos em http://www.tcl.tk/man/tcl8.4/TkCmd/colors.htm. Inclui alguns bem incomuns, como “peach puff” e “HotPink” ”***"
      ]
    },
    {
      "cell_type": "code",
      "metadata": {
        "id": "J2_61CguwkB7"
      },
      "source": [
        "import turtle             \n",
        "\n",
        "x = input('Digite a cor de fundo desejada:')\n",
        "jn = turtle.Screen()      \n",
        "\n",
        "jn.bgcolor(x)                            # Muda a cor do plano de fundo\n",
        "\n",
        "joana = turtle.Turtle()    \n",
        "\n",
        "joana.forward(50)          \n",
        "joana.left(90)             \n",
        "joana.forward(30)          \n",
        "\n",
        "jn.mainloop()             "
      ],
      "execution_count": null,
      "outputs": []
    },
    {
      "cell_type": "markdown",
      "metadata": {
        "id": "OPVZWJ8N0DAC"
      },
      "source": [
        "3. Faça modificações similares para permitir que o usuário mude a cor da tartaruga durante a execução do programa.\n",
        "   1. Faça o mesmo para a largura da caneta da tartaruga. *Dica: seu diálogo com o usuário retornará uma string, mas o método ```pensize``` ( ```width``` no Google Colab) espera que seu argumento seja um **int**. Então, você precisará converter a **string** em um **int** antes de passá-la para **pensize**.* "
      ]
    },
    {
      "cell_type": "code",
      "metadata": {
        "id": "H-4WpBNj0PJI"
      },
      "source": [
        "import turtle            \n",
        "\n",
        "y = input('Insira a cor de sua tartaruga:')\n",
        "jn = turtle.Screen()      \n",
        "joana = turtle.Turtle()    \n",
        "joana.color(y)                 # Muda a cor da tartaruga\n",
        "\n",
        "w = int(input('Coloque a grossura do seu traço:'))\n",
        "joana.pensize(w)               # Ajusta a grossura do traço\n",
        "\n",
        "joana.forward(50)          \n",
        "joana.left(90)             \n",
        "joana.forward(30)\n",
        "\n",
        "jn.mainloop()"
      ],
      "execution_count": null,
      "outputs": []
    },
    {
      "cell_type": "markdown",
      "metadata": {
        "id": "ktk8M0Dn0D7q"
      },
      "source": [
        "4. Investiguem os métodos e atributos do módulo ```turtle```  (```ColabTurtle``` no Google Colab);"
      ]
    },
    {
      "cell_type": "code",
      "metadata": {
        "id": "VHVNA_-30Vxf",
        "colab": {
          "base_uri": "https://localhost:8080/"
        },
        "outputId": "782e8aef-96af-4fa2-f4b4-1c0b6c159e62"
      },
      "source": [
        "!pip install colabturtle"
      ],
      "execution_count": 2,
      "outputs": [
        {
          "output_type": "stream",
          "name": "stdout",
          "text": [
            "Requirement already satisfied: colabturtle in /usr/local/lib/python3.7/dist-packages (2.1.0)\n"
          ]
        }
      ]
    },
    {
      "cell_type": "code",
      "metadata": {
        "id": "UKRbFIzfV-Yw",
        "colab": {
          "base_uri": "https://localhost:8080/",
          "height": 171
        },
        "outputId": "c7753332-ade8-4611-dcdd-530139fd6958"
      },
      "source": [
        ""
      ],
      "execution_count": 3,
      "outputs": [
        {
          "output_type": "error",
          "ename": "NameError",
          "evalue": "ignored",
          "traceback": [
            "\u001b[0;31m---------------------------------------------------------------------------\u001b[0m",
            "\u001b[0;31mNameError\u001b[0m                                 Traceback (most recent call last)",
            "\u001b[0;32m<ipython-input-3-6dfeb37abbd6>\u001b[0m in \u001b[0;36m<module>\u001b[0;34m()\u001b[0m\n\u001b[0;32m----> 1\u001b[0;31m \u001b[0mdir\u001b[0m\u001b[0;34m(\u001b[0m\u001b[0mteca\u001b[0m\u001b[0;34m)\u001b[0m\u001b[0;34m\u001b[0m\u001b[0;34m\u001b[0m\u001b[0m\n\u001b[0m",
            "\u001b[0;31mNameError\u001b[0m: name 'teca' is not defined"
          ]
        }
      ]
    },
    {
      "cell_type": "markdown",
      "metadata": {
        "id": "7q31v9xV0EZC"
      },
      "source": [
        "5. Desenhe um quadrado, usando a forma de tartaruga, ao invés da flecha, para desenhar (***caso esteja no Google Colab, não precisa mudar a forma***).\n",
        "   1. mude a velocidade com que a tartaruga faz o desenho."
      ]
    },
    {
      "cell_type": "code",
      "metadata": {
        "id": "KDHY2Y3F0dUh"
      },
      "source": [
        "import turtle\n",
        "\n",
        "def square(t):\n",
        "  jn = turtle.Screen()\n",
        "  for x in range(4):\n",
        "    t.forward(100)\n",
        "    t.right(90)\n",
        "  jn.mainloop()  \n",
        "\n",
        "\n",
        "joana = turtle.Turtle()\n",
        "joana.shape('turtle')           # Muda a forma de seta para uma tartaruga\n",
        "\n",
        "z = int(input('Entre com um velocidade entre 1 e 10:'))\n",
        "joana.speed(z)                  # Muda a velocidade da tartaruga\n",
        "\n",
        "square(joana)"
      ],
      "execution_count": null,
      "outputs": []
    },
    {
      "cell_type": "markdown",
      "metadata": {
        "id": "r7pCZB1y0E5G"
      },
      "source": [
        "6. Sabendo que o ângulo interno da ponta de uma estrela de 5 pontas é de 36 graus, desenhe uma estrela.\n",
        "![title](https://github.com/malbouis/Python_intro/blob/master/aulas_2019/pics/estrela.png?raw=1)"
      ]
    },
    {
      "cell_type": "code",
      "metadata": {
        "id": "NbwJvHag0lQi"
      },
      "source": [
        "import turtle\n",
        "jn = turtle.Screen()\n",
        "o = turtle.Turtle()\n",
        "for i in range(5):\n",
        "    o.forward(50)\n",
        "    o.left(216)\n",
        "\n",
        "jn.mainloop()"
      ],
      "execution_count": null,
      "outputs": []
    },
    {
      "cell_type": "markdown",
      "metadata": {
        "id": "9VFXWUr_0FUd"
      },
      "source": [
        "7. Sabendo o ângulo interno da ponta de uma estrela, desenhe quatro estrelas em uma janela, com uma certa distância entre elas. Dica: use a função penup() e pendown() do módulo ```turtle```."
      ]
    },
    {
      "cell_type": "code",
      "metadata": {
        "id": "AGw83YiO0rDL"
      },
      "source": [
        "import turtle\n",
        "jn = turtle.Screen()\n",
        "a = turtle.Turtle()\n",
        "\n",
        "def estrela():\n",
        "  for x in range(5):\n",
        "      a.pendown()\n",
        "      a.forward(100)\n",
        "      a.right(144)\n",
        "  a.penup()\n",
        "  \n",
        "estrela()\n",
        "a.forward(110)\n",
        "estrela()\n",
        "a.forward(-220)\n",
        "estrela()\n",
        "a.forward(-110)\n",
        "estrela()\n",
        "\n",
        "jn.mainloop()"
      ],
      "execution_count": null,
      "outputs": []
    },
    {
      "cell_type": "markdown",
      "metadata": {
        "id": "TBui07JXw5LL"
      },
      "source": [
        "## Exercícios - Parte 2:"
      ]
    },
    {
      "cell_type": "markdown",
      "metadata": {
        "id": "8xDw1X4yw_s2"
      },
      "source": [
        "1. Escreva um conjunto apropriadamente geral de funções que possam desenhar flores como na Figura abaixo:\n",
        "![flowers](https://github.com/malbouis/Python_intro/blob/master/aulas_2019/pics/flowers.png?raw=1)"
      ]
    },
    {
      "cell_type": "code",
      "metadata": {
        "id": "2wHjrp1ww-q9"
      },
      "source": [
        "import turtle\n",
        "\n",
        "\n",
        "def petala(posx, posy, raio, angulo, cor):\n",
        "    \"\"\" Desenho de uma pétala.\"\"\"\n",
        "    # Atributos\n",
        "    turtle.penup()\n",
        "    turtle.goto(posx, posy)\n",
        "    turtle.pendown()\n",
        "              #turtle.fillcolor(cor)        \n",
        "              #turtle.begin_fill()\n",
        "    # Desenha\n",
        "    turtle.circle(raio, angulo)\n",
        "    turtle.setheading(turtle.heading() + 180 - angulo)\n",
        "    turtle.circle(raio, angulo)\n",
        "    turtle.setheading(turtle.heading() + 180 - angulo)\n",
        "    # Termina\n",
        "    #         turtle.end_fill()\n",
        "    turtle.hideturtle()\n",
        "\n",
        "\n",
        "def flor_geral(num_petalas, posx, posy, raio, angulo, cor):\n",
        "    \"\"\"Desenha uma flor.\"\"\"\n",
        "    for i in range(num_petalas):\n",
        "        petala(posx, posy, raio, angulo, cor)\n",
        "        turtle.right(360 / num_petalas)\n",
        "\n",
        "\n",
        "jn = turtle.Screen()\n",
        "flor_geral(9, 50, 50, 100, 60, 'white')\n",
        "jn.mainloop()\n"
      ],
      "execution_count": null,
      "outputs": []
    },
    {
      "cell_type": "markdown",
      "metadata": {
        "id": "26wq4syaxFZz"
      },
      "source": [
        "2. Escreva um conjunto apropriadamente geral de funções que podem desenhar formas como na figura:\n",
        "![shapes](https://github.com/malbouis/Python_intro/blob/master/aulas_2019/pics/shapes_turtle.png?raw=1)\n",
        "Veja mais exercícios em: http://greenteapress.com/thinkpython2/html/thinkpython2005.html#sec42\n",
        "e: http://dfnae.fis.uerj.br/twiki/bin/view/DFNAE/IntroPython#Aula_6"
      ]
    },
    {
      "cell_type": "code",
      "metadata": {
        "id": "PH_ZOLv5xHDN"
      },
      "source": [
        "import turtle\n",
        "\n",
        "jn = turtle.Screen()\n",
        "o = turtle.Turtle()\n",
        "\n",
        "for i in range(3):\n",
        "  o.forward(50)\n",
        "  o.right(120)\n",
        "  o.forward(50)\n",
        "  o.right(120)\n",
        "  o.forward(50)\n",
        "for i in range(3):\n",
        "  o.forward(50)\n",
        "  o.left(120)\n",
        "  o.forward(50)\n",
        "  o.left(120)\n",
        "  o.forward(50)\n",
        "jn.mainloop()\n"
      ],
      "execution_count": null,
      "outputs": []
    },
    {
      "cell_type": "markdown",
      "metadata": {
        "id": "ZrzBK71OxHvS"
      },
      "source": [
        "3. Adicione instruções para desenhar o talo e folha da flor. Faça a refatoração apropriada para a interface da flor completa ficar \"limpa\".\n"
      ]
    },
    {
      "cell_type": "code",
      "metadata": {
        "id": "LMuDpbyVxIg_"
      },
      "source": [
        "import turtle\n",
        "\n",
        "\n",
        "def petala(posx, posy, raio, angulo, cor):\n",
        "    \"\"\" Desenho de uma pétala.\"\"\"\n",
        "    # Atributos\n",
        "    turtle.speed(200)\n",
        "    turtle.pensize(1)\n",
        "    turtle.penup()\n",
        "    turtle.goto(posx, posy)\n",
        "    turtle.pendown()\n",
        "    turtle.fillcolor(cor)\n",
        "    turtle.begin_fill()\n",
        "    # Desenha\n",
        "    turtle.circle(raio, angulo)\n",
        "    turtle.setheading(turtle.heading() + 180 - angulo)\n",
        "    turtle.circle(raio, angulo)\n",
        "    turtle.setheading(turtle.heading() + 180 - angulo)\n",
        "    # Termina\n",
        "    turtle.end_fill()\n",
        "    turtle.hideturtle()\n",
        "\n",
        "\n",
        "def flor_geral(num_petalas, posx, posy, raio, angulo, cor):\n",
        "  talo()\n",
        "  \"\"\"Desenha uma flor.\"\"\"\n",
        "  for i in range(num_petalas):\n",
        "    petala(posx, posy, raio, angulo, cor)\n",
        "    turtle.right(360 / num_petalas)\n",
        "\n",
        "\n",
        "def talo():\n",
        "  ''' Começo da folha'''\n",
        "  turtle.pencolor('brown')\n",
        "  turtle.pencolor('green')\n",
        "  petala(0, 0, 100, 70, 'lightgreen')\n",
        "  ''' Fim folha'''\n",
        "  turtle.pensize(5)\n",
        "  turtle.pencolor('brown')\n",
        "  turtle.right (270)\n",
        "  turtle.fd (100)\n",
        "  turtle.left (180)\n",
        "  turtle.fd (200)\n",
        "  turtle.right (270)\n",
        "  '''Começo folha'''\n",
        "  turtle.pencolor('green')\n",
        "  turtle.pensize(1)\n",
        "  petala(0, -70, 100, -70, 'lightgreen')\n",
        "  '''Fim folha'''\n",
        "  turtle.pensize(5)\n",
        "  turtle.pencolor('brown')\n",
        "  turtle.right (90)\n",
        "  turtle.fd (60)\n",
        "  # Base de terra\n",
        "  turtle.fillcolor('brown')\n",
        "  turtle.begin_fill()\n",
        "  turtle.right (90)\n",
        "  turtle.circle (200,30)\n",
        "  turtle.circle(200,-60)\n",
        "  turtle.right(150)\n",
        "  turtle.fd(-200)\n",
        "  turtle.end_fill()\n",
        "  # Termina\n",
        "  turtle.penup()\n",
        "  turtle.home()\n",
        "  turtle.pencolor('black')\n",
        "\n",
        "\n",
        "jn = turtle.Screen()\n",
        "flor_geral(9, 0, 100, 100, 60, 'blue')\n",
        "jn.mainloop()"
      ],
      "execution_count": null,
      "outputs": []
    },
    {
      "cell_type": "markdown",
      "metadata": {
        "id": "bdaCdM1vxJIz"
      },
      "source": [
        "4. As letras do alfabeto podem ser construídas a partir de um número moderado de elementos básicos, como linhas verticais e horizontais e algumas curvas. Projete um alfabeto que possa ser desenhado com um número mínimo de elementos básicos e depois escreva funções que desenhem as letras.\n",
        "   1. Você deve escrever uma função para cada letra, com os nomes ```draw_a_```, ```_draw_b_```, etc., e colocar suas funções em um arquivo chamado ```letters.py```. Você pode baixar uma “turtle typewriter” de http://thinkpython2.com/code/typewriter.py para ajudá-lo a testar seu código.\n",
        "   1. Você pode obter uma solução em http://thinkpython2.com/code/letters.py; também requer http://thinkpython2.com/code/polygon.py."
      ]
    },
    {
      "cell_type": "code",
      "metadata": {
        "id": "wWEk4VSuxJ5z"
      },
      "source": [
        "from math import pi\n",
        "import turtle\n",
        "\n",
        "def polyline(t, n, length, angle):\n",
        "  for i in range(n):\n",
        "    t.forward(length)\n",
        "    t.right(angle)\n",
        "\n",
        "def arc(t, r, angle):\n",
        "  arc_length = 2 * pi * r * abs(angle) / 360\n",
        "  n = int(arc_length / 4) + 3\n",
        "  step_length = arc_length / n\n",
        "  step_angle = float(angle) / n\n",
        "\n",
        "  t.right(step_angle / 2)\n",
        "  polyline(t, n, step_length, step_angle)\n",
        "  t.left(step_angle / 2)\n",
        "\n",
        "def space(t, size):\n",
        "  t.penup()\n",
        "  t.right(90)\n",
        "  t.forward(10 * size)\n",
        "  t.left(90)\n",
        "  t.pendown()\n",
        "\n",
        "def line(t, size):\n",
        "  t.penup()\n",
        "  t.forward(38 * size)\n",
        "  t.pendown()\n",
        "\n",
        "def draw_a(t, size):\n",
        "  t.right(22)\n",
        "  t.forward(30 * size)\n",
        "  t.right(180 - 46)\n",
        "  t.forward(30 * size)\n",
        "  t.right(180)\n",
        "  t.forward(15 * size)\n",
        "  t.left(90 - 23)\n",
        "  t.forward(10 * size)\n",
        "  t.forward(-10 * size)\n",
        "  t.left(-90 + 23)\n",
        "  t.forward(-15 * size)\n",
        "  t.right(24)\n",
        "  space(t, size)\n",
        "\n",
        "def draw_b(t, size):\n",
        "  t.forward(28 * size)\n",
        "  t.right(90)\n",
        "  t.forward(13 * size)\n",
        "  arc(t, 7 * size, 180)\n",
        "  t.forward(13 * size)\n",
        "  t.right(180)\n",
        "  t.forward(13 * size)\n",
        "  arc(t, 7 * size, 180)\n",
        "  t.forward(13 * size)\n",
        "  t.right(180)\n",
        "  t.penup()\n",
        "  t.forward(20 * size)\n",
        "  t.left(90)\n",
        "  space(t, size)\n",
        "\n",
        "def draw_c(t, size):\n",
        "  t.penup()\n",
        "  t.right(90)\n",
        "  t.forward(20 * size)\n",
        "  t.pendown()\n",
        "  t.left(180)\n",
        "  t.forward(6 * size)\n",
        "  arc(t, 14 * size, 180)\n",
        "  t.forward(6 * size)\n",
        "  t.penup()\n",
        "  t.left(90)\n",
        "  t.forward(-28 * size)\n",
        "  space(t, size)\n",
        "\n",
        "def draw_d(t, size):\n",
        "  t.forward(28 * size)\n",
        "  t.right(90)\n",
        "  t.forward(6 * size)\n",
        "  arc(t, 14 * size, 180)\n",
        "  t.forward(6 * size)\n",
        "  t.penup()\n",
        "  t.forward(-20 * size)\n",
        "  t.right(90)\n",
        "  space(t, size)\n",
        "\n",
        "def draw_e(t, size):\n",
        "  t.right(90)\n",
        "  t.forward(20 * size)\n",
        "  t.forward(-20 * size)\n",
        "  t.left(90)\n",
        "  t.forward(14 * size)\n",
        "  t.right(90)\n",
        "  t.forward(16 * size)\n",
        "  t.forward(-16 * size)\n",
        "  t.left(90)\n",
        "  t.forward(14 * size)\n",
        "  t.right(90)\n",
        "  t.forward(20 * size)\n",
        "  t.left(90)\n",
        "  t.penup()\n",
        "  t.forward(-28 * size)\n",
        "  space(t, size)\n",
        "\n",
        "def draw_f(t, size):\n",
        "  t.forward(14 * size)\n",
        "  t.right(90)\n",
        "  t.forward(16 * size)\n",
        "  t.forward(-16 * size)\n",
        "  t.left(90)\n",
        "  t.forward(14 * size)\n",
        "  t.right(90)\n",
        "  t.forward(20 * size)\n",
        "  t.left(90)\n",
        "  t.penup()\n",
        "  t.forward(-28 * size)\n",
        "  space(t, size)\n",
        "\n",
        "def draw_g(t, size):\n",
        "  t.penup()\n",
        "  t.forward(18 * size)\n",
        "  t.pendown()\n",
        "  arc(t, 10 * size, 160)\n",
        "  t.right(180)\n",
        "  arc(t, 10 * size, -160)\n",
        "  t.forward(8 * size)\n",
        "  arc(t, 10 * size, -180)\n",
        "  t.forward(4 * size)\n",
        "  t.left(90)\n",
        "  t.forward(10 * size)\n",
        "  t.penup()\n",
        "  t.forward(-10 * size)\n",
        "  t.right(90)\n",
        "  t.forward(-14 * size)\n",
        "  space(t, size)\n",
        "\n",
        "def draw_h(t, size):\n",
        "  t.forward(70)\n",
        "  t.penup()\n",
        "  t.goto(0, 35)\n",
        "  t.pendown()\n",
        "  t.right(90)\n",
        "  t.forward(30)\n",
        "  t.penup()\n",
        "  t.goto(30, 70)\n",
        "  t.pendown()\n",
        "  t.right(90)\n",
        "  t.forward(70)\n",
        "  space(t, size)\n",
        "\n",
        "def draw_i(t, size):\n",
        "  space(t, size)\n",
        "\n",
        "def draw_j(t, size):\n",
        "  space(t, size)\n",
        "\n",
        "def draw_k(t, size):\n",
        "  space(t, size)\n",
        "\n",
        "def draw_l(t, size):\n",
        "  t.left()\n",
        "  t.goto(90, 70)\n",
        "  t.pendown()\n",
        "  t.right(90)\n",
        "  t.forward(70)\n",
        "  t.left(90)\n",
        "  t.forward(35)\n",
        "  space(t, size)\n",
        "\n",
        "def draw_m(t, size):\n",
        "  space(t, size)\n",
        "\n",
        "def draw_n(t, size):\n",
        "  space(t, size)\n",
        "\n",
        "def draw_o(t, size):\n",
        "  space(t, size)\n",
        "\n",
        "def draw_p(t, size):\n",
        "  space(t, size)\n",
        "\n",
        "def draw_q(t, size):\n",
        "  space(t, size)\n",
        "\n",
        "def draw_r(t, size):\n",
        "  space(t, size)\n",
        "\n",
        "def draw_s(t, size):\n",
        "  space(t, size)\n",
        "\n",
        "def draw_t(t, size):\n",
        "  space(t, size)\n",
        "\n",
        "\n",
        "jn = turtle.Screen()\n",
        "t = turtle.Turtle()\n",
        "\n",
        "t.left(90)\n",
        "#draw_a(t, 2)\n",
        "#draw_b(t, 2)\n",
        "#draw_c(t, 2)\n",
        "#draw_d(t, 2)\n",
        "#draw_e(t, 2)\n",
        "#draw_f(t, 2)\n",
        "#draw_g(t, 2)\n",
        "#draw_h(t, 2)\n",
        "#draw_l(t, 2)\n",
        "t.hideturtle()"
      ],
      "execution_count": null,
      "outputs": []
    },
    {
      "cell_type": "markdown",
      "metadata": {
        "id": "vyt874isxLVG"
      },
      "source": [
        "5. Leia sobre espirais em http://en.wikipedia.org/wiki/Spiral; em seguida, escreva um programa que desenhe uma espiral arquimediana (ou um dos outros tipos). Solução: http://thinkpython2.com/code/spiral.py."
      ]
    },
    {
      "cell_type": "code",
      "metadata": {
        "id": "c9ILla3cxL4O"
      },
      "source": [
        "import turtle\n",
        "from math import pi\n",
        "\n",
        "def polyline(t, n, length, angle):\n",
        "  for i in range(n):\n",
        "    t.forward(length)\n",
        "    t.right(angle)\n",
        "\n",
        "def arc(t, r, angle):\n",
        "  arc_length = 2 * pi * r * abs(angle) / 360\n",
        "  n = int(arc_length / 4) + 3\n",
        "  step_length = arc_length / n\n",
        "  step_angle = float(angle) / n\n",
        "\n",
        "  t.right(step_angle / 2)\n",
        "  polyline(t, n, step_length, step_angle)\n",
        "  t.left(step_angle / 2)\n",
        "\n",
        "def fibonacciSpiral(t, r, loops):\n",
        "  angle = loops * 360\n",
        "  fibonacci = 1 + 2 / 3\n",
        "  for i in range(loops):\n",
        "    for j in range(4):\n",
        "      arc(t, int(r), 90)\n",
        "      r *= fibonacci\n",
        "\n",
        "window = turtle.Turtle()\n",
        "window.speed(13)\n",
        "fibonacciSpiral(window, 4, 3)"
      ],
      "execution_count": null,
      "outputs": []
    }
  ]
}
