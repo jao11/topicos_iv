{
  "nbformat": 4,
  "nbformat_minor": 0,
  "metadata": {
    "colab": {
      "name": "exercicios_aula_4.ipynb",
      "provenance": [],
      "authorship_tag": "ABX9TyNLLbvJxHUcc4ccYI6RH+9L",
      "include_colab_link": true
    },
    "kernelspec": {
      "name": "python3",
      "display_name": "Python 3"
    },
    "language_info": {
      "name": "python"
    }
  },
  "cells": [
    {
      "cell_type": "markdown",
      "metadata": {
        "id": "view-in-github",
        "colab_type": "text"
      },
      "source": [
        "<a href=\"https://colab.research.google.com/github/jao11/topicos_iv/blob/main/exercicios_aula_4.ipynb\" target=\"_parent\"><img src=\"https://colab.research.google.com/assets/colab-badge.svg\" alt=\"Open In Colab\"/></a>"
      ]
    },
    {
      "cell_type": "markdown",
      "metadata": {
        "id": "pRq3H0ZbyrVz"
      },
      "source": [
        "AULA 4"
      ]
    },
    {
      "cell_type": "markdown",
      "metadata": {
        "id": "5E0eJiULyzTC"
      },
      "source": [
        "1. Escreva uma função com um valor de retorno que:\n",
        "      * tome como _input_ dois argumentos;\n",
        "      * execute a soma dos dois parâmetros que foram passados como argumento e atribua o resultado a uma variável;\n",
        "      * tenha como valor de retorno o dobro da soma dos dois parâmetros."
      ]
    },
    {
      "cell_type": "code",
      "metadata": {
        "colab": {
          "base_uri": "https://localhost:8080/"
        },
        "id": "IVrhkjPMr2UZ",
        "outputId": "aa4b0a8a-9ff1-4e1a-a0a0-5176679ee6a6"
      },
      "source": [
        "def dobro_soma(x, y):\n",
        "  z = x + y\n",
        "  print('O dobro da soma desses dois números é', 2 * z,'.')\n",
        "\n",
        "dobro_soma(5, 5)"
      ],
      "execution_count": 1,
      "outputs": [
        {
          "output_type": "stream",
          "text": [
            "O dobro da soma desses dois números é 20 .\n"
          ],
          "name": "stdout"
        }
      ]
    },
    {
      "cell_type": "markdown",
      "metadata": {
        "id": "xFDfF-M80F1W"
      },
      "source": [
        " 2. Um objeto de função é um valor que você pode atribuir a uma variável ou passar como um argumento. Por exemplo, ```do_twice``` é uma função que usa um objeto de função como argumento e o chama duas vezes:\n",
        "    *  def do_twice (f): \n",
        "        *  f () \n",
        "        *  f ()\n",
        "\n",
        "*  Aqui está um exemplo que usa ```do_twice``` para chamar uma função chamada ```print_spam``` duas vezes.\n",
        "    *  def print_spam (): \n",
        "        *  print('spam') \n",
        "\n",
        "    *  do_twice (print_spam)\n",
        "*  Para este exercício :\n",
        "\n",
        "  a. Digite este exemplo em um script e teste-o.\n",
        "\n",
        "  b. Modifique ```do_twice``` para que sejam necessários dois argumentos, um objeto de função ``f`` e um valor ``x``, e chame a função duas vezes, passando o valor como um argumento.\n",
        "\n",
        "  c. Escreva uma versão mais geral de ```print_spam```, chamada ```print_twice```, que use uma _string_ como parâmetro e imprima duas vezes.\n",
        "\n",
        "  d. Use a versão modificada (no item b) de ``` do_twice``` para chamar ```print_twice``` duas vezes, passando ```'spam'``` como um argumento.\n",
        "\n",
        "  e. Defina uma nova função chamada ```do_four``` que recebe um objeto de função e um valor e chama a função ___quatro___ vezes, passando o valor como um parâmetro. Deve haver apenas duas declarações no corpo desta função, e não quatro."
      ]
    },
    {
      "cell_type": "markdown",
      "metadata": {
        "id": "ntlyzqdz1sG5"
      },
      "source": [
        "A."
      ]
    },
    {
      "cell_type": "code",
      "metadata": {
        "colab": {
          "base_uri": "https://localhost:8080/"
        },
        "id": "2JAlnvwfzuOp",
        "outputId": "eccb44cc-8d9d-4e52-97fd-4d20fb73e1bf"
      },
      "source": [
        "def do_twicea (f): \n",
        "    f () \n",
        "    f ()\n",
        "def print_spam (): \n",
        "    print('spam') \n",
        "\n",
        "do_twicea (print_spam)"
      ],
      "execution_count": 2,
      "outputs": [
        {
          "output_type": "stream",
          "text": [
            "spam\n",
            "spam\n"
          ],
          "name": "stdout"
        }
      ]
    },
    {
      "cell_type": "markdown",
      "metadata": {
        "id": "69I5Dhr71vhH"
      },
      "source": [
        "B."
      ]
    },
    {
      "cell_type": "code",
      "metadata": {
        "colab": {
          "base_uri": "https://localhost:8080/"
        },
        "id": "Hsm-84PP2P4P",
        "outputId": "8d3678f3-8006-491c-b711-ecd8f0184df9"
      },
      "source": [
        "def do_twiceb (f, x): \n",
        "    f (x) \n",
        "    f (x)\n",
        "\n",
        "do_twiceb(print, 'w')"
      ],
      "execution_count": 3,
      "outputs": [
        {
          "output_type": "stream",
          "text": [
            "w\n",
            "w\n"
          ],
          "name": "stdout"
        }
      ]
    },
    {
      "cell_type": "markdown",
      "metadata": {
        "id": "bAPse-8t4otm"
      },
      "source": [
        "C."
      ]
    },
    {
      "cell_type": "code",
      "metadata": {
        "colab": {
          "base_uri": "https://localhost:8080/"
        },
        "id": "VkLlAMRH4rCT",
        "outputId": "e0417dab-b512-4c87-8f5f-198cbe46eef6"
      },
      "source": [
        "def print_twice (f):\n",
        "     print(f)\n",
        "     print(f)\n",
        " \n",
        "print_twice('w')"
      ],
      "execution_count": 11,
      "outputs": [
        {
          "output_type": "stream",
          "text": [
            "w\n",
            "w\n"
          ],
          "name": "stdout"
        }
      ]
    },
    {
      "cell_type": "markdown",
      "metadata": {
        "id": "3DJdiXd723CN"
      },
      "source": [
        "D."
      ]
    },
    {
      "cell_type": "code",
      "metadata": {
        "colab": {
          "base_uri": "https://localhost:8080/"
        },
        "id": "Roegrets1psc",
        "outputId": "bcc79e6e-0aca-4b09-a7dd-d5563bdd8513"
      },
      "source": [
        "def do_twice(f,x):\n",
        "\tf(x)\n",
        "\tf(x)\n",
        " \n",
        "def print_twice(k):\n",
        "\tprint(k)\n",
        "\tprint(k)\n",
        " \n",
        "do_twice(print_twice,'spam')"
      ],
      "execution_count": 12,
      "outputs": [
        {
          "output_type": "stream",
          "text": [
            "spam\n",
            "spam\n",
            "spam\n",
            "spam\n"
          ],
          "name": "stdout"
        }
      ]
    },
    {
      "cell_type": "markdown",
      "metadata": {
        "id": "nE7OEFvE6mCw"
      },
      "source": [
        "E."
      ]
    },
    {
      "cell_type": "code",
      "metadata": {
        "colab": {
          "base_uri": "https://localhost:8080/"
        },
        "id": "iXBWKWox14Rd",
        "outputId": "87543812-c838-44d6-9fd0-31e8e7ff0138"
      },
      "source": [
        "def do_four (f,g):\n",
        "    f(g, g, g, g)\n",
        "    \n",
        "do_four(print, 'W')"
      ],
      "execution_count": 29,
      "outputs": [
        {
          "output_type": "stream",
          "text": [
            "W W W W\n"
          ],
          "name": "stdout"
        }
      ]
    },
    {
      "cell_type": "code",
      "metadata": {
        "id": "AvaH5BuRrHhv"
      },
      "source": [
        ""
      ],
      "execution_count": null,
      "outputs": []
    }
  ]
}