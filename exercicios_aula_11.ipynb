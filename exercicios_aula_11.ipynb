{
  "nbformat": 4,
  "nbformat_minor": 0,
  "metadata": {
    "colab": {
      "name": "exercicios_aula_11.ipynb",
      "provenance": [],
      "authorship_tag": "ABX9TyPmUvz1RzKAZmqWUlxNJt0G",
      "include_colab_link": true
    },
    "kernelspec": {
      "name": "python3",
      "display_name": "Python 3"
    },
    "language_info": {
      "name": "python"
    }
  },
  "cells": [
    {
      "cell_type": "markdown",
      "metadata": {
        "id": "view-in-github",
        "colab_type": "text"
      },
      "source": [
        "<a href=\"https://colab.research.google.com/github/jao11/topicos_iv/blob/main/exercicios_aula_11.ipynb\" target=\"_parent\"><img src=\"https://colab.research.google.com/assets/colab-badge.svg\" alt=\"Open In Colab\"/></a>"
      ]
    },
    {
      "cell_type": "markdown",
      "metadata": {
        "id": "jMedQl2QvSmW"
      },
      "source": [
        "AULA 11"
      ]
    },
    {
      "cell_type": "markdown",
      "metadata": {
        "id": "V7xVphksvaQU"
      },
      "source": [
        "## Exercícios"
      ]
    },
    {
      "cell_type": "markdown",
      "metadata": {
        "id": "IezVfgIWvsuZ"
      },
      "source": [
        "1. Utilizando dicionários e o método `get` dos dicionários, contrua a seguinte matriz em Python e acesse os valores de índices (0,3), (2,1), (4,3) e (2,2).\n",
        "![matrix](https://github.com/malbouis/Python_intro/blob/master/aulas_2019/pics/matrix_aula12.png?raw=1)"
      ]
    },
    {
      "cell_type": "code",
      "metadata": {
        "id": "ROjoU0B6vLkl",
        "colab": {
          "base_uri": "https://localhost:8080/"
        },
        "outputId": "1c99176b-0fb5-49d2-dc67-5805c76adaf0"
      },
      "source": [
        "matriz = {}\n",
        "for i in range(5):\n",
        "  for j in range(5):\n",
        "    matriz[(i, j)] = 0\n",
        "    if i == 0 and j == 3:\n",
        "      matriz[(i, j)] = 1\n",
        "    elif i == 2 and j == 1:\n",
        "      matriz[(i, j)] = 2\n",
        "    elif i == 4 and j == 3:\n",
        "      matriz[(i, j)] = 3\n",
        "\n",
        "\n",
        "matriz.get((0, 3)), matriz.get((2, 1)), matriz.get((4, 3)), matriz.get((2, 2))"
      ],
      "execution_count": null,
      "outputs": [
        {
          "output_type": "execute_result",
          "data": {
            "text/plain": [
              "(1, 2, 3, 0)"
            ]
          },
          "metadata": {},
          "execution_count": 18
        }
      ]
    },
    {
      "cell_type": "markdown",
      "metadata": {
        "id": "jWP9C3c5vu52"
      },
      "source": [
        "2. Contagem de Letras. \n",
        "\n",
        "  a.  Utilizando dicionários, escreva uma função que tome como argumento uma palavra (string) e  retorne um dicionário que tenha como ***key*** cada  letra da  palavra e como ***valor*** o número de vezes que ela aparece na palavra. Tal dicionário é chamado de **tabela de frequência**. ***Dica***: Utilize novamente o método `get` dos dicionários.\n",
        "\n",
        "  b.  Utilizando os métodos `sort` (referente a listas) e `items` (referente a dicionários), imprima na tela uma lista ordenada alfabeticamente da tabela de frequência obtida no item a."
      ]
    },
    {
      "cell_type": "markdown",
      "metadata": {
        "id": "BV85WzN9RZqx"
      },
      "source": [
        "A)"
      ]
    },
    {
      "cell_type": "code",
      "metadata": {
        "id": "BNtEl0tQwa3z",
        "colab": {
          "base_uri": "https://localhost:8080/"
        },
        "outputId": "e8c637ab-b4e2-4b11-bb90-71334993b91f"
      },
      "source": [
        "def letra_por_letra(palavra):\n",
        "  letras = {}\n",
        "  for i in palavra.upper():\n",
        "    if i in letras:\n",
        "      letras[i] += 1\n",
        "    else:\n",
        "      letras[i] = 1\n",
        "  return letras\n",
        "\n",
        "letra_por_letra('choro')"
      ],
      "execution_count": 5,
      "outputs": [
        {
          "output_type": "execute_result",
          "data": {
            "text/plain": [
              "{'C': 1, 'H': 1, 'O': 2, 'R': 1}"
            ]
          },
          "metadata": {},
          "execution_count": 5
        }
      ]
    },
    {
      "cell_type": "markdown",
      "metadata": {
        "id": "McPZ_R8ZHEp1"
      },
      "source": [
        "B)"
      ]
    },
    {
      "cell_type": "code",
      "metadata": {
        "colab": {
          "base_uri": "https://localhost:8080/"
        },
        "id": "zo228GdGHETL",
        "outputId": "12df69b2-3336-4064-d35c-27849458e1f4"
      },
      "source": [
        "def ordem_alfabetica(palavra):\n",
        "  \n",
        "  return sorted(list(letra_por_letra(palavra).items()))\n",
        "\n",
        "ordem_alfabetica('paralelepipedo')\n"
      ],
      "execution_count": 9,
      "outputs": [
        {
          "output_type": "execute_result",
          "data": {
            "text/plain": [
              "[('A', 2),\n",
              " ('D', 1),\n",
              " ('E', 3),\n",
              " ('I', 1),\n",
              " ('L', 2),\n",
              " ('O', 1),\n",
              " ('P', 3),\n",
              " ('R', 1)]"
            ]
          },
          "metadata": {},
          "execution_count": 9
        }
      ]
    },
    {
      "cell_type": "markdown",
      "metadata": {
        "id": "skh2BeZmwbvA"
      },
      "source": [
        "3. Escreva um programa que leia uma string e retorne uma tabela das letras do alfabeto em ordem alfabética que ocorrem na string junto com o número de vezes que cada letra ocorre. Deve ser ignorado se a letra ocorre em maiúscula ou minúscula (contar da mesma forma \"A\" e \"a\"). Um exemplo de saída do programa quando o usuário digita os dados “ThiS is String with Upper and lower case Letters”, seria o seguinte:\n",
        "\n",
        "a  2\n",
        "\n",
        "c  1\n",
        "\n",
        "\n",
        "d  1\n",
        "\n",
        "\n",
        "e  5\n",
        "\n",
        "\n",
        "g  1\n",
        "\n",
        "\n",
        "h  2\n",
        "\n",
        "\n",
        "i  4\n",
        "\n",
        "\n",
        "l  2\n",
        "\n",
        "\n",
        "n  2\n",
        "\n",
        "\n",
        "o  1\n",
        "\n",
        "\n",
        "p  2\n",
        "\n",
        "\n",
        "r  4\n",
        "\n",
        "\n",
        "s  5\n",
        "\n",
        "\n",
        "t  5\n",
        "\n",
        "\n",
        "u  1\n",
        "\n",
        "\n",
        "w  2"
      ]
    },
    {
      "cell_type": "code",
      "metadata": {
        "id": "DVY94OBfwgv4",
        "colab": {
          "base_uri": "https://localhost:8080/"
        },
        "outputId": "0feb63a7-4554-4c1e-f986-286e600c5a21"
      },
      "source": [
        "for i,j in ordem_alfabetica('Está é uma frase muito interessante.'):\n",
        "  ''' Para mais caracteres especiais é só ir adicionando mais ands no if '''\n",
        "  if i != ' ' and i != 'Á' and i != 'É' and i != '.':\n",
        "    print(i,j)"
      ],
      "execution_count": 16,
      "outputs": [
        {
          "output_type": "stream",
          "name": "stdout",
          "text": [
            "A 3\n",
            "E 5\n",
            "F 1\n",
            "I 2\n",
            "M 2\n",
            "N 2\n",
            "O 1\n",
            "R 2\n",
            "S 4\n",
            "T 4\n",
            "U 2\n"
          ]
        }
      ]
    }
  ]
}