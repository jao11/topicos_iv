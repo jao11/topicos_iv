{
  "nbformat": 4,
  "nbformat_minor": 0,
  "metadata": {
    "colab": {
      "name": "exercicios_aula_7.ipynb",
      "provenance": [],
      "authorship_tag": "ABX9TyPK7GOBJ9kO7rSUpAnjk+pR",
      "include_colab_link": true
    },
    "kernelspec": {
      "name": "python3",
      "display_name": "Python 3"
    },
    "language_info": {
      "name": "python"
    }
  },
  "cells": [
    {
      "cell_type": "markdown",
      "metadata": {
        "id": "view-in-github",
        "colab_type": "text"
      },
      "source": [
        "<a href=\"https://colab.research.google.com/github/jao11/topicos_iv/blob/main/exercicios_aula_7.ipynb\" target=\"_parent\"><img src=\"https://colab.research.google.com/assets/colab-badge.svg\" alt=\"Open In Colab\"/></a>"
      ]
    },
    {
      "cell_type": "markdown",
      "metadata": {
        "id": "cD1x4Uyf7RTl"
      },
      "source": [
        "AULA 7"
      ]
    },
    {
      "cell_type": "markdown",
      "metadata": {
        "id": "B5l-DJ5h8V-A"
      },
      "source": [
        "## Exercícios Parte 1"
      ]
    },
    {
      "cell_type": "markdown",
      "metadata": {
        "id": "3GKCkmcD7ZV4"
      },
      "source": [
        "1) A **conjectura de Collatz**, diz que \"Todos os inteiros positivos irão eventualmente convergir para 1 usando as regras do Collatz\". Faça um programa que verifique a conjectura de Collatz para alguns valores. As regras de Collatz são: Dado um número ***n***: \n",
        "   * se ***n*** for par, divida-o por ***2***;\n",
        "   * Se ***n*** for ímpar, atualize-o para 3*n + 1"
      ]
    },
    {
      "cell_type": "code",
      "metadata": {
        "id": "MpgI5F4-5Kws",
        "colab": {
          "base_uri": "https://localhost:8080/"
        },
        "outputId": "d855e108-1037-4b64-a634-9a52c35a66ba"
      },
      "source": [
        "def collatz(n):\n",
        "  print(n)\n",
        "  if n == 1:\n",
        "    return\n",
        "  elif n % 2 == 0:\n",
        "    collatz(n / 2)\n",
        "  else:\n",
        "    collatz((n * 3)  + 1 )\n",
        "\n",
        "\n",
        "collatz(59)"
      ],
      "execution_count": null,
      "outputs": [
        {
          "output_type": "stream",
          "name": "stdout",
          "text": [
            "59\n",
            "178\n",
            "89.0\n",
            "268.0\n",
            "134.0\n",
            "67.0\n",
            "202.0\n",
            "101.0\n",
            "304.0\n",
            "152.0\n",
            "76.0\n",
            "38.0\n",
            "19.0\n",
            "58.0\n",
            "29.0\n",
            "88.0\n",
            "44.0\n",
            "22.0\n",
            "11.0\n",
            "34.0\n",
            "17.0\n",
            "52.0\n",
            "26.0\n",
            "13.0\n",
            "40.0\n",
            "20.0\n",
            "10.0\n",
            "5.0\n",
            "16.0\n",
            "8.0\n",
            "4.0\n",
            "2.0\n",
            "1.0\n"
          ]
        }
      ]
    },
    {
      "cell_type": "markdown",
      "metadata": {
        "id": "6IWC9__68ZBU"
      },
      "source": [
        "2) Modifique a função counter para contar o número de vezes que os dígitos 0 e 5 aparecem em um dado número n. Por exemplo, n = 10568, tem 2 dígitos 0 ou 5."
      ]
    },
    {
      "cell_type": "code",
      "metadata": {
        "colab": {
          "base_uri": "https://localhost:8080/"
        },
        "id": "NqwAhh4H8dEC",
        "outputId": "0fc0c9fd-0362-4e50-ab97-5a36b9d62e29"
      },
      "source": [
        "def counter(n):\n",
        "  count = 0\n",
        "  conte = 0\n",
        "  if n == 0:\n",
        "    print('Tem um digito 0 ou 5\\nTem 1 algarismo')\n",
        "  else:\n",
        "    while n!=0:\n",
        "      if (((n % 5 and n % 2) or (n % 5)) == 0) and n != 0:\n",
        "        conte += 1\n",
        "      count = count + 1\n",
        "      n = n // 10         # divisão de inteiros\n",
        "    print(conte)\n",
        "    return count\n",
        "  \n",
        "counter(5008)"
      ],
      "execution_count": null,
      "outputs": [
        {
          "output_type": "stream",
          "name": "stdout",
          "text": [
            "3\n"
          ]
        },
        {
          "output_type": "execute_result",
          "data": {
            "text/plain": [
              "4"
            ]
          },
          "metadata": {},
          "execution_count": 1
        }
      ]
    },
    {
      "cell_type": "markdown",
      "metadata": {
        "id": "qSm-TlnA8lPM"
      },
      "source": [
        "3) Encapsule e generalize a seguinte declaração:\n",
        "\n",
        "* for i in [12, 16, 17, 24, 29]:\n",
        "*     if i % 2 == 1:  # If the number is odd\n",
        "*        break        #  ... immediately exit the loop\n",
        "*    print(i)\n",
        "* print(\"done\")\n",
        "\n"
      ]
    },
    {
      "cell_type": "code",
      "metadata": {
        "colab": {
          "base_uri": "https://localhost:8080/"
        },
        "id": "BL3k3Qdl8-m1",
        "outputId": "2d675344-cf94-400d-fd83-d5c5c3bc4e52"
      },
      "source": [
        "def odd_stop(ns):\n",
        "    for i in ns:\n",
        "        if i % 2 == 1:\n",
        "            break\n",
        "        print(i)\n",
        "    print('done')\n",
        "\n",
        "odd_stop([12, 16, 17, 24, 29])\n"
      ],
      "execution_count": null,
      "outputs": [
        {
          "output_type": "stream",
          "name": "stdout",
          "text": [
            "12\n",
            "16\n",
            "done\n"
          ]
        }
      ]
    },
    {
      "cell_type": "markdown",
      "metadata": {
        "id": "u7fOW6MP8_I6"
      },
      "source": [
        "4) O método de Newton para raiz quadrada. Suponha que você queira calcular a raiz quadrada de ***n***. Se você começar com quase qualquer aproximação, poderá calcular uma aproximação melhor (mais próxima da resposta real) com a seguinte fórmula: melhor = (approx + n/approx)/2\n",
        "\n",
        "\n",
        "Usando um loop e repetindo esta fórmula até que a melhor aproximação se aproxime o suficiente da anterior (podemos considerar uma diferença de 0,001), podemos escrever uma função para calcular a raiz quadrada.\n",
        "\n",
        "\n",
        "Esse é um exemplo de repetição **indefinida**. Com qual tipo de loop você deve escrever o seu programa?"
      ]
    },
    {
      "cell_type": "code",
      "metadata": {
        "id": "THip2NUU9CZR",
        "colab": {
          "base_uri": "https://localhost:8080/",
          "height": 54
        },
        "outputId": "a891c719-0a7b-4e6b-8499-4b7c556b2136"
      },
      "source": [
        "def raiz_newton(x, accuracy = 0.001):\n",
        "    if x < 0:\n",
        "        return 'Insira somente valores positivos.'\n",
        "    approx = x\n",
        "    while approx ** 2 > x + accuracy or approx ** 2 < x - accuracy:\n",
        "        approx = (approx + x / approx) / 2\n",
        "    return 'A raiz de {} é: {:.3f}'.format(x, approx)\n",
        "\n",
        "raiz_newton(float(input('Digite um número:')))\n"
      ],
      "execution_count": null,
      "outputs": [
        {
          "name": "stdout",
          "output_type": "stream",
          "text": [
            "Digite um número:7\n"
          ]
        },
        {
          "output_type": "execute_result",
          "data": {
            "application/vnd.google.colaboratory.intrinsic+json": {
              "type": "string"
            },
            "text/plain": [
              "'A raiz de 7.0 é: 2.646'"
            ]
          },
          "metadata": {},
          "execution_count": 27
        }
      ]
    },
    {
      "cell_type": "code",
      "metadata": {
        "colab": {
          "base_uri": "https://localhost:8080/"
        },
        "id": "E8dFMLLmb-xl",
        "outputId": "2e40c9ef-a75f-4621-fa32-20934eb9d855"
      },
      "source": [
        "\"\"\"\n",
        "Curiosidade:\n",
        "Elabore os algoritmos que cumpram suas respectivas especificações de forma recursiva. Determine a complexidade de tais algoritmos.\n",
        "\n",
        "função RaizQuad(n: Inteiro, i,s:Inteiro): Inteiro\n",
        "// assume n ≥ 0 e i ≤ ⌊√(n)⌋ < s\n",
        "// retorna ⌊√(n)⌋\n",
        "\"\"\"\n",
        "\n",
        "\n",
        "def RaizQuad(n,i,s):\n",
        "\tn >= 0\n",
        "\ti<=(n**(1/2))//1 and (n**(1/2))//1<s\n",
        "\tif (s-i)>1:\n",
        "\t\tm = (i+s)//2\n",
        "\t\tif m*m==n:\n",
        "\t\t\treturn m\n",
        "\t\telif m*m<n:\n",
        "\t\t\treturn RaizQuad(n,m,s)\n",
        "\t\telse:\n",
        "\t\t\treturn RaizQuad(n,i,m)\n",
        "\telse:\n",
        "\t\treturn i\t\t\t\t\t\n",
        "\t\t\n",
        "print(\"\\n=-=-=-=-=-=🤖️ Raiz Quadrada 🤖️ =-=-=-=-=-=-=\")\n",
        "n = int(input(\"Digite um valor para saber a raiz: \"))\n",
        "i = int(input(\"Digite o limite inferior: \"))\n",
        "s = int(input(\"Digite o limite superior: \"))\n",
        "print(\"O valor aproximado é\", RaizQuad(n,i,s))\n",
        "\t\t\t\t\t\t\n"
      ],
      "execution_count": null,
      "outputs": [
        {
          "output_type": "stream",
          "name": "stdout",
          "text": [
            "\n",
            "=-=-=-=-=-=🤖️ Raiz Quadrada 🤖️ =-=-=-=-=-=-=\n",
            "Digite um valor para saber a raiz: 10\n",
            "Digite o limite inferior: 2\n",
            "Digite o limite superior: 3\n",
            "O valor aproximado é 2\n"
          ]
        }
      ]
    },
    {
      "cell_type": "markdown",
      "metadata": {
        "id": "FYdKcY6S-L9N"
      },
      "source": [
        "## Exercícios Parte 2"
      ]
    },
    {
      "cell_type": "markdown",
      "metadata": {
        "id": "K0wLTlm2-IL8"
      },
      "source": [
        "https://penseallen.github.io/PensePython2e/05-cond-recur.html\n",
        "\n",
        "1) O módulo time fornece uma função, também chamada time, que devolve a Hora Média de Greenwich na “época”, que é um momento arbitrário usado como ponto de referência. Em sistemas UNIX, a época é primeiro de janeiro de 1970.\n",
        "\n",
        "* import time\n",
        "* time.time()\n",
        "\n",
        "Escreva um script que leia a hora atual e a converta em um tempo em horas, minutos e segundos, mais o número de dias desde a época."
      ]
    },
    {
      "cell_type": "code",
      "metadata": {
        "id": "riPqOi_z-dYo",
        "colab": {
          "base_uri": "https://localhost:8080/",
          "height": 52
        },
        "outputId": "6116a751-a31d-4b81-9e56-e665ffa49f39"
      },
      "source": [
        "import time\n",
        "\n",
        "def dias_passados():\n",
        "  dias = (time.time() / 60 / 60 / 24)\n",
        "  print('{:.1f} dias decorridos desde a época de referência.'.format(dias))\n",
        "\n",
        "def hora_atual_brasil():\n",
        "  t = time.localtime()\n",
        "  hora = t[3] - 3\n",
        "  if hora <= 0:\n",
        "    hora += 24\n",
        "  elif hora > 23:\n",
        "    hora -= 24\n",
        "  return  'A hora atual é {} h, {} min e {} s'.format(hora, t[4], t[5])\n",
        "\n",
        "\n",
        "dias_passados()\n",
        "hora_atual_brasil()\n",
        "#print(time.localtime())"
      ],
      "execution_count": null,
      "outputs": [
        {
          "output_type": "stream",
          "name": "stdout",
          "text": [
            "18880.7 dias decorridos desde a época de referência.\n"
          ]
        },
        {
          "output_type": "execute_result",
          "data": {
            "application/vnd.google.colaboratory.intrinsic+json": {
              "type": "string"
            },
            "text/plain": [
              "'A hora atual é 14 h, 40 min e 58 s'"
            ]
          },
          "metadata": {},
          "execution_count": 44
        }
      ]
    },
    {
      "cell_type": "markdown",
      "metadata": {
        "id": "3WJMsa-H-bhr"
      },
      "source": [
        "2) O último teorema de Fermat diz que não existem números inteiros a, b e c tais que `a**n + b**n == c**n` para quaisquer valores de n maiores que 2.\n",
        "   1. Escreva uma função chamada `check_fermat` que receba quatro parâmetros – a, b, c e n – e verifique se o teorema de Fermat se mantém. Se n for maior que 2 e `a**n + b**n == c**n` o programa deve imprimir, “Holy smokes, Fermat was wrong!” Senão o programa deve exibir “No, that doesn’t work.”\n",
        "\n",
        "   1. Escreva uma função que peça ao usuário para digitar valores para a, b, c e n, os converta em números inteiros e use `check_fermat` para verificar se violam o teorema de Fermat."
      ]
    },
    {
      "cell_type": "code",
      "metadata": {
        "id": "ERwJCVg5-irG",
        "colab": {
          "base_uri": "https://localhost:8080/"
        },
        "outputId": "d843dbe7-e446-47a1-8660-5d1fcf57ef5f"
      },
      "source": [
        "def check_fermat(a, b, c, n):\n",
        "  if n > 2 and a ** n + c **n == c **n:\n",
        "    print('Holy smokes, Fermat was wrong!')\n",
        "  else:\n",
        "    print('No, that doesn’t work.')\n",
        "\n",
        "def valores():\n",
        "  i = True\n",
        "  while i :\n",
        "    try:\n",
        "      a = int(input('Digite a:'))\n",
        "      b = int(input('Digite b:'))\n",
        "      c = int(input('Digite c:'))\n",
        "      n = int(input('Digite n:'))\n",
        "      check_fermat(a, b, c, n)\n",
        "      i = False\n",
        "    except:\n",
        "      print('Apenas números inteiros')\n",
        "\n",
        "valores()"
      ],
      "execution_count": 2,
      "outputs": [
        {
          "output_type": "stream",
          "name": "stdout",
          "text": [
            "Digite a:2\n",
            "Digite b:5\n",
            "Digite c:10\n",
            "Digite n:3\n",
            "No, that doesn’t work.\n"
          ]
        }
      ]
    },
    {
      "cell_type": "markdown",
      "metadata": {
        "id": "VOdjZt9u-j9y"
      },
      "source": [
        "3) Há um teste simples para ver se é possível formar um triângulo para quaisquer três comprimentos: Se algum dos três comprimentos for maior que a soma dos outros dois, então você não pode formar um triângulo. Senão, você pode. (Se a soma de dois comprimentos igualar o terceiro, eles formam um triângulo chamado “degenerado”.)\n",
        "   1. Escreva uma função chamada `is_triangle` que receba três números inteiros como argumentos, e que imprima “Yes” ou “No”, dependendo da possibilidade de formar ou não um triângulo de gravetos com os comprimentos dados.\n",
        "   1. Escreva uma função que peça ao usuário para digitar três comprimentos de gravetos, os converta em números inteiros e use `is_triangle` para verificar se os gravetos com os comprimentos dados podem formar um triângulo."
      ]
    },
    {
      "cell_type": "code",
      "metadata": {
        "id": "ym5_5g8k-r2f",
        "colab": {
          "base_uri": "https://localhost:8080/"
        },
        "outputId": "6cbd97c4-610d-4da9-d764-c458461cade9"
      },
      "source": [
        "def is_triangle(x, y, z):\n",
        "  x = int(x)\n",
        "  y = int(y)\n",
        "  z = int(z)\n",
        "  if x + y < z or x + z < y or y + z < x:\n",
        "    print('No')\n",
        "  else:\n",
        "    print('Yes')\n",
        "\n",
        "def valores():\n",
        "  i = True\n",
        "  while i :\n",
        "    try:\n",
        "      x = int(input('Digite a:'))\n",
        "      y = int(input('Digite b:'))\n",
        "      z = int(input('Digite c:'))\n",
        "      is_triangle(x, y, z)\n",
        "      i = False\n",
        "    except:\n",
        "      print('Apenas números inteiros')\n",
        "\n",
        "valores()\n"
      ],
      "execution_count": 11,
      "outputs": [
        {
          "output_type": "stream",
          "name": "stdout",
          "text": [
            "Digite a:9\n",
            "Digite b:9\n",
            "Digite c:80\n",
            "No\n",
            "Yes\n"
          ]
        }
      ]
    },
    {
      "cell_type": "markdown",
      "metadata": {
        "id": "NqsHvxf6-s89"
      },
      "source": [
        "4) Leia a próxima função e veja se consegue compreender o que ela faz (veja os exemplos no Capítulo 4). Então execute-a e veja se acertou.\n",
        "\n",
        "def draw(t, length, n):\n",
        "\n",
        "    '''\n",
        "    t: turtle ou ColabTurtle\n",
        "    length: comprimento da linha\n",
        "    n: número de iterações. deve ser maior que zero.\n",
        "    '''\n",
        "    if n == 0:\n",
        "        return\n",
        "    angle = 50\n",
        "    t.forward(length * n)\n",
        "    t.left(angle)\n",
        "    draw(t, length, n-1)\n",
        "    t.right(2 * angle)\n",
        "    draw(t, length, n-1)\n",
        "    t.left(angle)\n",
        "    t.backward(length * n)"
      ]
    },
    {
      "cell_type": "markdown",
      "metadata": {
        "id": "tGy2bYecg6Io"
      },
      "source": [
        "Resposta: Esse código imprime uma especie de árvore."
      ]
    },
    {
      "cell_type": "code",
      "metadata": {
        "id": "Ih28DU7--7oO"
      },
      "source": [
        "import turtle\n",
        "\n",
        "def draw(t, length, n):\n",
        "    '''\n",
        "    t: turtle ou ColabTurtle\n",
        "    length: comprimento da linha\n",
        "    n: número de iterações. deve ser maior que zero.\n",
        "    '''\n",
        "    if n == 0:\n",
        "        return\n",
        "    angle = 50\n",
        "    t.forward(length * n)\n",
        "    t.left(angle)\n",
        "    draw(t, length, n-1)\n",
        "    t.right(2 * angle)\n",
        "    draw(t, length, n-1)\n",
        "    t.left(angle)\n",
        "    t.backward(length * n)\n",
        "\n",
        "test = turtle.Turtle()\n",
        "draw(test, 15, 5)"
      ],
      "execution_count": null,
      "outputs": []
    },
    {
      "cell_type": "markdown",
      "metadata": {
        "id": "uwYFil19_DDs"
      },
      "source": [
        "5) A curva de Koch é um fractal que parece com o da Figura abaixo. \n",
        "![](https://github.com/PenseAllen/PensePython2e/raw/master/fig/tnkp_0502.png)\n",
        "\n",
        "Para desenhar uma curva de Koch com o comprimento x, tudo o que você tem que fazer é:\n",
        "\n",
        "1. Desenhe uma curva de Koch com o comprimento x/3.\n",
        "\n",
        "1. Vire 60 graus à esquerda.\n",
        "\n",
        "1. Desenhe uma curva de Koch com o comprimento x/3.\n",
        "\n",
        "1. Vire 120 graus à direita.\n",
        "\n",
        "1. Desenhe uma curva de Koch com o comprimento x/3.\n",
        "\n",
        "1. Vire 60 graus à esquerda.\n",
        "\n",
        "1. Desenhe uma curva de Koch com o comprimento x/3.\n",
        "\n",
        "\n",
        "A exceção é se x for menor que 3: neste caso, você pode desenhar apenas uma linha reta com o comprimento x.\n",
        "\n",
        "1. Escreva uma função chamada `koch` que receba um `turtle` (usar [trinket](https://trinket.io/turtle)) e um comprimento como parâmetros, e use o `turtle` para desenhar uma curva de Koch com o comprimento dado.\n",
        "\n",
        "1. Escreva uma função chamada `snowflake` que desenhe três curvas de Koch para fazer o traçado de um floco de neve.\n",
        "\n",
        "1. A curva de Koch pode ser generalizada de vários modos. Veja exemplos em http://en.wikipedia.org/wiki/Koch_snowflake e implemente o seu favorito."
      ]
    },
    {
      "cell_type": "code",
      "metadata": {
        "id": "5Ax7EtDC_LoC"
      },
      "source": [
        "import turtle\n",
        "\n",
        "# 1.\n",
        "def koch(t, n):\n",
        "    if n < 10:\n",
        "        t.fd(n)\n",
        "        return\n",
        "    m = n/3\n",
        "    koch(t, m)\n",
        "    t.lt(60)\n",
        "    koch(t, m)\n",
        "    t.rt(120)\n",
        "    koch(t, m)\n",
        "    t.lt(60)\n",
        "    koch(t, m)\n",
        "\n",
        "# 2.\n",
        "def snowflake(t, n):\n",
        "    for i in range(3):\n",
        "        koch(t, n)\n",
        "        t.rt(120)\n",
        "\n",
        "\n",
        "bob = turtle.Turtle()\n",
        "\n",
        "bob.pu()\n",
        "bob.goto(-150, 90)\n",
        "bob.pd()\n",
        "snowflake(bob, 300)\n",
        "\n",
        "turtle.mainloop()"
      ],
      "execution_count": null,
      "outputs": []
    }
  ]
}